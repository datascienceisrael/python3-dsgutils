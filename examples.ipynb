{
 "cells": [
  {
   "cell_type": "markdown",
   "metadata": {},
   "source": [
    "# Example usage\n",
    "\n",
    "Table of contents\n",
    "1. pd\n",
    "    - munging\n",
    "        - `drop_by_cardinality`\n",
    "        - `order_df`\n",
    "        - `camelcase2snakecase`\n",
    "    - viz\n",
    "        - `display_corr_matrix`"
   ]
  },
  {
   "cell_type": "code",
   "execution_count": 53,
   "metadata": {},
   "outputs": [
    {
     "name": "stdout",
     "output_type": "stream",
     "text": [
      "The autoreload extension is already loaded. To reload it, use:\n",
      "  %reload_ext autoreload\n"
     ]
    }
   ],
   "source": [
    "#Reload the import if necessary after changements\n",
    "%matplotlib inline\n",
    "%load_ext autoreload\n",
    "%autoreload"
   ]
  },
  {
   "cell_type": "code",
   "execution_count": 54,
   "metadata": {},
   "outputs": [],
   "source": [
    "%matplotlib inline\n",
    "\n",
    "import pandas as pd\n",
    "import numpy as np\n",
    "import matplotlib.pyplot as plt\n",
    "import seaborn as sns\n",
    "from IPython.display import display, HTML\n",
    "import dsgutils\n",
    "import random\n",
    "random.seed(3)\n"
   ]
  },
  {
   "cell_type": "markdown",
   "metadata": {},
   "source": [
    "## pd"
   ]
  },
  {
   "cell_type": "markdown",
   "metadata": {},
   "source": [
    "### munging"
   ]
  },
  {
   "cell_type": "markdown",
   "metadata": {},
   "source": [
    "#### `drop_by_cardinality`"
   ]
  },
  {
   "cell_type": "code",
   "execution_count": 3,
   "metadata": {},
   "outputs": [
    {
     "data": {
      "text/html": [
       "<div>\n",
       "<style scoped>\n",
       "    .dataframe tbody tr th:only-of-type {\n",
       "        vertical-align: middle;\n",
       "    }\n",
       "\n",
       "    .dataframe tbody tr th {\n",
       "        vertical-align: top;\n",
       "    }\n",
       "\n",
       "    .dataframe thead th {\n",
       "        text-align: right;\n",
       "    }\n",
       "</style>\n",
       "<table border=\"1\" class=\"dataframe\">\n",
       "  <thead>\n",
       "    <tr style=\"text-align: right;\">\n",
       "      <th></th>\n",
       "      <th>A</th>\n",
       "      <th>B</th>\n",
       "      <th>C</th>\n",
       "      <th>D</th>\n",
       "    </tr>\n",
       "  </thead>\n",
       "  <tbody>\n",
       "    <tr>\n",
       "      <th>0</th>\n",
       "      <td>NaN</td>\n",
       "      <td>2</td>\n",
       "      <td>NaN</td>\n",
       "      <td>1</td>\n",
       "    </tr>\n",
       "    <tr>\n",
       "      <th>1</th>\n",
       "      <td>3.0</td>\n",
       "      <td>4</td>\n",
       "      <td>NaN</td>\n",
       "      <td>1</td>\n",
       "    </tr>\n",
       "    <tr>\n",
       "      <th>2</th>\n",
       "      <td>NaN</td>\n",
       "      <td>4</td>\n",
       "      <td>NaN</td>\n",
       "      <td>1</td>\n",
       "    </tr>\n",
       "  </tbody>\n",
       "</table>\n",
       "</div>"
      ],
      "text/plain": [
       "     A  B   C  D\n",
       "0  NaN  2 NaN  1\n",
       "1  3.0  4 NaN  1\n",
       "2  NaN  4 NaN  1"
      ]
     },
     "metadata": {},
     "output_type": "display_data"
    }
   ],
   "source": [
    "# Create dataframe\n",
    "df = pd.DataFrame([[np.nan, 2, np.nan, 1], [3, 4, np.nan, 1],\n",
    "                    [np.nan, 4, np.nan, 1]],\n",
    "                  columns=list('ABCD'))\n",
    "\n",
    "display(df)"
   ]
  },
  {
   "cell_type": "markdown",
   "metadata": {},
   "source": [
    "Drop by cardinality 0, will drop null columns"
   ]
  },
  {
   "cell_type": "code",
   "execution_count": 4,
   "metadata": {},
   "outputs": [
    {
     "data": {
      "text/html": [
       "<div>\n",
       "<style scoped>\n",
       "    .dataframe tbody tr th:only-of-type {\n",
       "        vertical-align: middle;\n",
       "    }\n",
       "\n",
       "    .dataframe tbody tr th {\n",
       "        vertical-align: top;\n",
       "    }\n",
       "\n",
       "    .dataframe thead th {\n",
       "        text-align: right;\n",
       "    }\n",
       "</style>\n",
       "<table border=\"1\" class=\"dataframe\">\n",
       "  <thead>\n",
       "    <tr style=\"text-align: right;\">\n",
       "      <th></th>\n",
       "      <th>A</th>\n",
       "      <th>B</th>\n",
       "      <th>D</th>\n",
       "    </tr>\n",
       "  </thead>\n",
       "  <tbody>\n",
       "    <tr>\n",
       "      <th>0</th>\n",
       "      <td>NaN</td>\n",
       "      <td>2</td>\n",
       "      <td>1</td>\n",
       "    </tr>\n",
       "    <tr>\n",
       "      <th>1</th>\n",
       "      <td>3.0</td>\n",
       "      <td>4</td>\n",
       "      <td>1</td>\n",
       "    </tr>\n",
       "    <tr>\n",
       "      <th>2</th>\n",
       "      <td>NaN</td>\n",
       "      <td>4</td>\n",
       "      <td>1</td>\n",
       "    </tr>\n",
       "  </tbody>\n",
       "</table>\n",
       "</div>"
      ],
      "text/plain": [
       "     A  B  D\n",
       "0  NaN  2  1\n",
       "1  3.0  4  1\n",
       "2  NaN  4  1"
      ]
     },
     "metadata": {},
     "output_type": "display_data"
    }
   ],
   "source": [
    "display_df = dsgutils.pd.munging.drop_by_cardinality(df, values_to_drop=[0])\n",
    "display(display_df)"
   ]
  },
  {
   "cell_type": "markdown",
   "metadata": {},
   "source": [
    "Drop by cardinality 0 and 1, will drop columns and columns with cardinality of 1"
   ]
  },
  {
   "cell_type": "code",
   "execution_count": 5,
   "metadata": {},
   "outputs": [
    {
     "data": {
      "text/html": [
       "<div>\n",
       "<style scoped>\n",
       "    .dataframe tbody tr th:only-of-type {\n",
       "        vertical-align: middle;\n",
       "    }\n",
       "\n",
       "    .dataframe tbody tr th {\n",
       "        vertical-align: top;\n",
       "    }\n",
       "\n",
       "    .dataframe thead th {\n",
       "        text-align: right;\n",
       "    }\n",
       "</style>\n",
       "<table border=\"1\" class=\"dataframe\">\n",
       "  <thead>\n",
       "    <tr style=\"text-align: right;\">\n",
       "      <th></th>\n",
       "      <th>B</th>\n",
       "    </tr>\n",
       "  </thead>\n",
       "  <tbody>\n",
       "    <tr>\n",
       "      <th>0</th>\n",
       "      <td>2</td>\n",
       "    </tr>\n",
       "    <tr>\n",
       "      <th>1</th>\n",
       "      <td>4</td>\n",
       "    </tr>\n",
       "    <tr>\n",
       "      <th>2</th>\n",
       "      <td>4</td>\n",
       "    </tr>\n",
       "  </tbody>\n",
       "</table>\n",
       "</div>"
      ],
      "text/plain": [
       "   B\n",
       "0  2\n",
       "1  4\n",
       "2  4"
      ]
     },
     "metadata": {},
     "output_type": "display_data"
    }
   ],
   "source": [
    "df = pd.DataFrame([[np.nan, 2, np.nan, 1], [3, 4, np.nan, 1],\n",
    "                    [np.nan, 4, np.nan, 1]],\n",
    "                  columns=list('ABCD'))\n",
    "\n",
    "display_df = dsgutils.pd.munging.drop_by_cardinality(df, values_to_drop=[0, 1])\n",
    "display(display_df)"
   ]
  },
  {
   "cell_type": "markdown",
   "metadata": {},
   "source": [
    "Return the values that have been dropped"
   ]
  },
  {
   "cell_type": "code",
   "execution_count": 6,
   "metadata": {},
   "outputs": [
    {
     "data": {
      "text/html": [
       "<div>\n",
       "<style scoped>\n",
       "    .dataframe tbody tr th:only-of-type {\n",
       "        vertical-align: middle;\n",
       "    }\n",
       "\n",
       "    .dataframe tbody tr th {\n",
       "        vertical-align: top;\n",
       "    }\n",
       "\n",
       "    .dataframe thead th {\n",
       "        text-align: right;\n",
       "    }\n",
       "</style>\n",
       "<table border=\"1\" class=\"dataframe\">\n",
       "  <thead>\n",
       "    <tr style=\"text-align: right;\">\n",
       "      <th></th>\n",
       "      <th>B</th>\n",
       "    </tr>\n",
       "  </thead>\n",
       "  <tbody>\n",
       "    <tr>\n",
       "      <th>0</th>\n",
       "      <td>2</td>\n",
       "    </tr>\n",
       "    <tr>\n",
       "      <th>1</th>\n",
       "      <td>4</td>\n",
       "    </tr>\n",
       "    <tr>\n",
       "      <th>2</th>\n",
       "      <td>4</td>\n",
       "    </tr>\n",
       "  </tbody>\n",
       "</table>\n",
       "</div>"
      ],
      "text/plain": [
       "   B\n",
       "0  2\n",
       "1  4\n",
       "2  4"
      ]
     },
     "metadata": {},
     "output_type": "display_data"
    },
    {
     "name": "stdout",
     "output_type": "stream",
     "text": [
      "{'A': 1, 'C': 0, 'D': 1}\n"
     ]
    }
   ],
   "source": [
    "df = pd.DataFrame([[np.nan, 2, np.nan, 1], [3, 4, np.nan, 1],\n",
    "                    [np.nan, 4, np.nan, 1]],\n",
    "                  columns=list('ABCD'))\n",
    "\n",
    "display_df, dropped = dsgutils.pd.munging.drop_by_cardinality(df, values_to_drop=[0, 1], return_dropped=True)\n",
    "display(df)\n",
    "print(dropped)"
   ]
  },
  {
   "cell_type": "markdown",
   "metadata": {},
   "source": [
    "#### `order_df`"
   ]
  },
  {
   "cell_type": "code",
   "execution_count": 7,
   "metadata": {},
   "outputs": [
    {
     "data": {
      "text/html": [
       "<div>\n",
       "<style scoped>\n",
       "    .dataframe tbody tr th:only-of-type {\n",
       "        vertical-align: middle;\n",
       "    }\n",
       "\n",
       "    .dataframe tbody tr th {\n",
       "        vertical-align: top;\n",
       "    }\n",
       "\n",
       "    .dataframe thead th {\n",
       "        text-align: right;\n",
       "    }\n",
       "</style>\n",
       "<table border=\"1\" class=\"dataframe\">\n",
       "  <thead>\n",
       "    <tr style=\"text-align: right;\">\n",
       "      <th></th>\n",
       "      <th>A</th>\n",
       "      <th>B</th>\n",
       "      <th>C</th>\n",
       "      <th>D</th>\n",
       "    </tr>\n",
       "  </thead>\n",
       "  <tbody>\n",
       "    <tr>\n",
       "      <th>0</th>\n",
       "      <td>NaN</td>\n",
       "      <td>2</td>\n",
       "      <td>NaN</td>\n",
       "      <td>1</td>\n",
       "    </tr>\n",
       "    <tr>\n",
       "      <th>1</th>\n",
       "      <td>3.0</td>\n",
       "      <td>4</td>\n",
       "      <td>NaN</td>\n",
       "      <td>1</td>\n",
       "    </tr>\n",
       "    <tr>\n",
       "      <th>2</th>\n",
       "      <td>NaN</td>\n",
       "      <td>4</td>\n",
       "      <td>NaN</td>\n",
       "      <td>1</td>\n",
       "    </tr>\n",
       "  </tbody>\n",
       "</table>\n",
       "</div>"
      ],
      "text/plain": [
       "     A  B   C  D\n",
       "0  NaN  2 NaN  1\n",
       "1  3.0  4 NaN  1\n",
       "2  NaN  4 NaN  1"
      ]
     },
     "metadata": {},
     "output_type": "display_data"
    }
   ],
   "source": [
    "# Create dataframe\n",
    "df = pd.DataFrame([[np.nan, 2, np.nan, 1], [3, 4, np.nan, 1],\n",
    "                    [np.nan, 4, np.nan, 1]],\n",
    "                  columns=list('ABCD'))\n",
    "\n",
    "display(df)"
   ]
  },
  {
   "cell_type": "markdown",
   "metadata": {},
   "source": [
    "Bring `C` and `D` to front"
   ]
  },
  {
   "cell_type": "code",
   "execution_count": 8,
   "metadata": {},
   "outputs": [
    {
     "data": {
      "text/html": [
       "<div>\n",
       "<style scoped>\n",
       "    .dataframe tbody tr th:only-of-type {\n",
       "        vertical-align: middle;\n",
       "    }\n",
       "\n",
       "    .dataframe tbody tr th {\n",
       "        vertical-align: top;\n",
       "    }\n",
       "\n",
       "    .dataframe thead th {\n",
       "        text-align: right;\n",
       "    }\n",
       "</style>\n",
       "<table border=\"1\" class=\"dataframe\">\n",
       "  <thead>\n",
       "    <tr style=\"text-align: right;\">\n",
       "      <th></th>\n",
       "      <th>C</th>\n",
       "      <th>D</th>\n",
       "      <th>B</th>\n",
       "      <th>A</th>\n",
       "    </tr>\n",
       "  </thead>\n",
       "  <tbody>\n",
       "    <tr>\n",
       "      <th>0</th>\n",
       "      <td>NaN</td>\n",
       "      <td>1</td>\n",
       "      <td>2</td>\n",
       "      <td>NaN</td>\n",
       "    </tr>\n",
       "    <tr>\n",
       "      <th>1</th>\n",
       "      <td>NaN</td>\n",
       "      <td>1</td>\n",
       "      <td>4</td>\n",
       "      <td>3.0</td>\n",
       "    </tr>\n",
       "    <tr>\n",
       "      <th>2</th>\n",
       "      <td>NaN</td>\n",
       "      <td>1</td>\n",
       "      <td>4</td>\n",
       "      <td>NaN</td>\n",
       "    </tr>\n",
       "  </tbody>\n",
       "</table>\n",
       "</div>"
      ],
      "text/plain": [
       "    C  D  B    A\n",
       "0 NaN  1  2  NaN\n",
       "1 NaN  1  4  3.0\n",
       "2 NaN  1  4  NaN"
      ]
     },
     "metadata": {},
     "output_type": "display_data"
    }
   ],
   "source": [
    "display_df = dsgutils.pd.munging.order_df(df, first=['C', 'D'])\n",
    "display(display_df)"
   ]
  },
  {
   "cell_type": "markdown",
   "metadata": {},
   "source": [
    "Put `C` in the end"
   ]
  },
  {
   "cell_type": "code",
   "execution_count": 9,
   "metadata": {},
   "outputs": [
    {
     "data": {
      "text/html": [
       "<div>\n",
       "<style scoped>\n",
       "    .dataframe tbody tr th:only-of-type {\n",
       "        vertical-align: middle;\n",
       "    }\n",
       "\n",
       "    .dataframe tbody tr th {\n",
       "        vertical-align: top;\n",
       "    }\n",
       "\n",
       "    .dataframe thead th {\n",
       "        text-align: right;\n",
       "    }\n",
       "</style>\n",
       "<table border=\"1\" class=\"dataframe\">\n",
       "  <thead>\n",
       "    <tr style=\"text-align: right;\">\n",
       "      <th></th>\n",
       "      <th>B</th>\n",
       "      <th>A</th>\n",
       "      <th>D</th>\n",
       "      <th>C</th>\n",
       "    </tr>\n",
       "  </thead>\n",
       "  <tbody>\n",
       "    <tr>\n",
       "      <th>0</th>\n",
       "      <td>2</td>\n",
       "      <td>NaN</td>\n",
       "      <td>1</td>\n",
       "      <td>NaN</td>\n",
       "    </tr>\n",
       "    <tr>\n",
       "      <th>1</th>\n",
       "      <td>4</td>\n",
       "      <td>3.0</td>\n",
       "      <td>1</td>\n",
       "      <td>NaN</td>\n",
       "    </tr>\n",
       "    <tr>\n",
       "      <th>2</th>\n",
       "      <td>4</td>\n",
       "      <td>NaN</td>\n",
       "      <td>1</td>\n",
       "      <td>NaN</td>\n",
       "    </tr>\n",
       "  </tbody>\n",
       "</table>\n",
       "</div>"
      ],
      "text/plain": [
       "   B    A  D   C\n",
       "0  2  NaN  1 NaN\n",
       "1  4  3.0  1 NaN\n",
       "2  4  NaN  1 NaN"
      ]
     },
     "metadata": {},
     "output_type": "display_data"
    }
   ],
   "source": [
    "display_df = dsgutils.pd.munging.order_df(df, last=['C'])\n",
    "display(display_df)"
   ]
  },
  {
   "cell_type": "markdown",
   "metadata": {},
   "source": [
    "#### `camelcase2snake_case`"
   ]
  },
  {
   "cell_type": "code",
   "execution_count": 10,
   "metadata": {},
   "outputs": [
    {
     "data": {
      "text/html": [
       "<div>\n",
       "<style scoped>\n",
       "    .dataframe tbody tr th:only-of-type {\n",
       "        vertical-align: middle;\n",
       "    }\n",
       "\n",
       "    .dataframe tbody tr th {\n",
       "        vertical-align: top;\n",
       "    }\n",
       "\n",
       "    .dataframe thead th {\n",
       "        text-align: right;\n",
       "    }\n",
       "</style>\n",
       "<table border=\"1\" class=\"dataframe\">\n",
       "  <thead>\n",
       "    <tr style=\"text-align: right;\">\n",
       "      <th></th>\n",
       "      <th>productID</th>\n",
       "      <th>StoreID</th>\n",
       "      <th>customerId</th>\n",
       "      <th>dayID</th>\n",
       "    </tr>\n",
       "  </thead>\n",
       "  <tbody>\n",
       "    <tr>\n",
       "      <th>0</th>\n",
       "      <td>NaN</td>\n",
       "      <td>2</td>\n",
       "      <td>NaN</td>\n",
       "      <td>1</td>\n",
       "    </tr>\n",
       "    <tr>\n",
       "      <th>1</th>\n",
       "      <td>3.0</td>\n",
       "      <td>4</td>\n",
       "      <td>NaN</td>\n",
       "      <td>1</td>\n",
       "    </tr>\n",
       "    <tr>\n",
       "      <th>2</th>\n",
       "      <td>NaN</td>\n",
       "      <td>4</td>\n",
       "      <td>NaN</td>\n",
       "      <td>1</td>\n",
       "    </tr>\n",
       "  </tbody>\n",
       "</table>\n",
       "</div>"
      ],
      "text/plain": [
       "   productID  StoreID  customerId  dayID\n",
       "0        NaN        2         NaN      1\n",
       "1        3.0        4         NaN      1\n",
       "2        NaN        4         NaN      1"
      ]
     },
     "metadata": {},
     "output_type": "display_data"
    }
   ],
   "source": [
    "df = pd.DataFrame([[np.nan, 2, np.nan, 1], [3, 4, np.nan, 1],\n",
    "                    [np.nan, 4, np.nan, 1]],\n",
    "                  columns=['productID', 'StoreID', 'customerId', 'dayID'])\n",
    "\n",
    "display(df)"
   ]
  },
  {
   "cell_type": "code",
   "execution_count": 11,
   "metadata": {},
   "outputs": [
    {
     "data": {
      "text/html": [
       "<div>\n",
       "<style scoped>\n",
       "    .dataframe tbody tr th:only-of-type {\n",
       "        vertical-align: middle;\n",
       "    }\n",
       "\n",
       "    .dataframe tbody tr th {\n",
       "        vertical-align: top;\n",
       "    }\n",
       "\n",
       "    .dataframe thead th {\n",
       "        text-align: right;\n",
       "    }\n",
       "</style>\n",
       "<table border=\"1\" class=\"dataframe\">\n",
       "  <thead>\n",
       "    <tr style=\"text-align: right;\">\n",
       "      <th></th>\n",
       "      <th>product_id</th>\n",
       "      <th>store_id</th>\n",
       "      <th>customer_id</th>\n",
       "      <th>day_id</th>\n",
       "    </tr>\n",
       "  </thead>\n",
       "  <tbody>\n",
       "    <tr>\n",
       "      <th>0</th>\n",
       "      <td>NaN</td>\n",
       "      <td>2</td>\n",
       "      <td>NaN</td>\n",
       "      <td>1</td>\n",
       "    </tr>\n",
       "    <tr>\n",
       "      <th>1</th>\n",
       "      <td>3.0</td>\n",
       "      <td>4</td>\n",
       "      <td>NaN</td>\n",
       "      <td>1</td>\n",
       "    </tr>\n",
       "    <tr>\n",
       "      <th>2</th>\n",
       "      <td>NaN</td>\n",
       "      <td>4</td>\n",
       "      <td>NaN</td>\n",
       "      <td>1</td>\n",
       "    </tr>\n",
       "  </tbody>\n",
       "</table>\n",
       "</div>"
      ],
      "text/plain": [
       "   product_id  store_id  customer_id  day_id\n",
       "0         NaN         2          NaN       1\n",
       "1         3.0         4          NaN       1\n",
       "2         NaN         4          NaN       1"
      ]
     },
     "metadata": {},
     "output_type": "display_data"
    }
   ],
   "source": [
    "display_df = dsgutils.pd.munging.camelcase2snake_case(df)\n",
    "display(display_df)"
   ]
  },
  {
   "cell_type": "markdown",
   "metadata": {},
   "source": [
    "#### `pivot_by_2_categories`"
   ]
  },
  {
   "cell_type": "code",
   "execution_count": 12,
   "metadata": {},
   "outputs": [
    {
     "data": {
      "text/html": [
       "<div>\n",
       "<style scoped>\n",
       "    .dataframe tbody tr th:only-of-type {\n",
       "        vertical-align: middle;\n",
       "    }\n",
       "\n",
       "    .dataframe tbody tr th {\n",
       "        vertical-align: top;\n",
       "    }\n",
       "\n",
       "    .dataframe thead th {\n",
       "        text-align: right;\n",
       "    }\n",
       "</style>\n",
       "<table border=\"1\" class=\"dataframe\">\n",
       "  <thead>\n",
       "    <tr style=\"text-align: right;\">\n",
       "      <th></th>\n",
       "      <th>product_id</th>\n",
       "      <th>store_id</th>\n",
       "      <th>customer_id</th>\n",
       "      <th>day_id</th>\n",
       "      <th>product_name</th>\n",
       "      <th>product_brand</th>\n",
       "      <th>month</th>\n",
       "      <th>year</th>\n",
       "      <th>date</th>\n",
       "    </tr>\n",
       "  </thead>\n",
       "  <tbody>\n",
       "    <tr>\n",
       "      <th>0</th>\n",
       "      <td>2.0</td>\n",
       "      <td>0.0</td>\n",
       "      <td>33.0</td>\n",
       "      <td>3.0</td>\n",
       "      <td>tee-shirt</td>\n",
       "      <td>addidas</td>\n",
       "      <td>may</td>\n",
       "      <td>2017</td>\n",
       "      <td>2018-07-01</td>\n",
       "    </tr>\n",
       "    <tr>\n",
       "      <th>1</th>\n",
       "      <td>5.0</td>\n",
       "      <td>1.0</td>\n",
       "      <td>25.0</td>\n",
       "      <td>29.0</td>\n",
       "      <td>short</td>\n",
       "      <td>puma</td>\n",
       "      <td>dec</td>\n",
       "      <td>2017</td>\n",
       "      <td>2017-03-01</td>\n",
       "    </tr>\n",
       "    <tr>\n",
       "      <th>2</th>\n",
       "      <td>4.0</td>\n",
       "      <td>2.0</td>\n",
       "      <td>5.0</td>\n",
       "      <td>18.0</td>\n",
       "      <td>basket</td>\n",
       "      <td>addidas</td>\n",
       "      <td>dec</td>\n",
       "      <td>2017</td>\n",
       "      <td>2018-09-01</td>\n",
       "    </tr>\n",
       "    <tr>\n",
       "      <th>3</th>\n",
       "      <td>3.0</td>\n",
       "      <td>1.0</td>\n",
       "      <td>35.0</td>\n",
       "      <td>30.0</td>\n",
       "      <td>basket</td>\n",
       "      <td>oxbow</td>\n",
       "      <td>sept</td>\n",
       "      <td>2017</td>\n",
       "      <td>2018-08-01</td>\n",
       "    </tr>\n",
       "    <tr>\n",
       "      <th>4</th>\n",
       "      <td>4.0</td>\n",
       "      <td>1.0</td>\n",
       "      <td>21.0</td>\n",
       "      <td>1.0</td>\n",
       "      <td>short</td>\n",
       "      <td>addidas</td>\n",
       "      <td>dec</td>\n",
       "      <td>2017</td>\n",
       "      <td>2017-12-01</td>\n",
       "    </tr>\n",
       "    <tr>\n",
       "      <th>5</th>\n",
       "      <td>8.0</td>\n",
       "      <td>2.0</td>\n",
       "      <td>16.0</td>\n",
       "      <td>18.0</td>\n",
       "      <td>basket</td>\n",
       "      <td>oxbow</td>\n",
       "      <td>dec</td>\n",
       "      <td>2018</td>\n",
       "      <td>2017-07-01</td>\n",
       "    </tr>\n",
       "    <tr>\n",
       "      <th>6</th>\n",
       "      <td>2.0</td>\n",
       "      <td>1.0</td>\n",
       "      <td>36.0</td>\n",
       "      <td>28.0</td>\n",
       "      <td>basket</td>\n",
       "      <td>nike</td>\n",
       "      <td>april</td>\n",
       "      <td>2018</td>\n",
       "      <td>2017-09-01</td>\n",
       "    </tr>\n",
       "    <tr>\n",
       "      <th>7</th>\n",
       "      <td>6.0</td>\n",
       "      <td>1.0</td>\n",
       "      <td>35.0</td>\n",
       "      <td>9.0</td>\n",
       "      <td>basket</td>\n",
       "      <td>addidas</td>\n",
       "      <td>july</td>\n",
       "      <td>2018</td>\n",
       "      <td>2017-02-01</td>\n",
       "    </tr>\n",
       "    <tr>\n",
       "      <th>8</th>\n",
       "      <td>4.0</td>\n",
       "      <td>1.0</td>\n",
       "      <td>2.0</td>\n",
       "      <td>27.0</td>\n",
       "      <td>basket</td>\n",
       "      <td>puma</td>\n",
       "      <td>may</td>\n",
       "      <td>2017</td>\n",
       "      <td>2018-12-01</td>\n",
       "    </tr>\n",
       "    <tr>\n",
       "      <th>9</th>\n",
       "      <td>4.0</td>\n",
       "      <td>1.0</td>\n",
       "      <td>21.0</td>\n",
       "      <td>26.0</td>\n",
       "      <td>basket</td>\n",
       "      <td>puma</td>\n",
       "      <td>dec</td>\n",
       "      <td>2017</td>\n",
       "      <td>2018-05-01</td>\n",
       "    </tr>\n",
       "  </tbody>\n",
       "</table>\n",
       "</div>"
      ],
      "text/plain": [
       "  product_id store_id customer_id day_id product_name product_brand  month  \\\n",
       "0        2.0      0.0        33.0    3.0    tee-shirt       addidas    may   \n",
       "1        5.0      1.0        25.0   29.0        short          puma    dec   \n",
       "2        4.0      2.0         5.0   18.0       basket       addidas    dec   \n",
       "3        3.0      1.0        35.0   30.0       basket         oxbow   sept   \n",
       "4        4.0      1.0        21.0    1.0        short       addidas    dec   \n",
       "5        8.0      2.0        16.0   18.0       basket         oxbow    dec   \n",
       "6        2.0      1.0        36.0   28.0       basket          nike  april   \n",
       "7        6.0      1.0        35.0    9.0       basket       addidas   july   \n",
       "8        4.0      1.0         2.0   27.0       basket          puma    may   \n",
       "9        4.0      1.0        21.0   26.0       basket          puma    dec   \n",
       "\n",
       "   year       date  \n",
       "0  2017 2018-07-01  \n",
       "1  2017 2017-03-01  \n",
       "2  2017 2018-09-01  \n",
       "3  2017 2018-08-01  \n",
       "4  2017 2017-12-01  \n",
       "5  2018 2017-07-01  \n",
       "6  2018 2017-09-01  \n",
       "7  2018 2017-02-01  \n",
       "8  2017 2018-12-01  \n",
       "9  2017 2018-05-01  "
      ]
     },
     "execution_count": 12,
     "metadata": {},
     "output_type": "execute_result"
    }
   ],
   "source": [
    "import random\n",
    "product_name_list = ['basket', 'tee-shirt', 'short']*100\n",
    "product_brand_list = ['nike', 'addidas', 'puma', 'oxbow']*100\n",
    "df_prod = pd.DataFrame(np.transpose([np.round(np.random.rand(100)*10),\n",
    "                                     np.round(np.random.rand(100)*3),\n",
    "                                     np.round(np.random.rand(100)*45), \n",
    "                                     np.round(np.random.rand(100)*30),\n",
    "                                     random.sample(product_name_list, k = 100),\n",
    "                                     random.sample(product_brand_list, k = 100)\n",
    "                                     ]),\n",
    "                       columns=['product_id', 'store_id', 'customer_id', 'day_id', 'product_name', 'product_brand'])\n",
    "                  \n",
    "df_prod['month'] = random.sample(['jan', 'fev', 'mars', 'april', 'may', 'june', 'july', 'aug', 'sept', 'oct', 'nov', 'dec']*100, k = 100)\n",
    "df_prod['year']= random.sample(['2017', '2018']*100, k = 100)\n",
    "df_prod['date'] =random.sample(['01/01/2017', '02/01/2017','03/01/2017', '04/01/2017','05/01/2017', '06/01/2017', '07/01/2017', '08/01/2017', '09/01/2017', '10/01/2017', '11/01/2017', '12/01/2017',\n",
    "                               '01/01/2017', '02/01/2017','03/01/2017', '04/01/2018','05/01/2018', '06/01/2018', '07/01/2018', '08/01/2018', '09/01/2018', '10/01/2018', '11/01/2018', '12/01/2018']*100, k = 100)\n",
    "df_prod['date'] = pd.to_datetime(df_prod['date'])\n",
    "df_prod.head(10)"
   ]
  },
  {
   "cell_type": "code",
   "execution_count": 13,
   "metadata": {},
   "outputs": [
    {
     "data": {
      "text/html": [
       "<div>\n",
       "<style scoped>\n",
       "    .dataframe tbody tr th:only-of-type {\n",
       "        vertical-align: middle;\n",
       "    }\n",
       "\n",
       "    .dataframe tbody tr th {\n",
       "        vertical-align: top;\n",
       "    }\n",
       "\n",
       "    .dataframe thead th {\n",
       "        text-align: right;\n",
       "    }\n",
       "</style>\n",
       "<table border=\"1\" class=\"dataframe\">\n",
       "  <thead>\n",
       "    <tr style=\"text-align: right;\">\n",
       "      <th>day_id</th>\n",
       "      <th>0.0</th>\n",
       "      <th>1.0</th>\n",
       "      <th>10.0</th>\n",
       "      <th>11.0</th>\n",
       "      <th>12.0</th>\n",
       "      <th>13.0</th>\n",
       "      <th>14.0</th>\n",
       "      <th>15.0</th>\n",
       "      <th>16.0</th>\n",
       "      <th>17.0</th>\n",
       "      <th>...</th>\n",
       "      <th>28.0</th>\n",
       "      <th>29.0</th>\n",
       "      <th>3.0</th>\n",
       "      <th>30.0</th>\n",
       "      <th>4.0</th>\n",
       "      <th>5.0</th>\n",
       "      <th>6.0</th>\n",
       "      <th>7.0</th>\n",
       "      <th>8.0</th>\n",
       "      <th>9.0</th>\n",
       "    </tr>\n",
       "    <tr>\n",
       "      <th>store_id</th>\n",
       "      <th></th>\n",
       "      <th></th>\n",
       "      <th></th>\n",
       "      <th></th>\n",
       "      <th></th>\n",
       "      <th></th>\n",
       "      <th></th>\n",
       "      <th></th>\n",
       "      <th></th>\n",
       "      <th></th>\n",
       "      <th></th>\n",
       "      <th></th>\n",
       "      <th></th>\n",
       "      <th></th>\n",
       "      <th></th>\n",
       "      <th></th>\n",
       "      <th></th>\n",
       "      <th></th>\n",
       "      <th></th>\n",
       "      <th></th>\n",
       "      <th></th>\n",
       "    </tr>\n",
       "  </thead>\n",
       "  <tbody>\n",
       "    <tr>\n",
       "      <th>0.0</th>\n",
       "      <td>NaN</td>\n",
       "      <td>NaN</td>\n",
       "      <td>NaN</td>\n",
       "      <td>2.0</td>\n",
       "      <td>1.0</td>\n",
       "      <td>1.0</td>\n",
       "      <td>NaN</td>\n",
       "      <td>2.0</td>\n",
       "      <td>NaN</td>\n",
       "      <td>1.0</td>\n",
       "      <td>...</td>\n",
       "      <td>NaN</td>\n",
       "      <td>NaN</td>\n",
       "      <td>1.0</td>\n",
       "      <td>1.0</td>\n",
       "      <td>2.0</td>\n",
       "      <td>NaN</td>\n",
       "      <td>1.0</td>\n",
       "      <td>NaN</td>\n",
       "      <td>NaN</td>\n",
       "      <td>NaN</td>\n",
       "    </tr>\n",
       "    <tr>\n",
       "      <th>1.0</th>\n",
       "      <td>1.0</td>\n",
       "      <td>2.0</td>\n",
       "      <td>1.0</td>\n",
       "      <td>NaN</td>\n",
       "      <td>NaN</td>\n",
       "      <td>NaN</td>\n",
       "      <td>NaN</td>\n",
       "      <td>NaN</td>\n",
       "      <td>NaN</td>\n",
       "      <td>1.0</td>\n",
       "      <td>...</td>\n",
       "      <td>2.0</td>\n",
       "      <td>2.0</td>\n",
       "      <td>NaN</td>\n",
       "      <td>1.0</td>\n",
       "      <td>NaN</td>\n",
       "      <td>1.0</td>\n",
       "      <td>NaN</td>\n",
       "      <td>NaN</td>\n",
       "      <td>2.0</td>\n",
       "      <td>3.0</td>\n",
       "    </tr>\n",
       "    <tr>\n",
       "      <th>2.0</th>\n",
       "      <td>NaN</td>\n",
       "      <td>3.0</td>\n",
       "      <td>1.0</td>\n",
       "      <td>1.0</td>\n",
       "      <td>NaN</td>\n",
       "      <td>1.0</td>\n",
       "      <td>2.0</td>\n",
       "      <td>2.0</td>\n",
       "      <td>1.0</td>\n",
       "      <td>2.0</td>\n",
       "      <td>...</td>\n",
       "      <td>1.0</td>\n",
       "      <td>1.0</td>\n",
       "      <td>NaN</td>\n",
       "      <td>NaN</td>\n",
       "      <td>2.0</td>\n",
       "      <td>5.0</td>\n",
       "      <td>NaN</td>\n",
       "      <td>1.0</td>\n",
       "      <td>NaN</td>\n",
       "      <td>1.0</td>\n",
       "    </tr>\n",
       "    <tr>\n",
       "      <th>3.0</th>\n",
       "      <td>NaN</td>\n",
       "      <td>NaN</td>\n",
       "      <td>1.0</td>\n",
       "      <td>1.0</td>\n",
       "      <td>1.0</td>\n",
       "      <td>1.0</td>\n",
       "      <td>1.0</td>\n",
       "      <td>NaN</td>\n",
       "      <td>NaN</td>\n",
       "      <td>NaN</td>\n",
       "      <td>...</td>\n",
       "      <td>NaN</td>\n",
       "      <td>NaN</td>\n",
       "      <td>1.0</td>\n",
       "      <td>NaN</td>\n",
       "      <td>2.0</td>\n",
       "      <td>NaN</td>\n",
       "      <td>NaN</td>\n",
       "      <td>NaN</td>\n",
       "      <td>NaN</td>\n",
       "      <td>1.0</td>\n",
       "    </tr>\n",
       "  </tbody>\n",
       "</table>\n",
       "<p>4 rows × 31 columns</p>\n",
       "</div>"
      ],
      "text/plain": [
       "day_id    0.0  1.0  10.0  11.0  12.0  13.0  14.0  15.0  16.0  17.0 ...   28.0  \\\n",
       "store_id                                                           ...          \n",
       "0.0       NaN  NaN   NaN   2.0   1.0   1.0   NaN   2.0   NaN   1.0 ...    NaN   \n",
       "1.0       1.0  2.0   1.0   NaN   NaN   NaN   NaN   NaN   NaN   1.0 ...    2.0   \n",
       "2.0       NaN  3.0   1.0   1.0   NaN   1.0   2.0   2.0   1.0   2.0 ...    1.0   \n",
       "3.0       NaN  NaN   1.0   1.0   1.0   1.0   1.0   NaN   NaN   NaN ...    NaN   \n",
       "\n",
       "day_id    29.0  3.0  30.0  4.0  5.0  6.0  7.0  8.0  9.0  \n",
       "store_id                                                 \n",
       "0.0        NaN  1.0   1.0  2.0  NaN  1.0  NaN  NaN  NaN  \n",
       "1.0        2.0  NaN   1.0  NaN  1.0  NaN  NaN  2.0  3.0  \n",
       "2.0        1.0  NaN   NaN  2.0  5.0  NaN  1.0  NaN  1.0  \n",
       "3.0        NaN  1.0   NaN  2.0  NaN  NaN  NaN  NaN  1.0  \n",
       "\n",
       "[4 rows x 31 columns]"
      ]
     },
     "execution_count": 13,
     "metadata": {},
     "output_type": "execute_result"
    }
   ],
   "source": [
    "dsgutils.pd.munging.pivot_by_2_categories(df_prod, 'store_id', 'day_id')"
   ]
  },
  {
   "cell_type": "markdown",
   "metadata": {},
   "source": [
    "#### `date_to_month_year`"
   ]
  },
  {
   "cell_type": "code",
   "execution_count": 14,
   "metadata": {},
   "outputs": [],
   "source": [
    "df_new = dsgutils.pd.munging.date_to_month_year(df_prod, 'date')"
   ]
  },
  {
   "cell_type": "code",
   "execution_count": 15,
   "metadata": {},
   "outputs": [
    {
     "data": {
      "text/html": [
       "<div>\n",
       "<style scoped>\n",
       "    .dataframe tbody tr th:only-of-type {\n",
       "        vertical-align: middle;\n",
       "    }\n",
       "\n",
       "    .dataframe tbody tr th {\n",
       "        vertical-align: top;\n",
       "    }\n",
       "\n",
       "    .dataframe thead th {\n",
       "        text-align: right;\n",
       "    }\n",
       "</style>\n",
       "<table border=\"1\" class=\"dataframe\">\n",
       "  <thead>\n",
       "    <tr style=\"text-align: right;\">\n",
       "      <th></th>\n",
       "      <th>product_id</th>\n",
       "      <th>store_id</th>\n",
       "      <th>customer_id</th>\n",
       "      <th>day_id</th>\n",
       "      <th>product_name</th>\n",
       "      <th>product_brand</th>\n",
       "      <th>month</th>\n",
       "      <th>year</th>\n",
       "      <th>date</th>\n",
       "      <th>date_year</th>\n",
       "      <th>date_month</th>\n",
       "    </tr>\n",
       "  </thead>\n",
       "  <tbody>\n",
       "    <tr>\n",
       "      <th>0</th>\n",
       "      <td>2.0</td>\n",
       "      <td>0.0</td>\n",
       "      <td>33.0</td>\n",
       "      <td>3.0</td>\n",
       "      <td>tee-shirt</td>\n",
       "      <td>addidas</td>\n",
       "      <td>may</td>\n",
       "      <td>2017</td>\n",
       "      <td>2018-07-01</td>\n",
       "      <td>2018</td>\n",
       "      <td>7</td>\n",
       "    </tr>\n",
       "    <tr>\n",
       "      <th>1</th>\n",
       "      <td>5.0</td>\n",
       "      <td>1.0</td>\n",
       "      <td>25.0</td>\n",
       "      <td>29.0</td>\n",
       "      <td>short</td>\n",
       "      <td>puma</td>\n",
       "      <td>dec</td>\n",
       "      <td>2017</td>\n",
       "      <td>2017-03-01</td>\n",
       "      <td>2017</td>\n",
       "      <td>3</td>\n",
       "    </tr>\n",
       "    <tr>\n",
       "      <th>2</th>\n",
       "      <td>4.0</td>\n",
       "      <td>2.0</td>\n",
       "      <td>5.0</td>\n",
       "      <td>18.0</td>\n",
       "      <td>basket</td>\n",
       "      <td>addidas</td>\n",
       "      <td>dec</td>\n",
       "      <td>2017</td>\n",
       "      <td>2018-09-01</td>\n",
       "      <td>2018</td>\n",
       "      <td>9</td>\n",
       "    </tr>\n",
       "    <tr>\n",
       "      <th>3</th>\n",
       "      <td>3.0</td>\n",
       "      <td>1.0</td>\n",
       "      <td>35.0</td>\n",
       "      <td>30.0</td>\n",
       "      <td>basket</td>\n",
       "      <td>oxbow</td>\n",
       "      <td>sept</td>\n",
       "      <td>2017</td>\n",
       "      <td>2018-08-01</td>\n",
       "      <td>2018</td>\n",
       "      <td>8</td>\n",
       "    </tr>\n",
       "    <tr>\n",
       "      <th>4</th>\n",
       "      <td>4.0</td>\n",
       "      <td>1.0</td>\n",
       "      <td>21.0</td>\n",
       "      <td>1.0</td>\n",
       "      <td>short</td>\n",
       "      <td>addidas</td>\n",
       "      <td>dec</td>\n",
       "      <td>2017</td>\n",
       "      <td>2017-12-01</td>\n",
       "      <td>2017</td>\n",
       "      <td>12</td>\n",
       "    </tr>\n",
       "  </tbody>\n",
       "</table>\n",
       "</div>"
      ],
      "text/plain": [
       "  product_id store_id customer_id day_id product_name product_brand month  \\\n",
       "0        2.0      0.0        33.0    3.0    tee-shirt       addidas   may   \n",
       "1        5.0      1.0        25.0   29.0        short          puma   dec   \n",
       "2        4.0      2.0         5.0   18.0       basket       addidas   dec   \n",
       "3        3.0      1.0        35.0   30.0       basket         oxbow  sept   \n",
       "4        4.0      1.0        21.0    1.0        short       addidas   dec   \n",
       "\n",
       "   year       date  date_year  date_month  \n",
       "0  2017 2018-07-01       2018           7  \n",
       "1  2017 2017-03-01       2017           3  \n",
       "2  2017 2018-09-01       2018           9  \n",
       "3  2017 2018-08-01       2018           8  \n",
       "4  2017 2017-12-01       2017          12  "
      ]
     },
     "execution_count": 15,
     "metadata": {},
     "output_type": "execute_result"
    }
   ],
   "source": [
    "df_new.head(5)"
   ]
  },
  {
   "cell_type": "markdown",
   "metadata": {},
   "source": [
    "#### `delete_column_to_ignore`"
   ]
  },
  {
   "cell_type": "code",
   "execution_count": 16,
   "metadata": {},
   "outputs": [
    {
     "data": {
      "text/markdown": [
       "* Columns *product_brand* removed from DataFrame"
      ],
      "text/plain": [
       "<IPython.core.display.Markdown object>"
      ]
     },
     "metadata": {},
     "output_type": "display_data"
    },
    {
     "data": {
      "text/html": [
       "<div>\n",
       "<style scoped>\n",
       "    .dataframe tbody tr th:only-of-type {\n",
       "        vertical-align: middle;\n",
       "    }\n",
       "\n",
       "    .dataframe tbody tr th {\n",
       "        vertical-align: top;\n",
       "    }\n",
       "\n",
       "    .dataframe thead th {\n",
       "        text-align: right;\n",
       "    }\n",
       "</style>\n",
       "<table border=\"1\" class=\"dataframe\">\n",
       "  <thead>\n",
       "    <tr style=\"text-align: right;\">\n",
       "      <th></th>\n",
       "      <th>product_id</th>\n",
       "      <th>store_id</th>\n",
       "      <th>customer_id</th>\n",
       "      <th>day_id</th>\n",
       "      <th>product_name</th>\n",
       "      <th>month</th>\n",
       "      <th>year</th>\n",
       "      <th>date</th>\n",
       "      <th>date_year</th>\n",
       "      <th>date_month</th>\n",
       "    </tr>\n",
       "  </thead>\n",
       "  <tbody>\n",
       "    <tr>\n",
       "      <th>0</th>\n",
       "      <td>2.0</td>\n",
       "      <td>0.0</td>\n",
       "      <td>33.0</td>\n",
       "      <td>3.0</td>\n",
       "      <td>tee-shirt</td>\n",
       "      <td>may</td>\n",
       "      <td>2017</td>\n",
       "      <td>2018-07-01</td>\n",
       "      <td>2018</td>\n",
       "      <td>7</td>\n",
       "    </tr>\n",
       "    <tr>\n",
       "      <th>1</th>\n",
       "      <td>5.0</td>\n",
       "      <td>1.0</td>\n",
       "      <td>25.0</td>\n",
       "      <td>29.0</td>\n",
       "      <td>short</td>\n",
       "      <td>dec</td>\n",
       "      <td>2017</td>\n",
       "      <td>2017-03-01</td>\n",
       "      <td>2017</td>\n",
       "      <td>3</td>\n",
       "    </tr>\n",
       "    <tr>\n",
       "      <th>2</th>\n",
       "      <td>4.0</td>\n",
       "      <td>2.0</td>\n",
       "      <td>5.0</td>\n",
       "      <td>18.0</td>\n",
       "      <td>basket</td>\n",
       "      <td>dec</td>\n",
       "      <td>2017</td>\n",
       "      <td>2018-09-01</td>\n",
       "      <td>2018</td>\n",
       "      <td>9</td>\n",
       "    </tr>\n",
       "    <tr>\n",
       "      <th>3</th>\n",
       "      <td>3.0</td>\n",
       "      <td>1.0</td>\n",
       "      <td>35.0</td>\n",
       "      <td>30.0</td>\n",
       "      <td>basket</td>\n",
       "      <td>sept</td>\n",
       "      <td>2017</td>\n",
       "      <td>2018-08-01</td>\n",
       "      <td>2018</td>\n",
       "      <td>8</td>\n",
       "    </tr>\n",
       "    <tr>\n",
       "      <th>4</th>\n",
       "      <td>4.0</td>\n",
       "      <td>1.0</td>\n",
       "      <td>21.0</td>\n",
       "      <td>1.0</td>\n",
       "      <td>short</td>\n",
       "      <td>dec</td>\n",
       "      <td>2017</td>\n",
       "      <td>2017-12-01</td>\n",
       "      <td>2017</td>\n",
       "      <td>12</td>\n",
       "    </tr>\n",
       "  </tbody>\n",
       "</table>\n",
       "</div>"
      ],
      "text/plain": [
       "  product_id store_id customer_id day_id product_name month  year       date  \\\n",
       "0        2.0      0.0        33.0    3.0    tee-shirt   may  2017 2018-07-01   \n",
       "1        5.0      1.0        25.0   29.0        short   dec  2017 2017-03-01   \n",
       "2        4.0      2.0         5.0   18.0       basket   dec  2017 2018-09-01   \n",
       "3        3.0      1.0        35.0   30.0       basket  sept  2017 2018-08-01   \n",
       "4        4.0      1.0        21.0    1.0        short   dec  2017 2017-12-01   \n",
       "\n",
       "   date_year  date_month  \n",
       "0       2018           7  \n",
       "1       2017           3  \n",
       "2       2018           9  \n",
       "3       2018           8  \n",
       "4       2017          12  "
      ]
     },
     "execution_count": 16,
     "metadata": {},
     "output_type": "execute_result"
    }
   ],
   "source": [
    "df_n = dsgutils.pd.munging.delete_column_to_ignore(df_prod, ['product_brand'])\n",
    "df_n.head(5)"
   ]
  },
  {
   "cell_type": "markdown",
   "metadata": {},
   "source": [
    "#### `delete_value_to_igonore`"
   ]
  },
  {
   "cell_type": "code",
   "execution_count": 17,
   "metadata": {},
   "outputs": [
    {
     "data": {
      "text/markdown": [
       "* Value *tee-shirt* from column *product_name* is removed"
      ],
      "text/plain": [
       "<IPython.core.display.Markdown object>"
      ]
     },
     "metadata": {},
     "output_type": "display_data"
    },
    {
     "data": {
      "text/markdown": [
       "* New data shape :(73, 11)"
      ],
      "text/plain": [
       "<IPython.core.display.Markdown object>"
      ]
     },
     "metadata": {},
     "output_type": "display_data"
    }
   ],
   "source": [
    "df_prod2 = dsgutils.pd.munging.delete_value_to_igonore(df_prod, {'product_name': ['tee-shirt']})"
   ]
  },
  {
   "cell_type": "markdown",
   "metadata": {},
   "source": [
    "#### `change_col_value_to_other`"
   ]
  },
  {
   "cell_type": "code",
   "execution_count": 18,
   "metadata": {},
   "outputs": [
    {
     "data": {
      "text/markdown": [
       "* In *month* values : fev, mars were changed to march, feb"
      ],
      "text/plain": [
       "<IPython.core.display.Markdown object>"
      ]
     },
     "metadata": {},
     "output_type": "display_data"
    },
    {
     "data": {
      "text/plain": [
       "array(['may', 'dec', 'sept', 'april', 'july', 'oct', 'nov', 'aug', 'june',\n",
       "       'march', 'jan', 'feb'], dtype=object)"
      ]
     },
     "execution_count": 18,
     "metadata": {},
     "output_type": "execute_result"
    }
   ],
   "source": [
    "df_changed = dsgutils.pd.munging.change_col_value_to_other(df_prod, {'month': {'fev': 'feb', 'mars' : 'march'}})\n",
    "df_changed['month'].unique()"
   ]
  },
  {
   "cell_type": "markdown",
   "metadata": {},
   "source": [
    "#### `change_col_to_date_format`"
   ]
  },
  {
   "cell_type": "code",
   "execution_count": 19,
   "metadata": {},
   "outputs": [
    {
     "data": {
      "text/markdown": [
       "* *date*  changed to date time type"
      ],
      "text/plain": [
       "<IPython.core.display.Markdown object>"
      ]
     },
     "metadata": {},
     "output_type": "display_data"
    },
    {
     "data": {
      "text/plain": [
       "dtype('<M8[ns]')"
      ]
     },
     "execution_count": 19,
     "metadata": {},
     "output_type": "execute_result"
    }
   ],
   "source": [
    "df_prod = dsgutils.pd.munging.change_col_to_date_format(df_prod, ['date'])\n",
    "df_prod['date'].dtype"
   ]
  },
  {
   "cell_type": "markdown",
   "metadata": {},
   "source": [
    "#### `missing_val_imput`"
   ]
  },
  {
   "cell_type": "code",
   "execution_count": 20,
   "metadata": {},
   "outputs": [
    {
     "data": {
      "text/html": [
       "<div>\n",
       "<style scoped>\n",
       "    .dataframe tbody tr th:only-of-type {\n",
       "        vertical-align: middle;\n",
       "    }\n",
       "\n",
       "    .dataframe tbody tr th {\n",
       "        vertical-align: top;\n",
       "    }\n",
       "\n",
       "    .dataframe thead th {\n",
       "        text-align: right;\n",
       "    }\n",
       "</style>\n",
       "<table border=\"1\" class=\"dataframe\">\n",
       "  <thead>\n",
       "    <tr style=\"text-align: right;\">\n",
       "      <th></th>\n",
       "      <th>productID</th>\n",
       "      <th>StoreID</th>\n",
       "      <th>customerId</th>\n",
       "      <th>dayID</th>\n",
       "    </tr>\n",
       "  </thead>\n",
       "  <tbody>\n",
       "    <tr>\n",
       "      <th>0</th>\n",
       "      <td>NaN</td>\n",
       "      <td>2</td>\n",
       "      <td>NaN</td>\n",
       "      <td>1</td>\n",
       "    </tr>\n",
       "    <tr>\n",
       "      <th>1</th>\n",
       "      <td>3.0</td>\n",
       "      <td>4</td>\n",
       "      <td>NaN</td>\n",
       "      <td>1</td>\n",
       "    </tr>\n",
       "    <tr>\n",
       "      <th>2</th>\n",
       "      <td>NaN</td>\n",
       "      <td>4</td>\n",
       "      <td>NaN</td>\n",
       "      <td>1</td>\n",
       "    </tr>\n",
       "  </tbody>\n",
       "</table>\n",
       "</div>"
      ],
      "text/plain": [
       "   productID  StoreID  customerId  dayID\n",
       "0        NaN        2         NaN      1\n",
       "1        3.0        4         NaN      1\n",
       "2        NaN        4         NaN      1"
      ]
     },
     "execution_count": 20,
     "metadata": {},
     "output_type": "execute_result"
    }
   ],
   "source": [
    "df"
   ]
  },
  {
   "cell_type": "code",
   "execution_count": 21,
   "metadata": {},
   "outputs": [
    {
     "data": {
      "text/markdown": [
       "* In column *productID* Nan were replaced by *0*"
      ],
      "text/plain": [
       "<IPython.core.display.Markdown object>"
      ]
     },
     "metadata": {},
     "output_type": "display_data"
    },
    {
     "data": {
      "text/html": [
       "<div>\n",
       "<style scoped>\n",
       "    .dataframe tbody tr th:only-of-type {\n",
       "        vertical-align: middle;\n",
       "    }\n",
       "\n",
       "    .dataframe tbody tr th {\n",
       "        vertical-align: top;\n",
       "    }\n",
       "\n",
       "    .dataframe thead th {\n",
       "        text-align: right;\n",
       "    }\n",
       "</style>\n",
       "<table border=\"1\" class=\"dataframe\">\n",
       "  <thead>\n",
       "    <tr style=\"text-align: right;\">\n",
       "      <th></th>\n",
       "      <th>productID</th>\n",
       "      <th>StoreID</th>\n",
       "      <th>customerId</th>\n",
       "      <th>dayID</th>\n",
       "    </tr>\n",
       "  </thead>\n",
       "  <tbody>\n",
       "    <tr>\n",
       "      <th>0</th>\n",
       "      <td>0.0</td>\n",
       "      <td>2</td>\n",
       "      <td>NaN</td>\n",
       "      <td>1</td>\n",
       "    </tr>\n",
       "    <tr>\n",
       "      <th>1</th>\n",
       "      <td>3.0</td>\n",
       "      <td>4</td>\n",
       "      <td>NaN</td>\n",
       "      <td>1</td>\n",
       "    </tr>\n",
       "    <tr>\n",
       "      <th>2</th>\n",
       "      <td>0.0</td>\n",
       "      <td>4</td>\n",
       "      <td>NaN</td>\n",
       "      <td>1</td>\n",
       "    </tr>\n",
       "  </tbody>\n",
       "</table>\n",
       "</div>"
      ],
      "text/plain": [
       "   productID  StoreID  customerId  dayID\n",
       "0        0.0        2         NaN      1\n",
       "1        3.0        4         NaN      1\n",
       "2        0.0        4         NaN      1"
      ]
     },
     "execution_count": 21,
     "metadata": {},
     "output_type": "execute_result"
    }
   ],
   "source": [
    "df_new = dsgutils.pd.munging.missing_val_imput(df, {'productID' : 0})\n",
    "df_new"
   ]
  },
  {
   "cell_type": "markdown",
   "metadata": {},
   "source": [
    "#### `delete_rows_missing_keys`"
   ]
  },
  {
   "cell_type": "code",
   "execution_count": 22,
   "metadata": {},
   "outputs": [
    {
     "data": {
      "text/html": [
       "<div>\n",
       "<style scoped>\n",
       "    .dataframe tbody tr th:only-of-type {\n",
       "        vertical-align: middle;\n",
       "    }\n",
       "\n",
       "    .dataframe tbody tr th {\n",
       "        vertical-align: top;\n",
       "    }\n",
       "\n",
       "    .dataframe thead th {\n",
       "        text-align: right;\n",
       "    }\n",
       "</style>\n",
       "<table border=\"1\" class=\"dataframe\">\n",
       "  <thead>\n",
       "    <tr style=\"text-align: right;\">\n",
       "      <th></th>\n",
       "      <th>productID</th>\n",
       "      <th>StoreID</th>\n",
       "      <th>customerId</th>\n",
       "      <th>dayID</th>\n",
       "    </tr>\n",
       "  </thead>\n",
       "  <tbody>\n",
       "    <tr>\n",
       "      <th>0</th>\n",
       "      <td>NaN</td>\n",
       "      <td>2</td>\n",
       "      <td>NaN</td>\n",
       "      <td>1</td>\n",
       "    </tr>\n",
       "    <tr>\n",
       "      <th>1</th>\n",
       "      <td>3.0</td>\n",
       "      <td>4</td>\n",
       "      <td>NaN</td>\n",
       "      <td>1</td>\n",
       "    </tr>\n",
       "    <tr>\n",
       "      <th>2</th>\n",
       "      <td>NaN</td>\n",
       "      <td>4</td>\n",
       "      <td>NaN</td>\n",
       "      <td>1</td>\n",
       "    </tr>\n",
       "  </tbody>\n",
       "</table>\n",
       "</div>"
      ],
      "text/plain": [
       "   productID  StoreID  customerId  dayID\n",
       "0        NaN        2         NaN      1\n",
       "1        3.0        4         NaN      1\n",
       "2        NaN        4         NaN      1"
      ]
     },
     "execution_count": 22,
     "metadata": {},
     "output_type": "execute_result"
    }
   ],
   "source": [
    "df"
   ]
  },
  {
   "cell_type": "code",
   "execution_count": 23,
   "metadata": {},
   "outputs": [
    {
     "name": "stdout",
     "output_type": "stream",
     "text": [
      "Column  productID  has  2  Na(s).\n",
      "   productID  StoreID  customerId  dayID\n",
      "0        NaN        2         NaN      1\n",
      "2        NaN        4         NaN      1\n"
     ]
    },
    {
     "data": {
      "text/markdown": [
       "In total, 2 rows contains NAs in the key variables"
      ],
      "text/plain": [
       "<IPython.core.display.Markdown object>"
      ]
     },
     "metadata": {},
     "output_type": "display_data"
    },
    {
     "data": {
      "text/html": [
       "<div>\n",
       "<style scoped>\n",
       "    .dataframe tbody tr th:only-of-type {\n",
       "        vertical-align: middle;\n",
       "    }\n",
       "\n",
       "    .dataframe tbody tr th {\n",
       "        vertical-align: top;\n",
       "    }\n",
       "\n",
       "    .dataframe thead th {\n",
       "        text-align: right;\n",
       "    }\n",
       "</style>\n",
       "<table border=\"1\" class=\"dataframe\">\n",
       "  <thead>\n",
       "    <tr style=\"text-align: right;\">\n",
       "      <th></th>\n",
       "      <th>productID</th>\n",
       "      <th>StoreID</th>\n",
       "      <th>customerId</th>\n",
       "      <th>dayID</th>\n",
       "    </tr>\n",
       "  </thead>\n",
       "  <tbody>\n",
       "    <tr>\n",
       "      <th>1</th>\n",
       "      <td>3.0</td>\n",
       "      <td>4</td>\n",
       "      <td>NaN</td>\n",
       "      <td>1</td>\n",
       "    </tr>\n",
       "  </tbody>\n",
       "</table>\n",
       "</div>"
      ],
      "text/plain": [
       "   productID  StoreID  customerId  dayID\n",
       "1        3.0        4         NaN      1"
      ]
     },
     "execution_count": 23,
     "metadata": {},
     "output_type": "execute_result"
    }
   ],
   "source": [
    "df_new = dsgutils.pd.munging.delete_rows_missing_keys(df, ['productID'])\n",
    "df_new"
   ]
  },
  {
   "cell_type": "markdown",
   "metadata": {},
   "source": [
    "#### `delete_duplicate_rows`"
   ]
  },
  {
   "cell_type": "code",
   "execution_count": 24,
   "metadata": {},
   "outputs": [
    {
     "data": {
      "text/html": [
       "<div>\n",
       "<style scoped>\n",
       "    .dataframe tbody tr th:only-of-type {\n",
       "        vertical-align: middle;\n",
       "    }\n",
       "\n",
       "    .dataframe tbody tr th {\n",
       "        vertical-align: top;\n",
       "    }\n",
       "\n",
       "    .dataframe thead th {\n",
       "        text-align: right;\n",
       "    }\n",
       "</style>\n",
       "<table border=\"1\" class=\"dataframe\">\n",
       "  <thead>\n",
       "    <tr style=\"text-align: right;\">\n",
       "      <th></th>\n",
       "      <th>productID</th>\n",
       "      <th>StoreID</th>\n",
       "      <th>customerId</th>\n",
       "      <th>dayID</th>\n",
       "    </tr>\n",
       "  </thead>\n",
       "  <tbody>\n",
       "    <tr>\n",
       "      <th>0</th>\n",
       "      <td>NaN</td>\n",
       "      <td>2</td>\n",
       "      <td>NaN</td>\n",
       "      <td>1</td>\n",
       "    </tr>\n",
       "    <tr>\n",
       "      <th>1</th>\n",
       "      <td>3.0</td>\n",
       "      <td>4</td>\n",
       "      <td>NaN</td>\n",
       "      <td>1</td>\n",
       "    </tr>\n",
       "    <tr>\n",
       "      <th>2</th>\n",
       "      <td>NaN</td>\n",
       "      <td>4</td>\n",
       "      <td>NaN</td>\n",
       "      <td>1</td>\n",
       "    </tr>\n",
       "    <tr>\n",
       "      <th>0</th>\n",
       "      <td>NaN</td>\n",
       "      <td>2</td>\n",
       "      <td>NaN</td>\n",
       "      <td>1</td>\n",
       "    </tr>\n",
       "    <tr>\n",
       "      <th>1</th>\n",
       "      <td>3.0</td>\n",
       "      <td>4</td>\n",
       "      <td>NaN</td>\n",
       "      <td>1</td>\n",
       "    </tr>\n",
       "    <tr>\n",
       "      <th>2</th>\n",
       "      <td>NaN</td>\n",
       "      <td>4</td>\n",
       "      <td>NaN</td>\n",
       "      <td>1</td>\n",
       "    </tr>\n",
       "  </tbody>\n",
       "</table>\n",
       "</div>"
      ],
      "text/plain": [
       "   productID  StoreID  customerId  dayID\n",
       "0        NaN        2         NaN      1\n",
       "1        3.0        4         NaN      1\n",
       "2        NaN        4         NaN      1\n",
       "0        NaN        2         NaN      1\n",
       "1        3.0        4         NaN      1\n",
       "2        NaN        4         NaN      1"
      ]
     },
     "execution_count": 24,
     "metadata": {},
     "output_type": "execute_result"
    }
   ],
   "source": [
    "df_d = pd.concat([df, df])\n",
    "df_d"
   ]
  },
  {
   "cell_type": "code",
   "execution_count": 25,
   "metadata": {},
   "outputs": [
    {
     "data": {
      "text/markdown": [
       "* 3 duplicates were removed"
      ],
      "text/plain": [
       "<IPython.core.display.Markdown object>"
      ]
     },
     "metadata": {},
     "output_type": "display_data"
    },
    {
     "name": "stdout",
     "output_type": "stream",
     "text": [
      "Sample of the duplicates :\n",
      "   productID  StoreID  customerId  dayID\n",
      "0        NaN        2         NaN      1\n",
      "1        3.0        4         NaN      1\n",
      "2        NaN        4         NaN      1\n"
     ]
    },
    {
     "data": {
      "text/html": [
       "<div>\n",
       "<style scoped>\n",
       "    .dataframe tbody tr th:only-of-type {\n",
       "        vertical-align: middle;\n",
       "    }\n",
       "\n",
       "    .dataframe tbody tr th {\n",
       "        vertical-align: top;\n",
       "    }\n",
       "\n",
       "    .dataframe thead th {\n",
       "        text-align: right;\n",
       "    }\n",
       "</style>\n",
       "<table border=\"1\" class=\"dataframe\">\n",
       "  <thead>\n",
       "    <tr style=\"text-align: right;\">\n",
       "      <th></th>\n",
       "      <th>productID</th>\n",
       "      <th>StoreID</th>\n",
       "      <th>customerId</th>\n",
       "      <th>dayID</th>\n",
       "    </tr>\n",
       "  </thead>\n",
       "  <tbody>\n",
       "    <tr>\n",
       "      <th>0</th>\n",
       "      <td>NaN</td>\n",
       "      <td>2</td>\n",
       "      <td>NaN</td>\n",
       "      <td>1</td>\n",
       "    </tr>\n",
       "    <tr>\n",
       "      <th>1</th>\n",
       "      <td>3.0</td>\n",
       "      <td>4</td>\n",
       "      <td>NaN</td>\n",
       "      <td>1</td>\n",
       "    </tr>\n",
       "    <tr>\n",
       "      <th>2</th>\n",
       "      <td>NaN</td>\n",
       "      <td>4</td>\n",
       "      <td>NaN</td>\n",
       "      <td>1</td>\n",
       "    </tr>\n",
       "  </tbody>\n",
       "</table>\n",
       "</div>"
      ],
      "text/plain": [
       "   productID  StoreID  customerId  dayID\n",
       "0        NaN        2         NaN      1\n",
       "1        3.0        4         NaN      1\n",
       "2        NaN        4         NaN      1"
      ]
     },
     "execution_count": 25,
     "metadata": {},
     "output_type": "execute_result"
    }
   ],
   "source": [
    "df_new = dsgutils.pd.munging.delete_duplicate_rows(df_d)\n",
    "df_new"
   ]
  },
  {
   "cell_type": "markdown",
   "metadata": {},
   "source": [
    "### viz"
   ]
  },
  {
   "cell_type": "markdown",
   "metadata": {},
   "source": [
    "#### `display_df_info`"
   ]
  },
  {
   "cell_type": "code",
   "execution_count": 26,
   "metadata": {},
   "outputs": [
    {
     "data": {
      "text/html": [
       "<h4>My DataFrame</h4>"
      ],
      "text/plain": [
       "<IPython.core.display.HTML object>"
      ]
     },
     "metadata": {},
     "output_type": "display_data"
    },
    {
     "data": {
      "text/html": [
       "<div>\n",
       "<style scoped>\n",
       "    .dataframe tbody tr th:only-of-type {\n",
       "        vertical-align: middle;\n",
       "    }\n",
       "\n",
       "    .dataframe tbody tr th {\n",
       "        vertical-align: top;\n",
       "    }\n",
       "\n",
       "    .dataframe thead th {\n",
       "        text-align: right;\n",
       "    }\n",
       "</style>\n",
       "<table border=\"1\" class=\"dataframe\">\n",
       "  <thead>\n",
       "    <tr style=\"text-align: right;\">\n",
       "      <th></th>\n",
       "      <th>productID</th>\n",
       "      <th>StoreID</th>\n",
       "      <th>customerId</th>\n",
       "      <th>dayID</th>\n",
       "    </tr>\n",
       "  </thead>\n",
       "  <tbody>\n",
       "    <tr>\n",
       "      <th>0</th>\n",
       "      <td>NaN</td>\n",
       "      <td>2</td>\n",
       "      <td>NaN</td>\n",
       "      <td>1</td>\n",
       "    </tr>\n",
       "    <tr>\n",
       "      <th>1</th>\n",
       "      <td>3.0</td>\n",
       "      <td>4</td>\n",
       "      <td>NaN</td>\n",
       "      <td>1</td>\n",
       "    </tr>\n",
       "    <tr>\n",
       "      <th>2</th>\n",
       "      <td>NaN</td>\n",
       "      <td>4</td>\n",
       "      <td>NaN</td>\n",
       "      <td>1</td>\n",
       "    </tr>\n",
       "  </tbody>\n",
       "</table>\n",
       "</div>"
      ],
      "text/plain": [
       "   productID  StoreID  customerId  dayID\n",
       "0        NaN        2         NaN      1\n",
       "1        3.0        4         NaN      1\n",
       "2        NaN        4         NaN      1"
      ]
     },
     "metadata": {},
     "output_type": "display_data"
    },
    {
     "data": {
      "text/html": [
       "<h4>Data attributes</h4>"
      ],
      "text/plain": [
       "<IPython.core.display.HTML object>"
      ]
     },
     "metadata": {},
     "output_type": "display_data"
    },
    {
     "data": {
      "text/html": [
       "<div>\n",
       "<style scoped>\n",
       "    .dataframe tbody tr th:only-of-type {\n",
       "        vertical-align: middle;\n",
       "    }\n",
       "\n",
       "    .dataframe tbody tr th {\n",
       "        vertical-align: top;\n",
       "    }\n",
       "\n",
       "    .dataframe thead th {\n",
       "        text-align: right;\n",
       "    }\n",
       "</style>\n",
       "<table border=\"1\" class=\"dataframe\">\n",
       "  <thead>\n",
       "    <tr style=\"text-align: right;\">\n",
       "      <th></th>\n",
       "      <th>Data types</th>\n",
       "      <th>Null counts</th>\n",
       "      <th>Unique values</th>\n",
       "    </tr>\n",
       "  </thead>\n",
       "  <tbody>\n",
       "    <tr>\n",
       "      <th>productID</th>\n",
       "      <td>float64</td>\n",
       "      <td>2</td>\n",
       "      <td>1</td>\n",
       "    </tr>\n",
       "    <tr>\n",
       "      <th>StoreID</th>\n",
       "      <td>int64</td>\n",
       "      <td>0</td>\n",
       "      <td>2</td>\n",
       "    </tr>\n",
       "    <tr>\n",
       "      <th>customerId</th>\n",
       "      <td>float64</td>\n",
       "      <td>3</td>\n",
       "      <td>0</td>\n",
       "    </tr>\n",
       "    <tr>\n",
       "      <th>dayID</th>\n",
       "      <td>int64</td>\n",
       "      <td>0</td>\n",
       "      <td>1</td>\n",
       "    </tr>\n",
       "  </tbody>\n",
       "</table>\n",
       "</div>"
      ],
      "text/plain": [
       "           Data types  Null counts  Unique values\n",
       "productID     float64            2              1\n",
       "StoreID         int64            0              2\n",
       "customerId    float64            3              0\n",
       "dayID           int64            0              1"
      ]
     },
     "metadata": {},
     "output_type": "display_data"
    }
   ],
   "source": [
    "dsgutils.viz.display_df_info(df=df,\n",
    "                             df_name='My DataFrame')"
   ]
  },
  {
   "cell_type": "markdown",
   "metadata": {},
   "source": [
    "#### `display_corr_matrix`"
   ]
  },
  {
   "cell_type": "code",
   "execution_count": 27,
   "metadata": {},
   "outputs": [
    {
     "data": {
      "text/html": [
       "<div>\n",
       "<style scoped>\n",
       "    .dataframe tbody tr th:only-of-type {\n",
       "        vertical-align: middle;\n",
       "    }\n",
       "\n",
       "    .dataframe tbody tr th {\n",
       "        vertical-align: top;\n",
       "    }\n",
       "\n",
       "    .dataframe thead th {\n",
       "        text-align: right;\n",
       "    }\n",
       "</style>\n",
       "<table border=\"1\" class=\"dataframe\">\n",
       "  <thead>\n",
       "    <tr style=\"text-align: right;\">\n",
       "      <th></th>\n",
       "      <th>a</th>\n",
       "      <th>b</th>\n",
       "      <th>c</th>\n",
       "      <th>d</th>\n",
       "      <th>e</th>\n",
       "      <th>f</th>\n",
       "      <th>g</th>\n",
       "      <th>h</th>\n",
       "      <th>i</th>\n",
       "      <th>j</th>\n",
       "      <th>String1</th>\n",
       "      <th>String2</th>\n",
       "    </tr>\n",
       "  </thead>\n",
       "  <tbody>\n",
       "    <tr>\n",
       "      <th>0</th>\n",
       "      <td>-0.318854</td>\n",
       "      <td>-1.602981</td>\n",
       "      <td>-1.535218</td>\n",
       "      <td>-0.570401</td>\n",
       "      <td>-0.216728</td>\n",
       "      <td>0.254874</td>\n",
       "      <td>-0.149450</td>\n",
       "      <td>2.010783</td>\n",
       "      <td>-0.096784</td>\n",
       "      <td>0.422202</td>\n",
       "      <td>A</td>\n",
       "      <td>B</td>\n",
       "    </tr>\n",
       "    <tr>\n",
       "      <th>1</th>\n",
       "      <td>-0.225462</td>\n",
       "      <td>-0.637943</td>\n",
       "      <td>-0.016286</td>\n",
       "      <td>1.044217</td>\n",
       "      <td>-1.084880</td>\n",
       "      <td>-2.205925</td>\n",
       "      <td>-0.951219</td>\n",
       "      <td>0.832973</td>\n",
       "      <td>-1.000208</td>\n",
       "      <td>0.343463</td>\n",
       "      <td>A</td>\n",
       "      <td>B</td>\n",
       "    </tr>\n",
       "    <tr>\n",
       "      <th>2</th>\n",
       "      <td>1.546030</td>\n",
       "      <td>0.690081</td>\n",
       "      <td>-2.045853</td>\n",
       "      <td>0.334467</td>\n",
       "      <td>-0.641459</td>\n",
       "      <td>-0.222497</td>\n",
       "      <td>-1.230374</td>\n",
       "      <td>0.205848</td>\n",
       "      <td>0.821371</td>\n",
       "      <td>-0.493780</td>\n",
       "      <td>A</td>\n",
       "      <td>B</td>\n",
       "    </tr>\n",
       "    <tr>\n",
       "      <th>3</th>\n",
       "      <td>-1.408794</td>\n",
       "      <td>-1.216324</td>\n",
       "      <td>1.734299</td>\n",
       "      <td>-0.206790</td>\n",
       "      <td>-0.733189</td>\n",
       "      <td>0.774163</td>\n",
       "      <td>-0.777376</td>\n",
       "      <td>-0.414635</td>\n",
       "      <td>-1.145641</td>\n",
       "      <td>0.325040</td>\n",
       "      <td>A</td>\n",
       "      <td>B</td>\n",
       "    </tr>\n",
       "    <tr>\n",
       "      <th>4</th>\n",
       "      <td>0.000594</td>\n",
       "      <td>1.418588</td>\n",
       "      <td>-0.148826</td>\n",
       "      <td>-0.606270</td>\n",
       "      <td>-1.185801</td>\n",
       "      <td>0.455504</td>\n",
       "      <td>-0.837645</td>\n",
       "      <td>-0.146961</td>\n",
       "      <td>-0.682350</td>\n",
       "      <td>1.487670</td>\n",
       "      <td>A</td>\n",
       "      <td>B</td>\n",
       "    </tr>\n",
       "    <tr>\n",
       "      <th>5</th>\n",
       "      <td>-1.094711</td>\n",
       "      <td>-1.654707</td>\n",
       "      <td>-0.023842</td>\n",
       "      <td>-0.363738</td>\n",
       "      <td>-0.482943</td>\n",
       "      <td>0.739577</td>\n",
       "      <td>0.611252</td>\n",
       "      <td>0.491802</td>\n",
       "      <td>1.792924</td>\n",
       "      <td>-0.683737</td>\n",
       "      <td>A</td>\n",
       "      <td>B</td>\n",
       "    </tr>\n",
       "    <tr>\n",
       "      <th>6</th>\n",
       "      <td>1.054113</td>\n",
       "      <td>-0.615562</td>\n",
       "      <td>0.437443</td>\n",
       "      <td>-2.809395</td>\n",
       "      <td>-0.653560</td>\n",
       "      <td>0.527787</td>\n",
       "      <td>0.932722</td>\n",
       "      <td>-0.111391</td>\n",
       "      <td>-1.120717</td>\n",
       "      <td>0.991136</td>\n",
       "      <td>A</td>\n",
       "      <td>B</td>\n",
       "    </tr>\n",
       "    <tr>\n",
       "      <th>7</th>\n",
       "      <td>1.630796</td>\n",
       "      <td>-1.900090</td>\n",
       "      <td>0.062316</td>\n",
       "      <td>0.479998</td>\n",
       "      <td>0.379609</td>\n",
       "      <td>-1.512245</td>\n",
       "      <td>0.289020</td>\n",
       "      <td>0.095524</td>\n",
       "      <td>-0.292821</td>\n",
       "      <td>0.856582</td>\n",
       "      <td>A</td>\n",
       "      <td>B</td>\n",
       "    </tr>\n",
       "    <tr>\n",
       "      <th>8</th>\n",
       "      <td>0.933473</td>\n",
       "      <td>-0.421045</td>\n",
       "      <td>1.590430</td>\n",
       "      <td>-1.063801</td>\n",
       "      <td>2.104884</td>\n",
       "      <td>-1.090494</td>\n",
       "      <td>1.484521</td>\n",
       "      <td>-1.089229</td>\n",
       "      <td>0.604432</td>\n",
       "      <td>0.941819</td>\n",
       "      <td>A</td>\n",
       "      <td>B</td>\n",
       "    </tr>\n",
       "    <tr>\n",
       "      <th>9</th>\n",
       "      <td>-0.620143</td>\n",
       "      <td>0.814865</td>\n",
       "      <td>-0.900040</td>\n",
       "      <td>-0.480409</td>\n",
       "      <td>0.230258</td>\n",
       "      <td>0.195235</td>\n",
       "      <td>0.535839</td>\n",
       "      <td>0.684299</td>\n",
       "      <td>2.821279</td>\n",
       "      <td>0.916504</td>\n",
       "      <td>A</td>\n",
       "      <td>B</td>\n",
       "    </tr>\n",
       "  </tbody>\n",
       "</table>\n",
       "</div>"
      ],
      "text/plain": [
       "          a         b         c         d         e         f         g  \\\n",
       "0 -0.318854 -1.602981 -1.535218 -0.570401 -0.216728  0.254874 -0.149450   \n",
       "1 -0.225462 -0.637943 -0.016286  1.044217 -1.084880 -2.205925 -0.951219   \n",
       "2  1.546030  0.690081 -2.045853  0.334467 -0.641459 -0.222497 -1.230374   \n",
       "3 -1.408794 -1.216324  1.734299 -0.206790 -0.733189  0.774163 -0.777376   \n",
       "4  0.000594  1.418588 -0.148826 -0.606270 -1.185801  0.455504 -0.837645   \n",
       "5 -1.094711 -1.654707 -0.023842 -0.363738 -0.482943  0.739577  0.611252   \n",
       "6  1.054113 -0.615562  0.437443 -2.809395 -0.653560  0.527787  0.932722   \n",
       "7  1.630796 -1.900090  0.062316  0.479998  0.379609 -1.512245  0.289020   \n",
       "8  0.933473 -0.421045  1.590430 -1.063801  2.104884 -1.090494  1.484521   \n",
       "9 -0.620143  0.814865 -0.900040 -0.480409  0.230258  0.195235  0.535839   \n",
       "\n",
       "          h         i         j String1 String2  \n",
       "0  2.010783 -0.096784  0.422202       A       B  \n",
       "1  0.832973 -1.000208  0.343463       A       B  \n",
       "2  0.205848  0.821371 -0.493780       A       B  \n",
       "3 -0.414635 -1.145641  0.325040       A       B  \n",
       "4 -0.146961 -0.682350  1.487670       A       B  \n",
       "5  0.491802  1.792924 -0.683737       A       B  \n",
       "6 -0.111391 -1.120717  0.991136       A       B  \n",
       "7  0.095524 -0.292821  0.856582       A       B  \n",
       "8 -1.089229  0.604432  0.941819       A       B  \n",
       "9  0.684299  2.821279  0.916504       A       B  "
      ]
     },
     "metadata": {},
     "output_type": "display_data"
    }
   ],
   "source": [
    "from string import ascii_letters\n",
    "\n",
    "rs = np.random.RandomState(33)\n",
    "df = pd.DataFrame(data=rs.normal(size=(10, 10)),\n",
    "                 columns=list(ascii_letters[:10]))\n",
    "\n",
    "df['String1'] = 'A'\n",
    "df['String2'] = 'B'\n",
    "display(df)"
   ]
  },
  {
   "cell_type": "markdown",
   "metadata": {},
   "source": [
    "Display correlation matrix, only on chosen columns"
   ]
  },
  {
   "cell_type": "code",
   "execution_count": 28,
   "metadata": {},
   "outputs": [
    {
     "data": {
      "image/png": "[encoded data removed]",
      "text/plain": [
       "<Figure size 1080x936 with 2 Axes>"
      ]
     },
     "metadata": {
      "needs_background": "light"
     },
     "output_type": "display_data"
    }
   ],
   "source": [
    "dsgutils.pd.viz.display_corr_matrix(df, on_columns=['a', 'b','c', 'd', 'e', 'f', 'g']);"
   ]
  },
  {
   "cell_type": "markdown",
   "metadata": {},
   "source": [
    "Return the ax and put a title on it"
   ]
  },
  {
   "cell_type": "code",
   "execution_count": 29,
   "metadata": {},
   "outputs": [
    {
     "data": {
      "image/png": "[encoded data removed]",
      "text/plain": [
       "<Figure size 1080x936 with 2 Axes>"
      ]
     },
     "metadata": {
      "needs_background": "light"
     },
     "output_type": "display_data"
    }
   ],
   "source": [
    "ax = dsgutils.pd.viz.display_corr_matrix(df, on_columns=list(ascii_letters[:10]))\n",
    "ax.set_title('Correlation Heatmap');"
   ]
  },
  {
   "cell_type": "markdown",
   "metadata": {},
   "source": [
    "Add a custom color map"
   ]
  },
  {
   "cell_type": "code",
   "execution_count": 30,
   "metadata": {},
   "outputs": [
    {
     "data": {
      "image/png": "[encoded data removed]",
      "text/plain": [
       "<Figure size 1080x936 with 2 Axes>"
      ]
     },
     "metadata": {
      "needs_background": "light"
     },
     "output_type": "display_data"
    }
   ],
   "source": [
    "cmap = sns.diverging_palette(100, 10, as_cmap=True)\n",
    "ax = dsgutils.pd.viz.display_corr_matrix(df, on_columns=list(ascii_letters[:10]), cmap=cmap);"
   ]
  },
  {
   "cell_type": "markdown",
   "metadata": {},
   "source": [
    "#### `display_n_most_correlated`"
   ]
  },
  {
   "cell_type": "code",
   "execution_count": 32,
   "metadata": {},
   "outputs": [
    {
     "data": {
      "text/html": [
       "<style  type=\"text/css\" >\n",
       "    #T_f2328eb2_06a8_11e9_94d4_005056a2c9ferow0_col0 {\n",
       "            color:  green;\n",
       "        }    #T_f2328eb2_06a8_11e9_94d4_005056a2c9ferow1_col0 {\n",
       "            color:  green;\n",
       "        }    #T_f2328eb2_06a8_11e9_94d4_005056a2c9ferow2_col0 {\n",
       "            color:  green;\n",
       "        }    #T_f2328eb2_06a8_11e9_94d4_005056a2c9ferow3_col0 {\n",
       "            color:  red;\n",
       "        }    #T_f2328eb2_06a8_11e9_94d4_005056a2c9ferow4_col0 {\n",
       "            color:  green;\n",
       "        }    #T_f2328eb2_06a8_11e9_94d4_005056a2c9ferow5_col0 {\n",
       "            color:  green;\n",
       "        }    #T_f2328eb2_06a8_11e9_94d4_005056a2c9ferow6_col0 {\n",
       "            color:  green;\n",
       "        }    #T_f2328eb2_06a8_11e9_94d4_005056a2c9ferow7_col0 {\n",
       "            color:  red;\n",
       "        }    #T_f2328eb2_06a8_11e9_94d4_005056a2c9ferow8_col0 {\n",
       "            color:  green;\n",
       "        }    #T_f2328eb2_06a8_11e9_94d4_005056a2c9ferow9_col0 {\n",
       "            color:  green;\n",
       "        }    #T_f2328eb2_06a8_11e9_94d4_005056a2c9ferow10_col0 {\n",
       "            color:  green;\n",
       "        }    #T_f2328eb2_06a8_11e9_94d4_005056a2c9ferow11_col0 {\n",
       "            color:  red;\n",
       "        }    #T_f2328eb2_06a8_11e9_94d4_005056a2c9ferow12_col0 {\n",
       "            color:  green;\n",
       "        }    #T_f2328eb2_06a8_11e9_94d4_005056a2c9ferow13_col0 {\n",
       "            color:  green;\n",
       "        }    #T_f2328eb2_06a8_11e9_94d4_005056a2c9ferow14_col0 {\n",
       "            color:  green;\n",
       "        }    #T_f2328eb2_06a8_11e9_94d4_005056a2c9ferow15_col0 {\n",
       "            color:  red;\n",
       "        }    #T_f2328eb2_06a8_11e9_94d4_005056a2c9ferow16_col0 {\n",
       "            color:  red;\n",
       "        }    #T_f2328eb2_06a8_11e9_94d4_005056a2c9ferow17_col0 {\n",
       "            color:  red;\n",
       "        }    #T_f2328eb2_06a8_11e9_94d4_005056a2c9ferow18_col0 {\n",
       "            color:  red;\n",
       "        }    #T_f2328eb2_06a8_11e9_94d4_005056a2c9ferow19_col0 {\n",
       "            color:  red;\n",
       "        }</style>  \n",
       "<table id=\"T_f2328eb2_06a8_11e9_94d4_005056a2c9fe\" > \n",
       "<thead>    <tr> \n",
       "        <th class=\"blank\" ></th> \n",
       "        <th class=\"blank level0\" ></th> \n",
       "        <th class=\"col_heading level0 col0\" >Correlation Value</th> \n",
       "    </tr></thead> \n",
       "<tbody>    <tr> \n",
       "        <th id=\"T_f2328eb2_06a8_11e9_94d4_005056a2c9felevel0_row0\" class=\"row_heading level0 row0\" rowspan=4>petal width (cm)</th> \n",
       "        <th id=\"T_f2328eb2_06a8_11e9_94d4_005056a2c9felevel1_row0\" class=\"row_heading level1 row0\" >petal length (cm)</th> \n",
       "        <td id=\"T_f2328eb2_06a8_11e9_94d4_005056a2c9ferow0_col0\" class=\"data row0 col0\" >0.962865</td> \n",
       "    </tr>    <tr> \n",
       "        <th id=\"T_f2328eb2_06a8_11e9_94d4_005056a2c9felevel1_row1\" class=\"row_heading level1 row1\" >target</th> \n",
       "        <td id=\"T_f2328eb2_06a8_11e9_94d4_005056a2c9ferow1_col0\" class=\"data row1 col0\" >0.956547</td> \n",
       "    </tr>    <tr> \n",
       "        <th id=\"T_f2328eb2_06a8_11e9_94d4_005056a2c9felevel1_row2\" class=\"row_heading level1 row2\" >sepal length (cm)</th> \n",
       "        <td id=\"T_f2328eb2_06a8_11e9_94d4_005056a2c9ferow2_col0\" class=\"data row2 col0\" >0.817941</td> \n",
       "    </tr>    <tr> \n",
       "        <th id=\"T_f2328eb2_06a8_11e9_94d4_005056a2c9felevel1_row3\" class=\"row_heading level1 row3\" >sepal width (cm)</th> \n",
       "        <td id=\"T_f2328eb2_06a8_11e9_94d4_005056a2c9ferow3_col0\" class=\"data row3 col0\" >-0.366126</td> \n",
       "    </tr>    <tr> \n",
       "        <th id=\"T_f2328eb2_06a8_11e9_94d4_005056a2c9felevel0_row4\" class=\"row_heading level0 row4\" rowspan=4>petal length (cm)</th> \n",
       "        <th id=\"T_f2328eb2_06a8_11e9_94d4_005056a2c9felevel1_row4\" class=\"row_heading level1 row4\" >petal width (cm)</th> \n",
       "        <td id=\"T_f2328eb2_06a8_11e9_94d4_005056a2c9ferow4_col0\" class=\"data row4 col0\" >0.962865</td> \n",
       "    </tr>    <tr> \n",
       "        <th id=\"T_f2328eb2_06a8_11e9_94d4_005056a2c9felevel1_row5\" class=\"row_heading level1 row5\" >target</th> \n",
       "        <td id=\"T_f2328eb2_06a8_11e9_94d4_005056a2c9ferow5_col0\" class=\"data row5 col0\" >0.949035</td> \n",
       "    </tr>    <tr> \n",
       "        <th id=\"T_f2328eb2_06a8_11e9_94d4_005056a2c9felevel1_row6\" class=\"row_heading level1 row6\" >sepal length (cm)</th> \n",
       "        <td id=\"T_f2328eb2_06a8_11e9_94d4_005056a2c9ferow6_col0\" class=\"data row6 col0\" >0.871754</td> \n",
       "    </tr>    <tr> \n",
       "        <th id=\"T_f2328eb2_06a8_11e9_94d4_005056a2c9felevel1_row7\" class=\"row_heading level1 row7\" >sepal width (cm)</th> \n",
       "        <td id=\"T_f2328eb2_06a8_11e9_94d4_005056a2c9ferow7_col0\" class=\"data row7 col0\" >-0.42844</td> \n",
       "    </tr>    <tr> \n",
       "        <th id=\"T_f2328eb2_06a8_11e9_94d4_005056a2c9felevel0_row8\" class=\"row_heading level0 row8\" rowspan=4>sepal length (cm)</th> \n",
       "        <th id=\"T_f2328eb2_06a8_11e9_94d4_005056a2c9felevel1_row8\" class=\"row_heading level1 row8\" >petal length (cm)</th> \n",
       "        <td id=\"T_f2328eb2_06a8_11e9_94d4_005056a2c9ferow8_col0\" class=\"data row8 col0\" >0.871754</td> \n",
       "    </tr>    <tr> \n",
       "        <th id=\"T_f2328eb2_06a8_11e9_94d4_005056a2c9felevel1_row9\" class=\"row_heading level1 row9\" >petal width (cm)</th> \n",
       "        <td id=\"T_f2328eb2_06a8_11e9_94d4_005056a2c9ferow9_col0\" class=\"data row9 col0\" >0.817941</td> \n",
       "    </tr>    <tr> \n",
       "        <th id=\"T_f2328eb2_06a8_11e9_94d4_005056a2c9felevel1_row10\" class=\"row_heading level1 row10\" >target</th> \n",
       "        <td id=\"T_f2328eb2_06a8_11e9_94d4_005056a2c9ferow10_col0\" class=\"data row10 col0\" >0.782561</td> \n",
       "    </tr>    <tr> \n",
       "        <th id=\"T_f2328eb2_06a8_11e9_94d4_005056a2c9felevel1_row11\" class=\"row_heading level1 row11\" >sepal width (cm)</th> \n",
       "        <td id=\"T_f2328eb2_06a8_11e9_94d4_005056a2c9ferow11_col0\" class=\"data row11 col0\" >-0.11757</td> \n",
       "    </tr>    <tr> \n",
       "        <th id=\"T_f2328eb2_06a8_11e9_94d4_005056a2c9felevel0_row12\" class=\"row_heading level0 row12\" rowspan=4>target</th> \n",
       "        <th id=\"T_f2328eb2_06a8_11e9_94d4_005056a2c9felevel1_row12\" class=\"row_heading level1 row12\" >petal width (cm)</th> \n",
       "        <td id=\"T_f2328eb2_06a8_11e9_94d4_005056a2c9ferow12_col0\" class=\"data row12 col0\" >0.956547</td> \n",
       "    </tr>    <tr> \n",
       "        <th id=\"T_f2328eb2_06a8_11e9_94d4_005056a2c9felevel1_row13\" class=\"row_heading level1 row13\" >petal length (cm)</th> \n",
       "        <td id=\"T_f2328eb2_06a8_11e9_94d4_005056a2c9ferow13_col0\" class=\"data row13 col0\" >0.949035</td> \n",
       "    </tr>    <tr> \n",
       "        <th id=\"T_f2328eb2_06a8_11e9_94d4_005056a2c9felevel1_row14\" class=\"row_heading level1 row14\" >sepal length (cm)</th> \n",
       "        <td id=\"T_f2328eb2_06a8_11e9_94d4_005056a2c9ferow14_col0\" class=\"data row14 col0\" >0.782561</td> \n",
       "    </tr>    <tr> \n",
       "        <th id=\"T_f2328eb2_06a8_11e9_94d4_005056a2c9felevel1_row15\" class=\"row_heading level1 row15\" >sepal width (cm)</th> \n",
       "        <td id=\"T_f2328eb2_06a8_11e9_94d4_005056a2c9ferow15_col0\" class=\"data row15 col0\" >-0.426658</td> \n",
       "    </tr>    <tr> \n",
       "        <th id=\"T_f2328eb2_06a8_11e9_94d4_005056a2c9felevel0_row16\" class=\"row_heading level0 row16\" rowspan=4>sepal width (cm)</th> \n",
       "        <th id=\"T_f2328eb2_06a8_11e9_94d4_005056a2c9felevel1_row16\" class=\"row_heading level1 row16\" >sepal length (cm)</th> \n",
       "        <td id=\"T_f2328eb2_06a8_11e9_94d4_005056a2c9ferow16_col0\" class=\"data row16 col0\" >-0.11757</td> \n",
       "    </tr>    <tr> \n",
       "        <th id=\"T_f2328eb2_06a8_11e9_94d4_005056a2c9felevel1_row17\" class=\"row_heading level1 row17\" >petal width (cm)</th> \n",
       "        <td id=\"T_f2328eb2_06a8_11e9_94d4_005056a2c9ferow17_col0\" class=\"data row17 col0\" >-0.366126</td> \n",
       "    </tr>    <tr> \n",
       "        <th id=\"T_f2328eb2_06a8_11e9_94d4_005056a2c9felevel1_row18\" class=\"row_heading level1 row18\" >target</th> \n",
       "        <td id=\"T_f2328eb2_06a8_11e9_94d4_005056a2c9ferow18_col0\" class=\"data row18 col0\" >-0.426658</td> \n",
       "    </tr>    <tr> \n",
       "        <th id=\"T_f2328eb2_06a8_11e9_94d4_005056a2c9felevel1_row19\" class=\"row_heading level1 row19\" >petal length (cm)</th> \n",
       "        <td id=\"T_f2328eb2_06a8_11e9_94d4_005056a2c9ferow19_col0\" class=\"data row19 col0\" >-0.42844</td> \n",
       "    </tr></tbody> \n",
       "</table> "
      ],
      "text/plain": [
       "<pandas.io.formats.style.Styler at 0x7f775543c668>"
      ]
     },
     "execution_count": 32,
     "metadata": {},
     "output_type": "execute_result"
    }
   ],
   "source": [
    "from sklearn.datasets import load_iris\n",
    "\n",
    "data_iris = load_iris()\n",
    "data_iris_df = pd.DataFrame(data_iris['data'], columns=data_iris['feature_names'])\n",
    "data_iris_df['target'] = data_iris['target']\n",
    "\n",
    "dsgutils.pd.viz.display_n_most_correlated(data_iris_df, n = 5, to_color = True)"
   ]
  },
  {
   "cell_type": "markdown",
   "metadata": {},
   "source": [
    "#### `display_stacked_bar`"
   ]
  },
  {
   "cell_type": "code",
   "execution_count": 33,
   "metadata": {},
   "outputs": [],
   "source": [
    "import string"
   ]
  },
  {
   "cell_type": "code",
   "execution_count": 34,
   "metadata": {},
   "outputs": [],
   "source": [
    "main_column = list(string.ascii_uppercase[:5])  # A, B, C, D, E\n",
    "stack_columns = list(string.ascii_lowercase[:3])\n",
    "\n",
    "df = pd.DataFrame.from_dict({'Main': list(np.random.choice(main_column, 200, replace=True)),\n",
    "                             'Stack': list(np.random.choice(stack_columns, 200, replace=True))})"
   ]
  },
  {
   "cell_type": "code",
   "execution_count": 35,
   "metadata": {},
   "outputs": [
    {
     "data": {
      "text/html": [
       "<div>\n",
       "<style scoped>\n",
       "    .dataframe tbody tr th:only-of-type {\n",
       "        vertical-align: middle;\n",
       "    }\n",
       "\n",
       "    .dataframe tbody tr th {\n",
       "        vertical-align: top;\n",
       "    }\n",
       "\n",
       "    .dataframe thead th {\n",
       "        text-align: right;\n",
       "    }\n",
       "</style>\n",
       "<table border=\"1\" class=\"dataframe\">\n",
       "  <thead>\n",
       "    <tr style=\"text-align: right;\">\n",
       "      <th></th>\n",
       "      <th>Main</th>\n",
       "      <th>Stack</th>\n",
       "    </tr>\n",
       "  </thead>\n",
       "  <tbody>\n",
       "    <tr>\n",
       "      <th>0</th>\n",
       "      <td>B</td>\n",
       "      <td>c</td>\n",
       "    </tr>\n",
       "    <tr>\n",
       "      <th>1</th>\n",
       "      <td>E</td>\n",
       "      <td>c</td>\n",
       "    </tr>\n",
       "    <tr>\n",
       "      <th>2</th>\n",
       "      <td>B</td>\n",
       "      <td>b</td>\n",
       "    </tr>\n",
       "    <tr>\n",
       "      <th>3</th>\n",
       "      <td>C</td>\n",
       "      <td>a</td>\n",
       "    </tr>\n",
       "    <tr>\n",
       "      <th>4</th>\n",
       "      <td>B</td>\n",
       "      <td>c</td>\n",
       "    </tr>\n",
       "    <tr>\n",
       "      <th>5</th>\n",
       "      <td>E</td>\n",
       "      <td>c</td>\n",
       "    </tr>\n",
       "    <tr>\n",
       "      <th>6</th>\n",
       "      <td>E</td>\n",
       "      <td>b</td>\n",
       "    </tr>\n",
       "    <tr>\n",
       "      <th>7</th>\n",
       "      <td>C</td>\n",
       "      <td>b</td>\n",
       "    </tr>\n",
       "    <tr>\n",
       "      <th>8</th>\n",
       "      <td>C</td>\n",
       "      <td>c</td>\n",
       "    </tr>\n",
       "    <tr>\n",
       "      <th>9</th>\n",
       "      <td>D</td>\n",
       "      <td>b</td>\n",
       "    </tr>\n",
       "    <tr>\n",
       "      <th>10</th>\n",
       "      <td>B</td>\n",
       "      <td>a</td>\n",
       "    </tr>\n",
       "    <tr>\n",
       "      <th>11</th>\n",
       "      <td>B</td>\n",
       "      <td>c</td>\n",
       "    </tr>\n",
       "    <tr>\n",
       "      <th>12</th>\n",
       "      <td>E</td>\n",
       "      <td>b</td>\n",
       "    </tr>\n",
       "    <tr>\n",
       "      <th>13</th>\n",
       "      <td>E</td>\n",
       "      <td>b</td>\n",
       "    </tr>\n",
       "    <tr>\n",
       "      <th>14</th>\n",
       "      <td>D</td>\n",
       "      <td>c</td>\n",
       "    </tr>\n",
       "    <tr>\n",
       "      <th>15</th>\n",
       "      <td>D</td>\n",
       "      <td>c</td>\n",
       "    </tr>\n",
       "    <tr>\n",
       "      <th>16</th>\n",
       "      <td>E</td>\n",
       "      <td>b</td>\n",
       "    </tr>\n",
       "    <tr>\n",
       "      <th>17</th>\n",
       "      <td>E</td>\n",
       "      <td>b</td>\n",
       "    </tr>\n",
       "    <tr>\n",
       "      <th>18</th>\n",
       "      <td>C</td>\n",
       "      <td>c</td>\n",
       "    </tr>\n",
       "    <tr>\n",
       "      <th>19</th>\n",
       "      <td>D</td>\n",
       "      <td>b</td>\n",
       "    </tr>\n",
       "    <tr>\n",
       "      <th>20</th>\n",
       "      <td>A</td>\n",
       "      <td>a</td>\n",
       "    </tr>\n",
       "    <tr>\n",
       "      <th>21</th>\n",
       "      <td>B</td>\n",
       "      <td>a</td>\n",
       "    </tr>\n",
       "    <tr>\n",
       "      <th>22</th>\n",
       "      <td>D</td>\n",
       "      <td>a</td>\n",
       "    </tr>\n",
       "    <tr>\n",
       "      <th>23</th>\n",
       "      <td>E</td>\n",
       "      <td>c</td>\n",
       "    </tr>\n",
       "    <tr>\n",
       "      <th>24</th>\n",
       "      <td>D</td>\n",
       "      <td>c</td>\n",
       "    </tr>\n",
       "    <tr>\n",
       "      <th>25</th>\n",
       "      <td>D</td>\n",
       "      <td>b</td>\n",
       "    </tr>\n",
       "    <tr>\n",
       "      <th>26</th>\n",
       "      <td>E</td>\n",
       "      <td>b</td>\n",
       "    </tr>\n",
       "    <tr>\n",
       "      <th>27</th>\n",
       "      <td>A</td>\n",
       "      <td>c</td>\n",
       "    </tr>\n",
       "    <tr>\n",
       "      <th>28</th>\n",
       "      <td>D</td>\n",
       "      <td>c</td>\n",
       "    </tr>\n",
       "    <tr>\n",
       "      <th>29</th>\n",
       "      <td>D</td>\n",
       "      <td>a</td>\n",
       "    </tr>\n",
       "    <tr>\n",
       "      <th>...</th>\n",
       "      <td>...</td>\n",
       "      <td>...</td>\n",
       "    </tr>\n",
       "    <tr>\n",
       "      <th>170</th>\n",
       "      <td>D</td>\n",
       "      <td>c</td>\n",
       "    </tr>\n",
       "    <tr>\n",
       "      <th>171</th>\n",
       "      <td>C</td>\n",
       "      <td>c</td>\n",
       "    </tr>\n",
       "    <tr>\n",
       "      <th>172</th>\n",
       "      <td>A</td>\n",
       "      <td>a</td>\n",
       "    </tr>\n",
       "    <tr>\n",
       "      <th>173</th>\n",
       "      <td>B</td>\n",
       "      <td>a</td>\n",
       "    </tr>\n",
       "    <tr>\n",
       "      <th>174</th>\n",
       "      <td>B</td>\n",
       "      <td>c</td>\n",
       "    </tr>\n",
       "    <tr>\n",
       "      <th>175</th>\n",
       "      <td>B</td>\n",
       "      <td>c</td>\n",
       "    </tr>\n",
       "    <tr>\n",
       "      <th>176</th>\n",
       "      <td>D</td>\n",
       "      <td>c</td>\n",
       "    </tr>\n",
       "    <tr>\n",
       "      <th>177</th>\n",
       "      <td>B</td>\n",
       "      <td>b</td>\n",
       "    </tr>\n",
       "    <tr>\n",
       "      <th>178</th>\n",
       "      <td>D</td>\n",
       "      <td>c</td>\n",
       "    </tr>\n",
       "    <tr>\n",
       "      <th>179</th>\n",
       "      <td>A</td>\n",
       "      <td>a</td>\n",
       "    </tr>\n",
       "    <tr>\n",
       "      <th>180</th>\n",
       "      <td>A</td>\n",
       "      <td>b</td>\n",
       "    </tr>\n",
       "    <tr>\n",
       "      <th>181</th>\n",
       "      <td>B</td>\n",
       "      <td>c</td>\n",
       "    </tr>\n",
       "    <tr>\n",
       "      <th>182</th>\n",
       "      <td>E</td>\n",
       "      <td>a</td>\n",
       "    </tr>\n",
       "    <tr>\n",
       "      <th>183</th>\n",
       "      <td>E</td>\n",
       "      <td>b</td>\n",
       "    </tr>\n",
       "    <tr>\n",
       "      <th>184</th>\n",
       "      <td>B</td>\n",
       "      <td>c</td>\n",
       "    </tr>\n",
       "    <tr>\n",
       "      <th>185</th>\n",
       "      <td>C</td>\n",
       "      <td>c</td>\n",
       "    </tr>\n",
       "    <tr>\n",
       "      <th>186</th>\n",
       "      <td>B</td>\n",
       "      <td>a</td>\n",
       "    </tr>\n",
       "    <tr>\n",
       "      <th>187</th>\n",
       "      <td>E</td>\n",
       "      <td>a</td>\n",
       "    </tr>\n",
       "    <tr>\n",
       "      <th>188</th>\n",
       "      <td>A</td>\n",
       "      <td>b</td>\n",
       "    </tr>\n",
       "    <tr>\n",
       "      <th>189</th>\n",
       "      <td>B</td>\n",
       "      <td>a</td>\n",
       "    </tr>\n",
       "    <tr>\n",
       "      <th>190</th>\n",
       "      <td>A</td>\n",
       "      <td>b</td>\n",
       "    </tr>\n",
       "    <tr>\n",
       "      <th>191</th>\n",
       "      <td>C</td>\n",
       "      <td>b</td>\n",
       "    </tr>\n",
       "    <tr>\n",
       "      <th>192</th>\n",
       "      <td>A</td>\n",
       "      <td>a</td>\n",
       "    </tr>\n",
       "    <tr>\n",
       "      <th>193</th>\n",
       "      <td>D</td>\n",
       "      <td>a</td>\n",
       "    </tr>\n",
       "    <tr>\n",
       "      <th>194</th>\n",
       "      <td>B</td>\n",
       "      <td>c</td>\n",
       "    </tr>\n",
       "    <tr>\n",
       "      <th>195</th>\n",
       "      <td>A</td>\n",
       "      <td>a</td>\n",
       "    </tr>\n",
       "    <tr>\n",
       "      <th>196</th>\n",
       "      <td>A</td>\n",
       "      <td>b</td>\n",
       "    </tr>\n",
       "    <tr>\n",
       "      <th>197</th>\n",
       "      <td>D</td>\n",
       "      <td>b</td>\n",
       "    </tr>\n",
       "    <tr>\n",
       "      <th>198</th>\n",
       "      <td>A</td>\n",
       "      <td>c</td>\n",
       "    </tr>\n",
       "    <tr>\n",
       "      <th>199</th>\n",
       "      <td>A</td>\n",
       "      <td>b</td>\n",
       "    </tr>\n",
       "  </tbody>\n",
       "</table>\n",
       "<p>200 rows × 2 columns</p>\n",
       "</div>"
      ],
      "text/plain": [
       "    Main Stack\n",
       "0      B     c\n",
       "1      E     c\n",
       "2      B     b\n",
       "3      C     a\n",
       "4      B     c\n",
       "5      E     c\n",
       "6      E     b\n",
       "7      C     b\n",
       "8      C     c\n",
       "9      D     b\n",
       "10     B     a\n",
       "11     B     c\n",
       "12     E     b\n",
       "13     E     b\n",
       "14     D     c\n",
       "15     D     c\n",
       "16     E     b\n",
       "17     E     b\n",
       "18     C     c\n",
       "19     D     b\n",
       "20     A     a\n",
       "21     B     a\n",
       "22     D     a\n",
       "23     E     c\n",
       "24     D     c\n",
       "25     D     b\n",
       "26     E     b\n",
       "27     A     c\n",
       "28     D     c\n",
       "29     D     a\n",
       "..   ...   ...\n",
       "170    D     c\n",
       "171    C     c\n",
       "172    A     a\n",
       "173    B     a\n",
       "174    B     c\n",
       "175    B     c\n",
       "176    D     c\n",
       "177    B     b\n",
       "178    D     c\n",
       "179    A     a\n",
       "180    A     b\n",
       "181    B     c\n",
       "182    E     a\n",
       "183    E     b\n",
       "184    B     c\n",
       "185    C     c\n",
       "186    B     a\n",
       "187    E     a\n",
       "188    A     b\n",
       "189    B     a\n",
       "190    A     b\n",
       "191    C     b\n",
       "192    A     a\n",
       "193    D     a\n",
       "194    B     c\n",
       "195    A     a\n",
       "196    A     b\n",
       "197    D     b\n",
       "198    A     c\n",
       "199    A     b\n",
       "\n",
       "[200 rows x 2 columns]"
      ]
     },
     "execution_count": 35,
     "metadata": {},
     "output_type": "execute_result"
    }
   ],
   "source": [
    "df"
   ]
  },
  {
   "cell_type": "markdown",
   "metadata": {},
   "source": [
    "Plot simple stacked bar plot"
   ]
  },
  {
   "cell_type": "code",
   "execution_count": 36,
   "metadata": {},
   "outputs": [
    {
     "data": {
      "image/png": "[encoded data removed]",
      "text/plain": [
       "<Figure size 792x792 with 1 Axes>"
      ]
     },
     "metadata": {
      "needs_background": "light"
     },
     "output_type": "display_data"
    }
   ],
   "source": [
    "ax = dsgutils.pd.viz.display_stacked_cat_bar(df, groupby='Main', on='Stack')\n",
    "ax.set(title='My Stacked Bar Plot');"
   ]
  },
  {
   "cell_type": "markdown",
   "metadata": {},
   "source": [
    "Same plot, but vertical"
   ]
  },
  {
   "cell_type": "code",
   "execution_count": 37,
   "metadata": {},
   "outputs": [
    {
     "data": {
      "image/png": "[encoded data removed]",
      "text/plain": [
       "<Figure size 792x792 with 1 Axes>"
      ]
     },
     "metadata": {
      "needs_background": "light"
     },
     "output_type": "display_data"
    }
   ],
   "source": [
    "ax = dsgutils.pd.viz.display_stacked_cat_bar(df, groupby='Main', on='Stack', horizontal=False)\n",
    "ax.set(title='My Stacked Bar Plot');"
   ]
  },
  {
   "cell_type": "markdown",
   "metadata": {},
   "source": [
    "Plot the same barplot, but scale to a 100"
   ]
  },
  {
   "cell_type": "code",
   "execution_count": 38,
   "metadata": {},
   "outputs": [
    {
     "data": {
      "image/png": "[encoded data removed]",
      "text/plain": [
       "<Figure size 792x792 with 1 Axes>"
      ]
     },
     "metadata": {
      "needs_background": "light"
     },
     "output_type": "display_data"
    }
   ],
   "source": [
    "ax = dsgutils.pd.viz.display_stacked_cat_bar(df, groupby='Main', on='Stack', horizontal=False, unit=100)\n",
    "ax.set(title='My Stacked Bar Plot');"
   ]
  },
  {
   "cell_type": "markdown",
   "metadata": {},
   "source": [
    "Add your custum pallette"
   ]
  },
  {
   "cell_type": "code",
   "execution_count": 39,
   "metadata": {},
   "outputs": [
    {
     "data": {
      "image/png": "[encoded data removed]",
      "text/plain": [
       "<Figure size 792x792 with 1 Axes>"
      ]
     },
     "metadata": {
      "needs_background": "light"
     },
     "output_type": "display_data"
    }
   ],
   "source": [
    "ax = dsgutils.pd.viz.display_stacked_cat_bar(df, groupby='Main', on='Stack', horizontal=False, unit=100, palette=sns.color_palette('Set2'))\n",
    "ax.set(title='My Stacked Bar Plot');"
   ]
  },
  {
   "cell_type": "markdown",
   "metadata": {},
   "source": [
    "#### `show_data`"
   ]
  },
  {
   "cell_type": "code",
   "execution_count": 40,
   "metadata": {},
   "outputs": [
    {
     "data": {
      "text/markdown": [
       "The Data contains **100** rows."
      ],
      "text/plain": [
       "<IPython.core.display.Markdown object>"
      ]
     },
     "metadata": {},
     "output_type": "display_data"
    },
    {
     "data": {
      "text/markdown": [
       "*__Sample of the data :__*"
      ],
      "text/plain": [
       "<IPython.core.display.Markdown object>"
      ]
     },
     "metadata": {},
     "output_type": "display_data"
    },
    {
     "data": {
      "text/html": [
       "<div>\n",
       "<style scoped>\n",
       "    .dataframe tbody tr th:only-of-type {\n",
       "        vertical-align: middle;\n",
       "    }\n",
       "\n",
       "    .dataframe tbody tr th {\n",
       "        vertical-align: top;\n",
       "    }\n",
       "\n",
       "    .dataframe thead th {\n",
       "        text-align: right;\n",
       "    }\n",
       "</style>\n",
       "<table border=\"1\" class=\"dataframe\">\n",
       "  <thead>\n",
       "    <tr style=\"text-align: right;\">\n",
       "      <th></th>\n",
       "      <th>product_id</th>\n",
       "      <th>store_id</th>\n",
       "      <th>customer_id</th>\n",
       "      <th>day_id</th>\n",
       "      <th>product_name</th>\n",
       "      <th>product_brand</th>\n",
       "      <th>month</th>\n",
       "      <th>year</th>\n",
       "      <th>date</th>\n",
       "      <th>date_year</th>\n",
       "      <th>date_month</th>\n",
       "    </tr>\n",
       "  </thead>\n",
       "  <tbody>\n",
       "    <tr>\n",
       "      <th>0</th>\n",
       "      <td>2.0</td>\n",
       "      <td>0.0</td>\n",
       "      <td>33.0</td>\n",
       "      <td>3.0</td>\n",
       "      <td>tee-shirt</td>\n",
       "      <td>addidas</td>\n",
       "      <td>may</td>\n",
       "      <td>2017</td>\n",
       "      <td>2018-07-01</td>\n",
       "      <td>2018</td>\n",
       "      <td>7</td>\n",
       "    </tr>\n",
       "    <tr>\n",
       "      <th>1</th>\n",
       "      <td>5.0</td>\n",
       "      <td>1.0</td>\n",
       "      <td>25.0</td>\n",
       "      <td>29.0</td>\n",
       "      <td>short</td>\n",
       "      <td>puma</td>\n",
       "      <td>dec</td>\n",
       "      <td>2017</td>\n",
       "      <td>2017-03-01</td>\n",
       "      <td>2017</td>\n",
       "      <td>3</td>\n",
       "    </tr>\n",
       "    <tr>\n",
       "      <th>2</th>\n",
       "      <td>4.0</td>\n",
       "      <td>2.0</td>\n",
       "      <td>5.0</td>\n",
       "      <td>18.0</td>\n",
       "      <td>basket</td>\n",
       "      <td>addidas</td>\n",
       "      <td>dec</td>\n",
       "      <td>2017</td>\n",
       "      <td>2018-09-01</td>\n",
       "      <td>2018</td>\n",
       "      <td>9</td>\n",
       "    </tr>\n",
       "    <tr>\n",
       "      <th>3</th>\n",
       "      <td>3.0</td>\n",
       "      <td>1.0</td>\n",
       "      <td>35.0</td>\n",
       "      <td>30.0</td>\n",
       "      <td>basket</td>\n",
       "      <td>oxbow</td>\n",
       "      <td>sept</td>\n",
       "      <td>2017</td>\n",
       "      <td>2018-08-01</td>\n",
       "      <td>2018</td>\n",
       "      <td>8</td>\n",
       "    </tr>\n",
       "    <tr>\n",
       "      <th>4</th>\n",
       "      <td>4.0</td>\n",
       "      <td>1.0</td>\n",
       "      <td>21.0</td>\n",
       "      <td>1.0</td>\n",
       "      <td>short</td>\n",
       "      <td>addidas</td>\n",
       "      <td>dec</td>\n",
       "      <td>2017</td>\n",
       "      <td>2017-12-01</td>\n",
       "      <td>2017</td>\n",
       "      <td>12</td>\n",
       "    </tr>\n",
       "  </tbody>\n",
       "</table>\n",
       "</div>"
      ],
      "text/plain": [
       "  product_id store_id customer_id day_id product_name product_brand month  \\\n",
       "0        2.0      0.0        33.0    3.0    tee-shirt       addidas   may   \n",
       "1        5.0      1.0        25.0   29.0        short          puma   dec   \n",
       "2        4.0      2.0         5.0   18.0       basket       addidas   dec   \n",
       "3        3.0      1.0        35.0   30.0       basket         oxbow  sept   \n",
       "4        4.0      1.0        21.0    1.0        short       addidas   dec   \n",
       "\n",
       "   year       date  date_year  date_month  \n",
       "0  2017 2018-07-01       2018           7  \n",
       "1  2017 2017-03-01       2017           3  \n",
       "2  2017 2018-09-01       2018           9  \n",
       "3  2017 2018-08-01       2018           8  \n",
       "4  2017 2017-12-01       2017          12  "
      ]
     },
     "metadata": {},
     "output_type": "display_data"
    },
    {
     "name": "stdout",
     "output_type": "stream",
     "text": [
      "\n",
      "\n"
     ]
    }
   ],
   "source": [
    "dsgutils.pd.viz.show_data(df_prod)"
   ]
  },
  {
   "cell_type": "markdown",
   "metadata": {},
   "source": [
    "#### `na_count`"
   ]
  },
  {
   "cell_type": "code",
   "execution_count": 41,
   "metadata": {},
   "outputs": [],
   "source": [
    "df_prod = df_prod.append({'product_id': 5, 'store_id' : 5, 'customer_id' : 3, 'day_id' : 12, 'product_name': np.nan,\n",
    "                'product_brand' : 'addidas'}, ignore_index=True)"
   ]
  },
  {
   "cell_type": "code",
   "execution_count": 42,
   "metadata": {},
   "outputs": [
    {
     "name": "stdout",
     "output_type": "stream",
     "text": [
      "Size of the current file is: (101, 11)\n",
      "\n"
     ]
    },
    {
     "data": {
      "text/markdown": [
       "*__Percentage of Na per columns in the data:__*"
      ],
      "text/plain": [
       "<IPython.core.display.Markdown object>"
      ]
     },
     "metadata": {},
     "output_type": "display_data"
    },
    {
     "name": "stdout",
     "output_type": "stream",
     "text": [
      "     column_name  na_size  na_size_percentage\n",
      "4   product_name        1                0.99\n",
      "6          month        1                0.99\n",
      "7           year        1                0.99\n",
      "8           date        1                0.99\n",
      "9      date_year        1                0.99\n",
      "10    date_month        1                0.99\n",
      "\n"
     ]
    }
   ],
   "source": [
    "dsgutils.pd.viz.na_count(df_prod)"
   ]
  },
  {
   "cell_type": "markdown",
   "metadata": {},
   "source": [
    "#### `percentage_missing_plots`"
   ]
  },
  {
   "cell_type": "code",
   "execution_count": 43,
   "metadata": {},
   "outputs": [
    {
     "name": "stdout",
     "output_type": "stream",
     "text": [
      "There are no missing value in the data set\n"
     ]
    }
   ],
   "source": [
    "dsgutils.pd.viz.percentage_missing_plots(df_prod, perc_missing = 0.01, save_plot = False, path_dir = None)"
   ]
  },
  {
   "cell_type": "markdown",
   "metadata": {},
   "source": [
    "#### `data_all_types`"
   ]
  },
  {
   "cell_type": "code",
   "execution_count": 44,
   "metadata": {},
   "outputs": [
    {
     "data": {
      "text/markdown": [
       "**Type of every column in the data**"
      ],
      "text/plain": [
       "<IPython.core.display.Markdown object>"
      ]
     },
     "metadata": {},
     "output_type": "display_data"
    },
    {
     "name": "stdout",
     "output_type": "stream",
     "text": [
      "\n",
      "product_id               object\n",
      "store_id                 object\n",
      "customer_id              object\n",
      "day_id                   object\n",
      "product_name             object\n",
      "product_brand            object\n",
      "month                    object\n",
      "year                     object\n",
      "date             datetime64[ns]\n",
      "date_year               float64\n",
      "date_month              float64\n",
      "dtype: object\n"
     ]
    }
   ],
   "source": [
    "dsgutils.pd.viz.data_all_types(df_prod)"
   ]
  },
  {
   "cell_type": "markdown",
   "metadata": {},
   "source": [
    "#### `zero_one_card`"
   ]
  },
  {
   "cell_type": "code",
   "execution_count": 45,
   "metadata": {},
   "outputs": [
    {
     "data": {
      "text/html": [
       "<div>\n",
       "<style scoped>\n",
       "    .dataframe tbody tr th:only-of-type {\n",
       "        vertical-align: middle;\n",
       "    }\n",
       "\n",
       "    .dataframe tbody tr th {\n",
       "        vertical-align: top;\n",
       "    }\n",
       "\n",
       "    .dataframe thead th {\n",
       "        text-align: right;\n",
       "    }\n",
       "</style>\n",
       "<table border=\"1\" class=\"dataframe\">\n",
       "  <thead>\n",
       "    <tr style=\"text-align: right;\">\n",
       "      <th></th>\n",
       "      <th>product_id</th>\n",
       "      <th>store_id</th>\n",
       "      <th>customer_id</th>\n",
       "      <th>day_id</th>\n",
       "      <th>product_name</th>\n",
       "      <th>product_brand</th>\n",
       "      <th>month</th>\n",
       "      <th>year</th>\n",
       "      <th>date</th>\n",
       "      <th>date_year</th>\n",
       "      <th>date_month</th>\n",
       "      <th>c</th>\n",
       "    </tr>\n",
       "  </thead>\n",
       "  <tbody>\n",
       "    <tr>\n",
       "      <th>0</th>\n",
       "      <td>2.0</td>\n",
       "      <td>0.0</td>\n",
       "      <td>33.0</td>\n",
       "      <td>3.0</td>\n",
       "      <td>tee-shirt</td>\n",
       "      <td>addidas</td>\n",
       "      <td>may</td>\n",
       "      <td>2017</td>\n",
       "      <td>2018-07-01</td>\n",
       "      <td>2018.0</td>\n",
       "      <td>7.0</td>\n",
       "      <td>2</td>\n",
       "    </tr>\n",
       "    <tr>\n",
       "      <th>1</th>\n",
       "      <td>5.0</td>\n",
       "      <td>1.0</td>\n",
       "      <td>25.0</td>\n",
       "      <td>29.0</td>\n",
       "      <td>short</td>\n",
       "      <td>puma</td>\n",
       "      <td>dec</td>\n",
       "      <td>2017</td>\n",
       "      <td>2017-03-01</td>\n",
       "      <td>2017.0</td>\n",
       "      <td>3.0</td>\n",
       "      <td>2</td>\n",
       "    </tr>\n",
       "    <tr>\n",
       "      <th>2</th>\n",
       "      <td>4.0</td>\n",
       "      <td>2.0</td>\n",
       "      <td>5.0</td>\n",
       "      <td>18.0</td>\n",
       "      <td>basket</td>\n",
       "      <td>addidas</td>\n",
       "      <td>dec</td>\n",
       "      <td>2017</td>\n",
       "      <td>2018-09-01</td>\n",
       "      <td>2018.0</td>\n",
       "      <td>9.0</td>\n",
       "      <td>2</td>\n",
       "    </tr>\n",
       "    <tr>\n",
       "      <th>3</th>\n",
       "      <td>3.0</td>\n",
       "      <td>1.0</td>\n",
       "      <td>35.0</td>\n",
       "      <td>30.0</td>\n",
       "      <td>basket</td>\n",
       "      <td>oxbow</td>\n",
       "      <td>sept</td>\n",
       "      <td>2017</td>\n",
       "      <td>2018-08-01</td>\n",
       "      <td>2018.0</td>\n",
       "      <td>8.0</td>\n",
       "      <td>2</td>\n",
       "    </tr>\n",
       "    <tr>\n",
       "      <th>4</th>\n",
       "      <td>4.0</td>\n",
       "      <td>1.0</td>\n",
       "      <td>21.0</td>\n",
       "      <td>1.0</td>\n",
       "      <td>short</td>\n",
       "      <td>addidas</td>\n",
       "      <td>dec</td>\n",
       "      <td>2017</td>\n",
       "      <td>2017-12-01</td>\n",
       "      <td>2017.0</td>\n",
       "      <td>12.0</td>\n",
       "      <td>2</td>\n",
       "    </tr>\n",
       "  </tbody>\n",
       "</table>\n",
       "</div>"
      ],
      "text/plain": [
       "  product_id store_id customer_id day_id product_name product_brand month  \\\n",
       "0        2.0      0.0        33.0    3.0    tee-shirt       addidas   may   \n",
       "1        5.0      1.0        25.0   29.0        short          puma   dec   \n",
       "2        4.0      2.0         5.0   18.0       basket       addidas   dec   \n",
       "3        3.0      1.0        35.0   30.0       basket         oxbow  sept   \n",
       "4        4.0      1.0        21.0    1.0        short       addidas   dec   \n",
       "\n",
       "   year       date  date_year  date_month  c  \n",
       "0  2017 2018-07-01     2018.0         7.0  2  \n",
       "1  2017 2017-03-01     2017.0         3.0  2  \n",
       "2  2017 2018-09-01     2018.0         9.0  2  \n",
       "3  2017 2018-08-01     2018.0         8.0  2  \n",
       "4  2017 2017-12-01     2017.0        12.0  2  "
      ]
     },
     "execution_count": 45,
     "metadata": {},
     "output_type": "execute_result"
    }
   ],
   "source": [
    "df_new = df_prod.copy()\n",
    "df_new['c'] = 2\n",
    "df_new.head()"
   ]
  },
  {
   "cell_type": "code",
   "execution_count": 46,
   "metadata": {},
   "outputs": [
    {
     "data": {
      "text/markdown": [
       "* Columns: *c* have less than two different values"
      ],
      "text/plain": [
       "<IPython.core.display.Markdown object>"
      ]
     },
     "metadata": {},
     "output_type": "display_data"
    },
    {
     "data": {
      "text/markdown": [
       "*   *c* has 1 differents values :[2]"
      ],
      "text/plain": [
       "<IPython.core.display.Markdown object>"
      ]
     },
     "metadata": {},
     "output_type": "display_data"
    }
   ],
   "source": [
    "dsgutils.pd.viz.zero_one_card(df_new)"
   ]
  },
  {
   "cell_type": "markdown",
   "metadata": {},
   "source": [
    "#### `same_num_of_unique_val`"
   ]
  },
  {
   "cell_type": "code",
   "execution_count": 47,
   "metadata": {},
   "outputs": [
    {
     "data": {
      "text/markdown": [
       "* No columns have same number of unique values"
      ],
      "text/plain": [
       "<IPython.core.display.Markdown object>"
      ]
     },
     "metadata": {},
     "output_type": "display_data"
    }
   ],
   "source": [
    "dsgutils.pd.viz.same_num_of_unique_val(df_prod)"
   ]
  },
  {
   "cell_type": "markdown",
   "metadata": {},
   "source": [
    "#### `data_categorical`"
   ]
  },
  {
   "cell_type": "code",
   "execution_count": 48,
   "metadata": {
    "scrolled": false
   },
   "outputs": [
    {
     "name": "stdout",
     "output_type": "stream",
     "text": [
      "Categorical features :  product_id store_id customer_id day_id product_name product_brand month year\n"
     ]
    },
    {
     "data": {
      "text/markdown": [
       "**Number of unique values for every feature:**"
      ],
      "text/plain": [
       "<IPython.core.display.Markdown object>"
      ]
     },
     "metadata": {},
     "output_type": "display_data"
    },
    {
     "name": "stdout",
     "output_type": "stream",
     "text": [
      "               Unique values\n",
      "customer_id               39\n",
      "day_id                    32\n",
      "product_id                12\n",
      "month                     12\n",
      "store_id                   5\n",
      "product_brand              4\n",
      "product_name               3\n",
      "year                       2\n"
     ]
    },
    {
     "data": {
      "text/markdown": [
       "**5 uniques samples of every Categorical Features :**"
      ],
      "text/plain": [
       "<IPython.core.display.Markdown object>"
      ]
     },
     "metadata": {},
     "output_type": "display_data"
    },
    {
     "name": "stdout",
     "output_type": "stream",
     "text": [
      "  product_brand product_id store_id day_id  year product_name customer_id  \\\n",
      "0       addidas        2.0      0.0    3.0  2017    tee-shirt        33.0   \n",
      "1          puma        5.0      1.0   29.0  2018        short        25.0   \n",
      "2         oxbow        4.0      2.0   18.0   NaN       basket         5.0   \n",
      "3          nike        3.0      3.0   30.0  None          NaN        35.0   \n",
      "4          None        8.0        5    1.0  None         None        21.0   \n",
      "\n",
      "   month  \n",
      "0    may  \n",
      "1    dec  \n",
      "2   sept  \n",
      "3  april  \n",
      "4   july  \n"
     ]
    }
   ],
   "source": [
    "cat_features =dsgutils.pd.viz.data_categorical(df_prod, cat_features = [], cont_features = [])"
   ]
  },
  {
   "cell_type": "markdown",
   "metadata": {},
   "source": [
    "#### `data_continuous`"
   ]
  },
  {
   "cell_type": "code",
   "execution_count": 49,
   "metadata": {},
   "outputs": [
    {
     "name": "stdout",
     "output_type": "stream",
     "text": [
      "Continuous features :  day_id\n"
     ]
    },
    {
     "data": {
      "text/markdown": [
       "**Description of continuous columns:**"
      ],
      "text/plain": [
       "<IPython.core.display.Markdown object>"
      ]
     },
     "metadata": {},
     "output_type": "display_data"
    },
    {
     "name": "stdout",
     "output_type": "stream",
     "text": [
      "       day_id\n",
      "count     101\n",
      "unique     32\n",
      "top       2.0\n",
      "freq        7\n"
     ]
    }
   ],
   "source": [
    "cat_features = dsgutils.pd.viz.data_continuous(df_prod, ['date_year', 'date_month'], ['day_id'])"
   ]
  },
  {
   "cell_type": "markdown",
   "metadata": {},
   "source": [
    "####  `value_count_plot`"
   ]
  },
  {
   "cell_type": "code",
   "execution_count": 50,
   "metadata": {},
   "outputs": [
    {
     "data": {
      "text/html": [
       "<div>\n",
       "<style scoped>\n",
       "    .dataframe tbody tr th:only-of-type {\n",
       "        vertical-align: middle;\n",
       "    }\n",
       "\n",
       "    .dataframe tbody tr th {\n",
       "        vertical-align: top;\n",
       "    }\n",
       "\n",
       "    .dataframe thead th {\n",
       "        text-align: right;\n",
       "    }\n",
       "</style>\n",
       "<table border=\"1\" class=\"dataframe\">\n",
       "  <thead>\n",
       "    <tr style=\"text-align: right;\">\n",
       "      <th></th>\n",
       "      <th>product_id</th>\n",
       "      <th>store_id</th>\n",
       "      <th>customer_id</th>\n",
       "      <th>day_id</th>\n",
       "      <th>product_name</th>\n",
       "      <th>product_brand</th>\n",
       "      <th>month</th>\n",
       "      <th>year</th>\n",
       "      <th>date</th>\n",
       "      <th>date_year</th>\n",
       "      <th>date_month</th>\n",
       "    </tr>\n",
       "  </thead>\n",
       "  <tbody>\n",
       "    <tr>\n",
       "      <th>0</th>\n",
       "      <td>2.0</td>\n",
       "      <td>0.0</td>\n",
       "      <td>33.0</td>\n",
       "      <td>3.0</td>\n",
       "      <td>tee-shirt</td>\n",
       "      <td>addidas</td>\n",
       "      <td>may</td>\n",
       "      <td>2017</td>\n",
       "      <td>2018-07-01</td>\n",
       "      <td>2018.0</td>\n",
       "      <td>7.0</td>\n",
       "    </tr>\n",
       "    <tr>\n",
       "      <th>1</th>\n",
       "      <td>5.0</td>\n",
       "      <td>1.0</td>\n",
       "      <td>25.0</td>\n",
       "      <td>29.0</td>\n",
       "      <td>short</td>\n",
       "      <td>puma</td>\n",
       "      <td>dec</td>\n",
       "      <td>2017</td>\n",
       "      <td>2017-03-01</td>\n",
       "      <td>2017.0</td>\n",
       "      <td>3.0</td>\n",
       "    </tr>\n",
       "    <tr>\n",
       "      <th>2</th>\n",
       "      <td>4.0</td>\n",
       "      <td>2.0</td>\n",
       "      <td>5.0</td>\n",
       "      <td>18.0</td>\n",
       "      <td>basket</td>\n",
       "      <td>addidas</td>\n",
       "      <td>dec</td>\n",
       "      <td>2017</td>\n",
       "      <td>2018-09-01</td>\n",
       "      <td>2018.0</td>\n",
       "      <td>9.0</td>\n",
       "    </tr>\n",
       "    <tr>\n",
       "      <th>3</th>\n",
       "      <td>3.0</td>\n",
       "      <td>1.0</td>\n",
       "      <td>35.0</td>\n",
       "      <td>30.0</td>\n",
       "      <td>basket</td>\n",
       "      <td>oxbow</td>\n",
       "      <td>sept</td>\n",
       "      <td>2017</td>\n",
       "      <td>2018-08-01</td>\n",
       "      <td>2018.0</td>\n",
       "      <td>8.0</td>\n",
       "    </tr>\n",
       "    <tr>\n",
       "      <th>4</th>\n",
       "      <td>4.0</td>\n",
       "      <td>1.0</td>\n",
       "      <td>21.0</td>\n",
       "      <td>1.0</td>\n",
       "      <td>short</td>\n",
       "      <td>addidas</td>\n",
       "      <td>dec</td>\n",
       "      <td>2017</td>\n",
       "      <td>2017-12-01</td>\n",
       "      <td>2017.0</td>\n",
       "      <td>12.0</td>\n",
       "    </tr>\n",
       "  </tbody>\n",
       "</table>\n",
       "</div>"
      ],
      "text/plain": [
       "  product_id store_id customer_id day_id product_name product_brand month  \\\n",
       "0        2.0      0.0        33.0    3.0    tee-shirt       addidas   may   \n",
       "1        5.0      1.0        25.0   29.0        short          puma   dec   \n",
       "2        4.0      2.0         5.0   18.0       basket       addidas   dec   \n",
       "3        3.0      1.0        35.0   30.0       basket         oxbow  sept   \n",
       "4        4.0      1.0        21.0    1.0        short       addidas   dec   \n",
       "\n",
       "   year       date  date_year  date_month  \n",
       "0  2017 2018-07-01     2018.0         7.0  \n",
       "1  2017 2017-03-01     2017.0         3.0  \n",
       "2  2017 2018-09-01     2018.0         9.0  \n",
       "3  2017 2018-08-01     2018.0         8.0  \n",
       "4  2017 2017-12-01     2017.0        12.0  "
      ]
     },
     "execution_count": 50,
     "metadata": {},
     "output_type": "execute_result"
    }
   ],
   "source": [
    "df_prod.head(5)"
   ]
  },
  {
   "cell_type": "code",
   "execution_count": 51,
   "metadata": {},
   "outputs": [
    {
     "data": {
      "image/png": "[encoded data removed]",
      "text/plain": [
       "<Figure size 288x288 with 1 Axes>"
      ]
     },
     "metadata": {
      "needs_background": "light"
     },
     "output_type": "display_data"
    },
    {
     "data": {
      "image/png": "[encoded data removed]",
      "text/plain": [
       "<Figure size 288x288 with 1 Axes>"
      ]
     },
     "metadata": {
      "needs_background": "light"
     },
     "output_type": "display_data"
    }
   ],
   "source": [
    "dsgutils.pd.viz.value_count_plot(df_prod, ['product_name', 'product_brand'], save_plot = False, path_dir = None )"
   ]
  },
  {
   "cell_type": "markdown",
   "metadata": {},
   "source": [
    "#### `value_count_top`"
   ]
  },
  {
   "cell_type": "code",
   "execution_count": 52,
   "metadata": {},
   "outputs": [
    {
     "data": {
      "image/png": "[encoded data removed]",
      "text/plain": [
       "<Figure size 288x288 with 1 Axes>"
      ]
     },
     "metadata": {
      "needs_background": "light"
     },
     "output_type": "display_data"
    }
   ],
   "source": [
    "dsgutils.pd.viz.value_count_top(df_prod, ['product_brand'], save_plot = False, path_dir = None, top = 10 )"
   ]
  },
  {
   "cell_type": "markdown",
   "metadata": {},
   "source": [
    "#### `value_count_bottom`"
   ]
  },
  {
   "cell_type": "code",
   "execution_count": 53,
   "metadata": {},
   "outputs": [
    {
     "data": {
      "image/png": "[encoded data removed]",
      "text/plain": [
       "<Figure size 288x288 with 1 Axes>"
      ]
     },
     "metadata": {
      "needs_background": "light"
     },
     "output_type": "display_data"
    }
   ],
   "source": [
    "dsgutils.pd.viz.value_count_bottom(df_prod, ['product_brand'], save_plot = False, path_dir = None, bottom = 10 )"
   ]
  },
  {
   "cell_type": "markdown",
   "metadata": {},
   "source": [
    "#### `distrib_numerical`"
   ]
  },
  {
   "cell_type": "code",
   "execution_count": 54,
   "metadata": {},
   "outputs": [
    {
     "data": {
      "text/html": [
       "<div>\n",
       "<style scoped>\n",
       "    .dataframe tbody tr th:only-of-type {\n",
       "        vertical-align: middle;\n",
       "    }\n",
       "\n",
       "    .dataframe tbody tr th {\n",
       "        vertical-align: top;\n",
       "    }\n",
       "\n",
       "    .dataframe thead th {\n",
       "        text-align: right;\n",
       "    }\n",
       "</style>\n",
       "<table border=\"1\" class=\"dataframe\">\n",
       "  <thead>\n",
       "    <tr style=\"text-align: right;\">\n",
       "      <th></th>\n",
       "      <th>a</th>\n",
       "      <th>b</th>\n",
       "      <th>c</th>\n",
       "      <th>d</th>\n",
       "      <th>e</th>\n",
       "    </tr>\n",
       "  </thead>\n",
       "  <tbody>\n",
       "    <tr>\n",
       "      <th>0</th>\n",
       "      <td>0.0</td>\n",
       "      <td>8.761294</td>\n",
       "      <td>8.776490</td>\n",
       "      <td>7.561367</td>\n",
       "      <td>13.667641</td>\n",
       "    </tr>\n",
       "    <tr>\n",
       "      <th>1</th>\n",
       "      <td>2.0</td>\n",
       "      <td>1.869479</td>\n",
       "      <td>12.800478</td>\n",
       "      <td>12.568483</td>\n",
       "      <td>14.144755</td>\n",
       "    </tr>\n",
       "    <tr>\n",
       "      <th>2</th>\n",
       "      <td>3.0</td>\n",
       "      <td>2.884148</td>\n",
       "      <td>10.024408</td>\n",
       "      <td>6.707836</td>\n",
       "      <td>1.432957</td>\n",
       "    </tr>\n",
       "    <tr>\n",
       "      <th>3</th>\n",
       "      <td>3.0</td>\n",
       "      <td>5.707835</td>\n",
       "      <td>11.723025</td>\n",
       "      <td>11.251784</td>\n",
       "      <td>5.213275</td>\n",
       "    </tr>\n",
       "    <tr>\n",
       "      <th>4</th>\n",
       "      <td>3.0</td>\n",
       "      <td>8.744045</td>\n",
       "      <td>10.465701</td>\n",
       "      <td>9.749621</td>\n",
       "      <td>12.814671</td>\n",
       "    </tr>\n",
       "    <tr>\n",
       "      <th>5</th>\n",
       "      <td>3.0</td>\n",
       "      <td>4.751894</td>\n",
       "      <td>12.894673</td>\n",
       "      <td>14.624150</td>\n",
       "      <td>4.879644</td>\n",
       "    </tr>\n",
       "    <tr>\n",
       "      <th>6</th>\n",
       "      <td>12.0</td>\n",
       "      <td>11.291141</td>\n",
       "      <td>3.671472</td>\n",
       "      <td>3.246119</td>\n",
       "      <td>2.396818</td>\n",
       "    </tr>\n",
       "    <tr>\n",
       "      <th>7</th>\n",
       "      <td>3.0</td>\n",
       "      <td>11.157927</td>\n",
       "      <td>1.285140</td>\n",
       "      <td>4.636422</td>\n",
       "      <td>1.639088</td>\n",
       "    </tr>\n",
       "    <tr>\n",
       "      <th>8</th>\n",
       "      <td>13.0</td>\n",
       "      <td>3.134235</td>\n",
       "      <td>1.876219</td>\n",
       "      <td>10.645645</td>\n",
       "      <td>8.611629</td>\n",
       "    </tr>\n",
       "    <tr>\n",
       "      <th>9</th>\n",
       "      <td>6.0</td>\n",
       "      <td>14.466252</td>\n",
       "      <td>8.648730</td>\n",
       "      <td>0.452629</td>\n",
       "      <td>14.604119</td>\n",
       "    </tr>\n",
       "  </tbody>\n",
       "</table>\n",
       "</div>"
      ],
      "text/plain": [
       "      a          b          c          d          e\n",
       "0   0.0   8.761294   8.776490   7.561367  13.667641\n",
       "1   2.0   1.869479  12.800478  12.568483  14.144755\n",
       "2   3.0   2.884148  10.024408   6.707836   1.432957\n",
       "3   3.0   5.707835  11.723025  11.251784   5.213275\n",
       "4   3.0   8.744045  10.465701   9.749621  12.814671\n",
       "5   3.0   4.751894  12.894673  14.624150   4.879644\n",
       "6  12.0  11.291141   3.671472   3.246119   2.396818\n",
       "7   3.0  11.157927   1.285140   4.636422   1.639088\n",
       "8  13.0   3.134235   1.876219  10.645645   8.611629\n",
       "9   6.0  14.466252   8.648730   0.452629  14.604119"
      ]
     },
     "execution_count": 54,
     "metadata": {},
     "output_type": "execute_result"
    }
   ],
   "source": [
    "df_5 = pd.DataFrame(data= np.random.rand(100, 5)*15,\n",
    "                 columns=list(ascii_letters[:5]))\n",
    "df_5['a'] = np.round(df_5['a'])\n",
    "df_5.head(10)"
   ]
  },
  {
   "cell_type": "code",
   "execution_count": 55,
   "metadata": {},
   "outputs": [
    {
     "name": "stderr",
     "output_type": "stream",
     "text": [
      "/home/danielle/virtualenvs/emedgene/lib/python3.5/site-packages/scipy/stats/stats.py:1713: FutureWarning: Using a non-tuple sequence for multidimensional indexing is deprecated; use `arr[tuple(seq)]` instead of `arr[seq]`. In the future this will be interpreted as an array index, `arr[np.array(seq)]`, which will result either in an error or a different result.\n",
      "  return np.add.reduce(sorted[indexer] * weights, axis=axis) / sumval\n"
     ]
    },
    {
     "data": {
      "image/png": "[encoded data removed]",
      "text/plain": [
       "<Figure size 1458x1152 with 2 Axes>"
      ]
     },
     "metadata": {
      "needs_background": "light"
     },
     "output_type": "display_data"
    }
   ],
   "source": [
    "dsgutils.pd.viz.distrib_numerical(df_5, ['b', 'c'] , percentiles = 0.05, kde = True, save_plot = False, path_dir = None)"
   ]
  },
  {
   "cell_type": "markdown",
   "metadata": {},
   "source": [
    "#### `box_plot_continuous`"
   ]
  },
  {
   "cell_type": "code",
   "execution_count": 56,
   "metadata": {},
   "outputs": [
    {
     "data": {
      "image/png": "[encoded data removed]",
      "text/plain": [
       "<Figure size 1458x1458 with 2 Axes>"
      ]
     },
     "metadata": {
      "needs_background": "light"
     },
     "output_type": "display_data"
    }
   ],
   "source": [
    "dsgutils.pd.viz.box_plot_continuous(df_5, ['b', 'c'], percentiles = 0.05, save_plot = False, path_dir = None)"
   ]
  },
  {
   "cell_type": "markdown",
   "metadata": {},
   "source": [
    "#### `count_month_year`"
   ]
  },
  {
   "cell_type": "code",
   "execution_count": 57,
   "metadata": {},
   "outputs": [
    {
     "data": {
      "image/png": "[encoded data removed]",
      "text/plain": [
       "<Figure size 715.475x432 with 1 Axes>"
      ]
     },
     "metadata": {},
     "output_type": "display_data"
    }
   ],
   "source": [
    "dsgutils.pd.viz.count_month_year (df_prod,'month','year', save_plot = False, path_dir = None)"
   ]
  },
  {
   "cell_type": "markdown",
   "metadata": {},
   "source": [
    "#### `count_plot_col_per_date`"
   ]
  },
  {
   "cell_type": "code",
   "execution_count": 58,
   "metadata": {},
   "outputs": [
    {
     "data": {
      "image/png": "[encoded data removed]",
      "text/plain": [
       "<Figure size 1008x432 with 1 Axes>"
      ]
     },
     "metadata": {},
     "output_type": "display_data"
    }
   ],
   "source": [
    "dsgutils.pd.viz.count_plot_col_per_date(df_prod, 'date', 'product_brand', num_label = 1, save_plot = False, path_dir = None)"
   ]
  },
  {
   "cell_type": "markdown",
   "metadata": {},
   "source": [
    "#### `countplot_cat1`"
   ]
  },
  {
   "cell_type": "code",
   "execution_count": 59,
   "metadata": {},
   "outputs": [
    {
     "data": {
      "image/png": "[encoded data removed]",
      "text/plain": [
       "<Figure size 864x360 with 1 Axes>"
      ]
     },
     "metadata": {},
     "output_type": "display_data"
    }
   ],
   "source": [
    "dsgutils.pd.viz.countplot_cat1(df_prod, 'product_brand', title_suffix = '', perc = False, num_label = 1, save_plot = False, path_dir = None)"
   ]
  },
  {
   "cell_type": "markdown",
   "metadata": {},
   "source": [
    "#### `density_plot_cat1`"
   ]
  },
  {
   "cell_type": "code",
   "execution_count": 60,
   "metadata": {},
   "outputs": [
    {
     "data": {
      "image/png": "[encoded data removed]",
      "text/plain": [
       "<Figure size 864x360 with 1 Axes>"
      ]
     },
     "metadata": {},
     "output_type": "display_data"
    }
   ],
   "source": [
    "df_prod['product_id'] =df_prod['product_id'].astype(float)\n",
    "dsgutils.pd.viz.density_plot_cat1(df_prod, 'product_id', bins =5, kde = False, title_suffix = '', save_plot = False, path_dir = None )"
   ]
  },
  {
   "cell_type": "markdown",
   "metadata": {},
   "source": [
    "#### `num_of_cat2_per_cat1`"
   ]
  },
  {
   "cell_type": "code",
   "execution_count": 61,
   "metadata": {},
   "outputs": [
    {
     "data": {
      "image/png": "[encoded data removed]",
      "text/plain": [
       "<Figure size 864x360 with 1 Axes>"
      ]
     },
     "metadata": {},
     "output_type": "display_data"
    }
   ],
   "source": [
    "dsgutils.pd.viz.num_of_cat2_per_cat1(df_prod, 'product_brand', 'customer_id', figsize=(12,5), normalize = False, num_label = 1, save_plot = False, path_dir = None )"
   ]
  },
  {
   "cell_type": "markdown",
   "metadata": {},
   "source": [
    "#### `count_of_cat2_per_cat1`"
   ]
  },
  {
   "cell_type": "code",
   "execution_count": 62,
   "metadata": {},
   "outputs": [
    {
     "data": {
      "image/png": "[encoded data removed]",
      "text/plain": [
       "<Figure size 720x360 with 1 Axes>"
      ]
     },
     "metadata": {},
     "output_type": "display_data"
    }
   ],
   "source": [
    "dsgutils.pd.viz.count_of_cat2_per_cat1(df_prod, 'product_brand', 'customer_id', figsize=(10,5), xlim =None, ylim= None, num_label =1, save_plot = False, path_dir = None)"
   ]
  },
  {
   "cell_type": "markdown",
   "metadata": {},
   "source": [
    "#### `count_of_cat3_per_cat1cat2`"
   ]
  },
  {
   "cell_type": "code",
   "execution_count": 63,
   "metadata": {},
   "outputs": [
    {
     "data": {
      "image/png": "[encoded data removed]",
      "text/plain": [
       "<Figure size 720x360 with 1 Axes>"
      ]
     },
     "metadata": {},
     "output_type": "display_data"
    }
   ],
   "source": [
    "dsgutils.pd.viz.count_of_cat3_per_cat1cat2(df_prod, 'product_brand', 'product_name', 'customer_id', num_label=1, save_plot = False, path_dir = None )"
   ]
  },
  {
   "cell_type": "markdown",
   "metadata": {},
   "source": [
    "#### `boxplot_2_features`"
   ]
  },
  {
   "cell_type": "code",
   "execution_count": 64,
   "metadata": {},
   "outputs": [
    {
     "data": {
      "text/html": [
       "<div>\n",
       "<style scoped>\n",
       "    .dataframe tbody tr th:only-of-type {\n",
       "        vertical-align: middle;\n",
       "    }\n",
       "\n",
       "    .dataframe tbody tr th {\n",
       "        vertical-align: top;\n",
       "    }\n",
       "\n",
       "    .dataframe thead th {\n",
       "        text-align: right;\n",
       "    }\n",
       "</style>\n",
       "<table border=\"1\" class=\"dataframe\">\n",
       "  <thead>\n",
       "    <tr style=\"text-align: right;\">\n",
       "      <th></th>\n",
       "      <th>a</th>\n",
       "      <th>b</th>\n",
       "      <th>c</th>\n",
       "      <th>d</th>\n",
       "      <th>e</th>\n",
       "    </tr>\n",
       "  </thead>\n",
       "  <tbody>\n",
       "    <tr>\n",
       "      <th>0</th>\n",
       "      <td>0.0</td>\n",
       "      <td>8.761294</td>\n",
       "      <td>8.776490</td>\n",
       "      <td>7.561367</td>\n",
       "      <td>13.667641</td>\n",
       "    </tr>\n",
       "    <tr>\n",
       "      <th>1</th>\n",
       "      <td>2.0</td>\n",
       "      <td>1.869479</td>\n",
       "      <td>12.800478</td>\n",
       "      <td>12.568483</td>\n",
       "      <td>14.144755</td>\n",
       "    </tr>\n",
       "    <tr>\n",
       "      <th>2</th>\n",
       "      <td>3.0</td>\n",
       "      <td>2.884148</td>\n",
       "      <td>10.024408</td>\n",
       "      <td>6.707836</td>\n",
       "      <td>1.432957</td>\n",
       "    </tr>\n",
       "    <tr>\n",
       "      <th>3</th>\n",
       "      <td>3.0</td>\n",
       "      <td>5.707835</td>\n",
       "      <td>11.723025</td>\n",
       "      <td>11.251784</td>\n",
       "      <td>5.213275</td>\n",
       "    </tr>\n",
       "    <tr>\n",
       "      <th>4</th>\n",
       "      <td>3.0</td>\n",
       "      <td>8.744045</td>\n",
       "      <td>10.465701</td>\n",
       "      <td>9.749621</td>\n",
       "      <td>12.814671</td>\n",
       "    </tr>\n",
       "  </tbody>\n",
       "</table>\n",
       "</div>"
      ],
      "text/plain": [
       "     a         b          c          d          e\n",
       "0  0.0  8.761294   8.776490   7.561367  13.667641\n",
       "1  2.0  1.869479  12.800478  12.568483  14.144755\n",
       "2  3.0  2.884148  10.024408   6.707836   1.432957\n",
       "3  3.0  5.707835  11.723025  11.251784   5.213275\n",
       "4  3.0  8.744045  10.465701   9.749621  12.814671"
      ]
     },
     "execution_count": 64,
     "metadata": {},
     "output_type": "execute_result"
    }
   ],
   "source": [
    "df_5.head()"
   ]
  },
  {
   "cell_type": "code",
   "execution_count": 65,
   "metadata": {},
   "outputs": [
    {
     "data": {
      "image/png": "[encoded data removed]",
      "text/plain": [
       "<Figure size 1296x504 with 1 Axes>"
      ]
     },
     "metadata": {},
     "output_type": "display_data"
    }
   ],
   "source": [
    "dsgutils.pd.viz.boxplot_2_features(df_5, 'a', 'b', ylim_i = 0, set_y_limit = False, order_boxplot = False, print_value = False, num_label = 1, save_plot = False, path_dir = None)"
   ]
  },
  {
   "cell_type": "markdown",
   "metadata": {},
   "source": [
    "#### `scatter_2_features`"
   ]
  },
  {
   "cell_type": "code",
   "execution_count": 66,
   "metadata": {},
   "outputs": [
    {
     "data": {
      "image/png": "[encoded data removed]",
      "text/plain": [
       "<Figure size 1296x504 with 1 Axes>"
      ]
     },
     "metadata": {},
     "output_type": "display_data"
    }
   ],
   "source": [
    "dsgutils.pd.viz.scatter_2_features(df_5, 'a', 'b', ylim_i = 0, set_y_limit = False, xlim_i = 0, set_x_limit = False, order_boxplot = False, print_value = False, num_label = 1)"
   ]
  },
  {
   "cell_type": "markdown",
   "metadata": {},
   "source": [
    "#### `stacked_bar_plot`"
   ]
  },
  {
   "cell_type": "code",
   "execution_count": 67,
   "metadata": {},
   "outputs": [
    {
     "data": {
      "text/html": [
       "<div>\n",
       "<style scoped>\n",
       "    .dataframe tbody tr th:only-of-type {\n",
       "        vertical-align: middle;\n",
       "    }\n",
       "\n",
       "    .dataframe tbody tr th {\n",
       "        vertical-align: top;\n",
       "    }\n",
       "\n",
       "    .dataframe thead th {\n",
       "        text-align: right;\n",
       "    }\n",
       "</style>\n",
       "<table border=\"1\" class=\"dataframe\">\n",
       "  <thead>\n",
       "    <tr style=\"text-align: right;\">\n",
       "      <th></th>\n",
       "      <th>product_id</th>\n",
       "      <th>store_id</th>\n",
       "      <th>customer_id</th>\n",
       "      <th>day_id</th>\n",
       "      <th>product_name</th>\n",
       "      <th>product_brand</th>\n",
       "      <th>month</th>\n",
       "      <th>year</th>\n",
       "      <th>date</th>\n",
       "      <th>date_year</th>\n",
       "      <th>date_month</th>\n",
       "    </tr>\n",
       "  </thead>\n",
       "  <tbody>\n",
       "    <tr>\n",
       "      <th>0</th>\n",
       "      <td>2.0</td>\n",
       "      <td>0.0</td>\n",
       "      <td>33.0</td>\n",
       "      <td>3.0</td>\n",
       "      <td>tee-shirt</td>\n",
       "      <td>addidas</td>\n",
       "      <td>may</td>\n",
       "      <td>2017</td>\n",
       "      <td>2018-07-01</td>\n",
       "      <td>2018.0</td>\n",
       "      <td>7.0</td>\n",
       "    </tr>\n",
       "    <tr>\n",
       "      <th>1</th>\n",
       "      <td>5.0</td>\n",
       "      <td>1.0</td>\n",
       "      <td>25.0</td>\n",
       "      <td>29.0</td>\n",
       "      <td>short</td>\n",
       "      <td>puma</td>\n",
       "      <td>dec</td>\n",
       "      <td>2017</td>\n",
       "      <td>2017-03-01</td>\n",
       "      <td>2017.0</td>\n",
       "      <td>3.0</td>\n",
       "    </tr>\n",
       "    <tr>\n",
       "      <th>2</th>\n",
       "      <td>4.0</td>\n",
       "      <td>2.0</td>\n",
       "      <td>5.0</td>\n",
       "      <td>18.0</td>\n",
       "      <td>basket</td>\n",
       "      <td>addidas</td>\n",
       "      <td>dec</td>\n",
       "      <td>2017</td>\n",
       "      <td>2018-09-01</td>\n",
       "      <td>2018.0</td>\n",
       "      <td>9.0</td>\n",
       "    </tr>\n",
       "    <tr>\n",
       "      <th>3</th>\n",
       "      <td>3.0</td>\n",
       "      <td>1.0</td>\n",
       "      <td>35.0</td>\n",
       "      <td>30.0</td>\n",
       "      <td>basket</td>\n",
       "      <td>oxbow</td>\n",
       "      <td>sept</td>\n",
       "      <td>2017</td>\n",
       "      <td>2018-08-01</td>\n",
       "      <td>2018.0</td>\n",
       "      <td>8.0</td>\n",
       "    </tr>\n",
       "    <tr>\n",
       "      <th>4</th>\n",
       "      <td>4.0</td>\n",
       "      <td>1.0</td>\n",
       "      <td>21.0</td>\n",
       "      <td>1.0</td>\n",
       "      <td>short</td>\n",
       "      <td>addidas</td>\n",
       "      <td>dec</td>\n",
       "      <td>2017</td>\n",
       "      <td>2017-12-01</td>\n",
       "      <td>2017.0</td>\n",
       "      <td>12.0</td>\n",
       "    </tr>\n",
       "  </tbody>\n",
       "</table>\n",
       "</div>"
      ],
      "text/plain": [
       "   product_id store_id customer_id day_id product_name product_brand month  \\\n",
       "0         2.0      0.0        33.0    3.0    tee-shirt       addidas   may   \n",
       "1         5.0      1.0        25.0   29.0        short          puma   dec   \n",
       "2         4.0      2.0         5.0   18.0       basket       addidas   dec   \n",
       "3         3.0      1.0        35.0   30.0       basket         oxbow  sept   \n",
       "4         4.0      1.0        21.0    1.0        short       addidas   dec   \n",
       "\n",
       "   year       date  date_year  date_month  \n",
       "0  2017 2018-07-01     2018.0         7.0  \n",
       "1  2017 2017-03-01     2017.0         3.0  \n",
       "2  2017 2018-09-01     2018.0         9.0  \n",
       "3  2017 2018-08-01     2018.0         8.0  \n",
       "4  2017 2017-12-01     2017.0        12.0  "
      ]
     },
     "execution_count": 67,
     "metadata": {},
     "output_type": "execute_result"
    }
   ],
   "source": [
    "df_prod.head()"
   ]
  },
  {
   "cell_type": "code",
   "execution_count": 68,
   "metadata": {},
   "outputs": [
    {
     "data": {
      "image/png": "[encoded data removed]",
      "text/plain": [
       "<Figure size 1440x720 with 1 Axes>"
      ]
     },
     "metadata": {},
     "output_type": "display_data"
    }
   ],
   "source": [
    "dsgutils.pd.viz.stacked_bar_plot(df_prod, 'product_brand', 'product_name', bar_size=30, nan_colums_thresh=0, figsize=(20, 10), percentile=0.001, plot_flag = 1, normalize = False, sort_bars = True, return_pivot = False)"
   ]
  },
  {
   "cell_type": "markdown",
   "metadata": {},
   "source": [
    "#### `plot_correlations_per_categories`"
   ]
  },
  {
   "cell_type": "code",
   "execution_count": 69,
   "metadata": {},
   "outputs": [
    {
     "name": "stderr",
     "output_type": "stream",
     "text": [
      "/home/danielle/virtualenvs/emedgene/lib/python3.5/site-packages/scipy/stats/stats.py:245: RuntimeWarning: The input array could not be properly checked for nan values. nan values will be ignored.\n",
      "  \"values. nan values will be ignored.\", RuntimeWarning)\n"
     ]
    }
   ],
   "source": [
    "from scipy import stats\n",
    "\n",
    "def calculate_spearman_correlation_of_2_cat(df, group_x, group_y, cat1, cat2, feature_x, target_y):\n",
    "    # select the current correlation slice\n",
    "    df_curr = df.loc[(df[cat1] == group_x) & (df[cat2] == group_y), [cat1, cat2, feature_x, target_y]]\n",
    "    # drop NAs\n",
    "    df_curr.dropna(inplace=True)\n",
    "    # Calculate the Spearman correlation\n",
    "    corr_i, p_value = stats.spearmanr(df_curr[feature_x], df_curr[target_y])\n",
    "    return(corr_i)\n",
    "\n",
    "df_prod['Correlation'] = df_prod.apply(lambda x :\n",
    "                                       calculate_spearman_correlation_of_2_cat(df_prod, x['product_brand'], x['product_name'], 'product_brand',\n",
    "                                                                    'product_name', 'customer_id', 'store_id'), axis=1 )"
   ]
  },
  {
   "cell_type": "code",
   "execution_count": 70,
   "metadata": {},
   "outputs": [
    {
     "data": {
      "text/html": [
       "<div>\n",
       "<style scoped>\n",
       "    .dataframe tbody tr th:only-of-type {\n",
       "        vertical-align: middle;\n",
       "    }\n",
       "\n",
       "    .dataframe tbody tr th {\n",
       "        vertical-align: top;\n",
       "    }\n",
       "\n",
       "    .dataframe thead th {\n",
       "        text-align: right;\n",
       "    }\n",
       "</style>\n",
       "<table border=\"1\" class=\"dataframe\">\n",
       "  <thead>\n",
       "    <tr style=\"text-align: right;\">\n",
       "      <th></th>\n",
       "      <th>product_id</th>\n",
       "      <th>store_id</th>\n",
       "      <th>customer_id</th>\n",
       "      <th>day_id</th>\n",
       "      <th>product_name</th>\n",
       "      <th>product_brand</th>\n",
       "      <th>month</th>\n",
       "      <th>year</th>\n",
       "      <th>date</th>\n",
       "      <th>date_year</th>\n",
       "      <th>date_month</th>\n",
       "      <th>Correlation</th>\n",
       "    </tr>\n",
       "  </thead>\n",
       "  <tbody>\n",
       "    <tr>\n",
       "      <th>0</th>\n",
       "      <td>2.0</td>\n",
       "      <td>0.0</td>\n",
       "      <td>33.0</td>\n",
       "      <td>3.0</td>\n",
       "      <td>tee-shirt</td>\n",
       "      <td>addidas</td>\n",
       "      <td>may</td>\n",
       "      <td>2017</td>\n",
       "      <td>2018-07-01</td>\n",
       "      <td>2018.0</td>\n",
       "      <td>7.0</td>\n",
       "      <td>-0.510809</td>\n",
       "    </tr>\n",
       "    <tr>\n",
       "      <th>1</th>\n",
       "      <td>5.0</td>\n",
       "      <td>1.0</td>\n",
       "      <td>25.0</td>\n",
       "      <td>29.0</td>\n",
       "      <td>short</td>\n",
       "      <td>puma</td>\n",
       "      <td>dec</td>\n",
       "      <td>2017</td>\n",
       "      <td>2017-03-01</td>\n",
       "      <td>2017.0</td>\n",
       "      <td>3.0</td>\n",
       "      <td>0.208789</td>\n",
       "    </tr>\n",
       "    <tr>\n",
       "      <th>2</th>\n",
       "      <td>4.0</td>\n",
       "      <td>2.0</td>\n",
       "      <td>5.0</td>\n",
       "      <td>18.0</td>\n",
       "      <td>basket</td>\n",
       "      <td>addidas</td>\n",
       "      <td>dec</td>\n",
       "      <td>2017</td>\n",
       "      <td>2018-09-01</td>\n",
       "      <td>2018.0</td>\n",
       "      <td>9.0</td>\n",
       "      <td>-0.177193</td>\n",
       "    </tr>\n",
       "    <tr>\n",
       "      <th>3</th>\n",
       "      <td>3.0</td>\n",
       "      <td>1.0</td>\n",
       "      <td>35.0</td>\n",
       "      <td>30.0</td>\n",
       "      <td>basket</td>\n",
       "      <td>oxbow</td>\n",
       "      <td>sept</td>\n",
       "      <td>2017</td>\n",
       "      <td>2018-08-01</td>\n",
       "      <td>2018.0</td>\n",
       "      <td>8.0</td>\n",
       "      <td>0.169031</td>\n",
       "    </tr>\n",
       "    <tr>\n",
       "      <th>4</th>\n",
       "      <td>4.0</td>\n",
       "      <td>1.0</td>\n",
       "      <td>21.0</td>\n",
       "      <td>1.0</td>\n",
       "      <td>short</td>\n",
       "      <td>addidas</td>\n",
       "      <td>dec</td>\n",
       "      <td>2017</td>\n",
       "      <td>2017-12-01</td>\n",
       "      <td>2017.0</td>\n",
       "      <td>12.0</td>\n",
       "      <td>-0.615587</td>\n",
       "    </tr>\n",
       "  </tbody>\n",
       "</table>\n",
       "</div>"
      ],
      "text/plain": [
       "   product_id store_id customer_id day_id product_name product_brand month  \\\n",
       "0         2.0      0.0        33.0    3.0    tee-shirt       addidas   may   \n",
       "1         5.0      1.0        25.0   29.0        short          puma   dec   \n",
       "2         4.0      2.0         5.0   18.0       basket       addidas   dec   \n",
       "3         3.0      1.0        35.0   30.0       basket         oxbow  sept   \n",
       "4         4.0      1.0        21.0    1.0        short       addidas   dec   \n",
       "\n",
       "   year       date  date_year  date_month  Correlation  \n",
       "0  2017 2018-07-01     2018.0         7.0    -0.510809  \n",
       "1  2017 2017-03-01     2017.0         3.0     0.208789  \n",
       "2  2017 2018-09-01     2018.0         9.0    -0.177193  \n",
       "3  2017 2018-08-01     2018.0         8.0     0.169031  \n",
       "4  2017 2017-12-01     2017.0        12.0    -0.615587  "
      ]
     },
     "execution_count": 70,
     "metadata": {},
     "output_type": "execute_result"
    }
   ],
   "source": [
    "df_prod.head()"
   ]
  },
  {
   "cell_type": "code",
   "execution_count": 71,
   "metadata": {},
   "outputs": [
    {
     "data": {
      "image/png": "[encoded data removed]",
      "text/plain": [
       "<Figure size 1252.33x360 with 1 Axes>"
      ]
     },
     "metadata": {},
     "output_type": "display_data"
    }
   ],
   "source": [
    "dsgutils.pd.viz.plot_correlations_per_categories(df_prod, 'product_brand', 'product_name', feature_x = 'product_brand', target_y = 'store_id', title_suffix = '')"
   ]
  },
  {
   "cell_type": "markdown",
   "metadata": {},
   "source": [
    "#### `display_group_density_plot`"
   ]
  },
  {
   "cell_type": "code",
   "execution_count": 81,
   "metadata": {},
   "outputs": [
    {
     "data": {
      "text/plain": [
       "array(['CRIM', 'ZN', 'INDUS', 'CHAS', 'NOX', 'RM', 'AGE', 'DIS', 'RAD',\n",
       "       'TAX', 'PTRATIO', 'B', 'LSTAT'], dtype='<U7')"
      ]
     },
     "execution_count": 81,
     "metadata": {},
     "output_type": "execute_result"
    }
   ],
   "source": [
    "data['feature_names']"
   ]
  },
  {
   "cell_type": "code",
   "execution_count": 96,
   "metadata": {},
   "outputs": [
    {
     "name": "stderr",
     "output_type": "stream",
     "text": [
      "No handles with labels found to put in legend.\n"
     ]
    },
    {
     "data": {
      "image/png": "[encoded data removed]",
      "text/plain": [
       "<Figure size 1440x720 with 1 Axes>"
      ]
     },
     "metadata": {
      "needs_background": "light"
     },
     "output_type": "display_data"
    }
   ],
   "source": [
    "from sklearn.datasets import load_iris\n",
    "\n",
    "data = load_iris()\n",
    "data_df = pd.DataFrame(data['data'], columns=data['feature_names'])\n",
    "data_df['target'] = data['target']\n",
    "dsgutils.pd.viz.display_group_density_plot(data_df, groupby = \"target\", on = 'sepal width (cm)', \\\n",
    "                                           palette = sns.color_palette('Set2'), figsize = (20, 10));"
   ]
  },
  {
   "cell_type": "markdown",
   "metadata": {},
   "source": [
    "### feateng"
   ]
  },
  {
   "cell_type": "markdown",
   "metadata": {},
   "source": [
    "#### `alphanumeric_feature`"
   ]
  },
  {
   "cell_type": "code",
   "execution_count": 390,
   "metadata": {},
   "outputs": [],
   "source": [
    "import random, string\n",
    "df_prod['comment'] = pd.Series([''.join([random.choice(string.printable) for n in range(10)]) for i in range(102)], index=df_prod.index)"
   ]
  },
  {
   "cell_type": "code",
   "execution_count": 389,
   "metadata": {},
   "outputs": [
    {
     "data": {
      "text/html": [
       "<div>\n",
       "<style scoped>\n",
       "    .dataframe tbody tr th:only-of-type {\n",
       "        vertical-align: middle;\n",
       "    }\n",
       "\n",
       "    .dataframe tbody tr th {\n",
       "        vertical-align: top;\n",
       "    }\n",
       "\n",
       "    .dataframe thead th {\n",
       "        text-align: right;\n",
       "    }\n",
       "</style>\n",
       "<table border=\"1\" class=\"dataframe\">\n",
       "  <thead>\n",
       "    <tr style=\"text-align: right;\">\n",
       "      <th></th>\n",
       "      <th>product_id</th>\n",
       "      <th>store_id</th>\n",
       "      <th>customer_id</th>\n",
       "      <th>day_id</th>\n",
       "      <th>product_name</th>\n",
       "      <th>product_brand</th>\n",
       "      <th>month</th>\n",
       "      <th>year</th>\n",
       "      <th>date</th>\n",
       "      <th>date_year</th>\n",
       "      <th>date_month</th>\n",
       "      <th>Correlation</th>\n",
       "      <th>comment</th>\n",
       "    </tr>\n",
       "  </thead>\n",
       "  <tbody>\n",
       "    <tr>\n",
       "      <th>0</th>\n",
       "      <td>9.0</td>\n",
       "      <td>2.0</td>\n",
       "      <td>1.0</td>\n",
       "      <td>13.0</td>\n",
       "      <td>tee-shirt</td>\n",
       "      <td>addidas</td>\n",
       "      <td>may</td>\n",
       "      <td>2017</td>\n",
       "      <td>2018-07-01</td>\n",
       "      <td>2018.0</td>\n",
       "      <td>7.0</td>\n",
       "      <td>0.231455</td>\n",
       "      <td>JSCc$IW78Y</td>\n",
       "    </tr>\n",
       "    <tr>\n",
       "      <th>1</th>\n",
       "      <td>4.0</td>\n",
       "      <td>3.0</td>\n",
       "      <td>4.0</td>\n",
       "      <td>1.0</td>\n",
       "      <td>short</td>\n",
       "      <td>puma</td>\n",
       "      <td>dec</td>\n",
       "      <td>2017</td>\n",
       "      <td>2017-03-01</td>\n",
       "      <td>2017.0</td>\n",
       "      <td>3.0</td>\n",
       "      <td>-0.019668</td>\n",
       "      <td>Pr'+KO#C?a</td>\n",
       "    </tr>\n",
       "    <tr>\n",
       "      <th>2</th>\n",
       "      <td>6.0</td>\n",
       "      <td>1.0</td>\n",
       "      <td>28.0</td>\n",
       "      <td>13.0</td>\n",
       "      <td>basket</td>\n",
       "      <td>addidas</td>\n",
       "      <td>dec</td>\n",
       "      <td>2017</td>\n",
       "      <td>2018-09-01</td>\n",
       "      <td>2018.0</td>\n",
       "      <td>9.0</td>\n",
       "      <td>-0.130059</td>\n",
       "      <td>E#\\aNsk*T%</td>\n",
       "    </tr>\n",
       "    <tr>\n",
       "      <th>3</th>\n",
       "      <td>7.0</td>\n",
       "      <td>1.0</td>\n",
       "      <td>28.0</td>\n",
       "      <td>5.0</td>\n",
       "      <td>basket</td>\n",
       "      <td>oxbow</td>\n",
       "      <td>sept</td>\n",
       "      <td>2017</td>\n",
       "      <td>2018-08-01</td>\n",
       "      <td>2018.0</td>\n",
       "      <td>8.0</td>\n",
       "      <td>-0.627632</td>\n",
       "      <td>ZlE!t\\HlC'</td>\n",
       "    </tr>\n",
       "    <tr>\n",
       "      <th>4</th>\n",
       "      <td>4.0</td>\n",
       "      <td>2.0</td>\n",
       "      <td>8.0</td>\n",
       "      <td>23.0</td>\n",
       "      <td>short</td>\n",
       "      <td>addidas</td>\n",
       "      <td>dec</td>\n",
       "      <td>2017</td>\n",
       "      <td>2017-12-01</td>\n",
       "      <td>2017.0</td>\n",
       "      <td>12.0</td>\n",
       "      <td>-0.223607</td>\n",
       "      <td>oHfya&lt;,&amp;\f",
       "n</td>\n",
       "    </tr>\n",
       "  </tbody>\n",
       "</table>\n",
       "</div>"
      ],
      "text/plain": [
       "   product_id store_id customer_id day_id product_name product_brand month  \\\n",
       "0         9.0      2.0         1.0   13.0    tee-shirt       addidas   may   \n",
       "1         4.0      3.0         4.0    1.0        short          puma   dec   \n",
       "2         6.0      1.0        28.0   13.0       basket       addidas   dec   \n",
       "3         7.0      1.0        28.0    5.0       basket         oxbow  sept   \n",
       "4         4.0      2.0         8.0   23.0        short       addidas   dec   \n",
       "\n",
       "   year       date  date_year  date_month  Correlation     comment  \n",
       "0  2017 2018-07-01     2018.0         7.0     0.231455  JSCc$IW78Y  \n",
       "1  2017 2017-03-01     2017.0         3.0    -0.019668  Pr'+KO#C?a  \n",
       "2  2017 2018-09-01     2018.0         9.0    -0.130059  E#\\aNsk*T%  \n",
       "3  2017 2018-08-01     2018.0         8.0    -0.627632  ZlE!t\\HlC'  \n",
       "4  2017 2017-12-01     2017.0        12.0    -0.223607  oHfya<,&\n",
       "n  "
      ]
     },
     "execution_count": 389,
     "metadata": {},
     "output_type": "execute_result"
    }
   ],
   "source": [
    "df_prod.head()"
   ]
  },
  {
   "cell_type": "code",
   "execution_count": 414,
   "metadata": {},
   "outputs": [
    {
     "name": "stdout",
     "output_type": "stream",
     "text": [
      "Finish writing the new alpha numeric column : alpha_num_ comment\n"
     ]
    }
   ],
   "source": [
    "from dsgutils.pd import feateng\n",
    "df_new = feateng.alphanumeric_feature(df_prod, 'comment')"
   ]
  },
  {
   "cell_type": "code",
   "execution_count": 415,
   "metadata": {},
   "outputs": [
    {
     "data": {
      "text/html": [
       "<div>\n",
       "<style scoped>\n",
       "    .dataframe tbody tr th:only-of-type {\n",
       "        vertical-align: middle;\n",
       "    }\n",
       "\n",
       "    .dataframe tbody tr th {\n",
       "        vertical-align: top;\n",
       "    }\n",
       "\n",
       "    .dataframe thead th {\n",
       "        text-align: right;\n",
       "    }\n",
       "</style>\n",
       "<table border=\"1\" class=\"dataframe\">\n",
       "  <thead>\n",
       "    <tr style=\"text-align: right;\">\n",
       "      <th></th>\n",
       "      <th>product_id</th>\n",
       "      <th>store_id</th>\n",
       "      <th>customer_id</th>\n",
       "      <th>day_id</th>\n",
       "      <th>product_name</th>\n",
       "      <th>product_brand</th>\n",
       "      <th>month</th>\n",
       "      <th>year</th>\n",
       "      <th>date</th>\n",
       "      <th>date_year</th>\n",
       "      <th>date_month</th>\n",
       "      <th>Correlation</th>\n",
       "      <th>comment</th>\n",
       "      <th>alpha_num_comment</th>\n",
       "    </tr>\n",
       "  </thead>\n",
       "  <tbody>\n",
       "    <tr>\n",
       "      <th>0</th>\n",
       "      <td>9.0</td>\n",
       "      <td>2.0</td>\n",
       "      <td>1.0</td>\n",
       "      <td>13.0</td>\n",
       "      <td>tee-shirt</td>\n",
       "      <td>addidas</td>\n",
       "      <td>may</td>\n",
       "      <td>2017</td>\n",
       "      <td>2018-07-01</td>\n",
       "      <td>2018.0</td>\n",
       "      <td>7.0</td>\n",
       "      <td>0.231455</td>\n",
       "      <td>u]\u000b",
       "OW2tx4^</td>\n",
       "      <td>u OW2tx4</td>\n",
       "    </tr>\n",
       "    <tr>\n",
       "      <th>1</th>\n",
       "      <td>4.0</td>\n",
       "      <td>3.0</td>\n",
       "      <td>4.0</td>\n",
       "      <td>1.0</td>\n",
       "      <td>short</td>\n",
       "      <td>puma</td>\n",
       "      <td>dec</td>\n",
       "      <td>2017</td>\n",
       "      <td>2017-03-01</td>\n",
       "      <td>2017.0</td>\n",
       "      <td>3.0</td>\n",
       "      <td>-0.019668</td>\n",
       "      <td>ChT_).(zn_</td>\n",
       "      <td>ChT zn</td>\n",
       "    </tr>\n",
       "    <tr>\n",
       "      <th>2</th>\n",
       "      <td>6.0</td>\n",
       "      <td>1.0</td>\n",
       "      <td>28.0</td>\n",
       "      <td>13.0</td>\n",
       "      <td>basket</td>\n",
       "      <td>addidas</td>\n",
       "      <td>dec</td>\n",
       "      <td>2017</td>\n",
       "      <td>2018-09-01</td>\n",
       "      <td>2018.0</td>\n",
       "      <td>9.0</td>\n",
       "      <td>-0.130059</td>\n",
       "      <td>e+rmcz0\\rI</td>\n",
       "      <td>e rmcz0 I</td>\n",
       "    </tr>\n",
       "    <tr>\n",
       "      <th>3</th>\n",
       "      <td>7.0</td>\n",
       "      <td>1.0</td>\n",
       "      <td>28.0</td>\n",
       "      <td>5.0</td>\n",
       "      <td>basket</td>\n",
       "      <td>oxbow</td>\n",
       "      <td>sept</td>\n",
       "      <td>2017</td>\n",
       "      <td>2018-08-01</td>\n",
       "      <td>2018.0</td>\n",
       "      <td>8.0</td>\n",
       "      <td>-0.627632</td>\n",
       "      <td>~Km~_w3n&amp;|</td>\n",
       "      <td>Km w3n</td>\n",
       "    </tr>\n",
       "    <tr>\n",
       "      <th>4</th>\n",
       "      <td>4.0</td>\n",
       "      <td>2.0</td>\n",
       "      <td>8.0</td>\n",
       "      <td>23.0</td>\n",
       "      <td>short</td>\n",
       "      <td>addidas</td>\n",
       "      <td>dec</td>\n",
       "      <td>2017</td>\n",
       "      <td>2017-12-01</td>\n",
       "      <td>2017.0</td>\n",
       "      <td>12.0</td>\n",
       "      <td>-0.223607</td>\n",
       "      <td>#_v5B'RLC@</td>\n",
       "      <td>v5B RLC</td>\n",
       "    </tr>\n",
       "  </tbody>\n",
       "</table>\n",
       "</div>"
      ],
      "text/plain": [
       "   product_id store_id customer_id day_id product_name product_brand month  \\\n",
       "0         9.0      2.0         1.0   13.0    tee-shirt       addidas   may   \n",
       "1         4.0      3.0         4.0    1.0        short          puma   dec   \n",
       "2         6.0      1.0        28.0   13.0       basket       addidas   dec   \n",
       "3         7.0      1.0        28.0    5.0       basket         oxbow  sept   \n",
       "4         4.0      2.0         8.0   23.0        short       addidas   dec   \n",
       "\n",
       "   year       date  date_year  date_month  Correlation      comment  \\\n",
       "0  2017 2018-07-01     2018.0         7.0     0.231455   u]\n",
       "OW2tx4^   \n",
       "1  2017 2017-03-01     2017.0         3.0    -0.019668   ChT_).(zn_   \n",
       "2  2017 2018-09-01     2018.0         9.0    -0.130059   e+rmcz0\\rI   \n",
       "3  2017 2018-08-01     2018.0         8.0    -0.627632   ~Km~_w3n&|   \n",
       "4  2017 2017-12-01     2017.0        12.0    -0.223607   #_v5B'RLC@   \n",
       "\n",
       "  alpha_num_comment  \n",
       "0         u OW2tx4   \n",
       "1           ChT zn   \n",
       "2         e rmcz0 I  \n",
       "3           Km w3n   \n",
       "4          v5B RLC   "
      ]
     },
     "execution_count": 415,
     "metadata": {},
     "output_type": "execute_result"
    }
   ],
   "source": [
    "df_new.head()"
   ]
  },
  {
   "cell_type": "markdown",
   "metadata": {},
   "source": [
    "#### `one_hot_encode`"
   ]
  },
  {
   "cell_type": "code",
   "execution_count": 99,
   "metadata": {},
   "outputs": [
    {
     "data": {
      "text/html": [
       "<div>\n",
       "<style scoped>\n",
       "    .dataframe tbody tr th:only-of-type {\n",
       "        vertical-align: middle;\n",
       "    }\n",
       "\n",
       "    .dataframe tbody tr th {\n",
       "        vertical-align: top;\n",
       "    }\n",
       "\n",
       "    .dataframe thead th {\n",
       "        text-align: right;\n",
       "    }\n",
       "</style>\n",
       "<table border=\"1\" class=\"dataframe\">\n",
       "  <thead>\n",
       "    <tr style=\"text-align: right;\">\n",
       "      <th></th>\n",
       "      <th>value</th>\n",
       "      <th>CAT_group_40</th>\n",
       "      <th>CAT_group_80</th>\n",
       "      <th>CAT_group_19</th>\n",
       "      <th>CAT_group_49</th>\n",
       "      <th>CAT_group_59</th>\n",
       "      <th>CAT_group_70</th>\n",
       "      <th>CAT_group_79</th>\n",
       "      <th>CAT_group_9</th>\n",
       "      <th>CAT_group_0</th>\n",
       "      <th>CAT_group_10</th>\n",
       "      <th>CAT_group_50</th>\n",
       "      <th>CAT_group_89</th>\n",
       "      <th>CAT_group_90</th>\n",
       "      <th>CAT_group_99</th>\n",
       "      <th>CAT_group_30</th>\n",
       "      <th>CAT_group_39</th>\n",
       "    </tr>\n",
       "  </thead>\n",
       "  <tbody>\n",
       "    <tr>\n",
       "      <th>0</th>\n",
       "      <td>8</td>\n",
       "      <td>0</td>\n",
       "      <td>0</td>\n",
       "      <td>0</td>\n",
       "      <td>0</td>\n",
       "      <td>0</td>\n",
       "      <td>0</td>\n",
       "      <td>0</td>\n",
       "      <td>1</td>\n",
       "      <td>1</td>\n",
       "      <td>0</td>\n",
       "      <td>0</td>\n",
       "      <td>0</td>\n",
       "      <td>0</td>\n",
       "      <td>0</td>\n",
       "      <td>0</td>\n",
       "      <td>0</td>\n",
       "    </tr>\n",
       "    <tr>\n",
       "      <th>1</th>\n",
       "      <td>95</td>\n",
       "      <td>0</td>\n",
       "      <td>0</td>\n",
       "      <td>0</td>\n",
       "      <td>0</td>\n",
       "      <td>0</td>\n",
       "      <td>0</td>\n",
       "      <td>0</td>\n",
       "      <td>0</td>\n",
       "      <td>0</td>\n",
       "      <td>0</td>\n",
       "      <td>0</td>\n",
       "      <td>0</td>\n",
       "      <td>1</td>\n",
       "      <td>1</td>\n",
       "      <td>0</td>\n",
       "      <td>0</td>\n",
       "    </tr>\n",
       "    <tr>\n",
       "      <th>2</th>\n",
       "      <td>50</td>\n",
       "      <td>0</td>\n",
       "      <td>0</td>\n",
       "      <td>0</td>\n",
       "      <td>0</td>\n",
       "      <td>1</td>\n",
       "      <td>0</td>\n",
       "      <td>0</td>\n",
       "      <td>0</td>\n",
       "      <td>0</td>\n",
       "      <td>0</td>\n",
       "      <td>1</td>\n",
       "      <td>0</td>\n",
       "      <td>0</td>\n",
       "      <td>0</td>\n",
       "      <td>0</td>\n",
       "      <td>0</td>\n",
       "    </tr>\n",
       "    <tr>\n",
       "      <th>3</th>\n",
       "      <td>6</td>\n",
       "      <td>0</td>\n",
       "      <td>0</td>\n",
       "      <td>0</td>\n",
       "      <td>0</td>\n",
       "      <td>0</td>\n",
       "      <td>0</td>\n",
       "      <td>0</td>\n",
       "      <td>1</td>\n",
       "      <td>1</td>\n",
       "      <td>0</td>\n",
       "      <td>0</td>\n",
       "      <td>0</td>\n",
       "      <td>0</td>\n",
       "      <td>0</td>\n",
       "      <td>0</td>\n",
       "      <td>0</td>\n",
       "    </tr>\n",
       "    <tr>\n",
       "      <th>4</th>\n",
       "      <td>33</td>\n",
       "      <td>0</td>\n",
       "      <td>0</td>\n",
       "      <td>0</td>\n",
       "      <td>0</td>\n",
       "      <td>0</td>\n",
       "      <td>0</td>\n",
       "      <td>0</td>\n",
       "      <td>0</td>\n",
       "      <td>0</td>\n",
       "      <td>0</td>\n",
       "      <td>0</td>\n",
       "      <td>0</td>\n",
       "      <td>0</td>\n",
       "      <td>0</td>\n",
       "      <td>1</td>\n",
       "      <td>1</td>\n",
       "    </tr>\n",
       "    <tr>\n",
       "      <th>5</th>\n",
       "      <td>84</td>\n",
       "      <td>0</td>\n",
       "      <td>1</td>\n",
       "      <td>0</td>\n",
       "      <td>0</td>\n",
       "      <td>0</td>\n",
       "      <td>0</td>\n",
       "      <td>0</td>\n",
       "      <td>0</td>\n",
       "      <td>0</td>\n",
       "      <td>0</td>\n",
       "      <td>0</td>\n",
       "      <td>1</td>\n",
       "      <td>0</td>\n",
       "      <td>0</td>\n",
       "      <td>0</td>\n",
       "      <td>0</td>\n",
       "    </tr>\n",
       "    <tr>\n",
       "      <th>6</th>\n",
       "      <td>93</td>\n",
       "      <td>0</td>\n",
       "      <td>0</td>\n",
       "      <td>0</td>\n",
       "      <td>0</td>\n",
       "      <td>0</td>\n",
       "      <td>0</td>\n",
       "      <td>0</td>\n",
       "      <td>0</td>\n",
       "      <td>0</td>\n",
       "      <td>0</td>\n",
       "      <td>0</td>\n",
       "      <td>0</td>\n",
       "      <td>1</td>\n",
       "      <td>1</td>\n",
       "      <td>0</td>\n",
       "      <td>0</td>\n",
       "    </tr>\n",
       "    <tr>\n",
       "      <th>7</th>\n",
       "      <td>0</td>\n",
       "      <td>0</td>\n",
       "      <td>0</td>\n",
       "      <td>0</td>\n",
       "      <td>0</td>\n",
       "      <td>0</td>\n",
       "      <td>0</td>\n",
       "      <td>0</td>\n",
       "      <td>1</td>\n",
       "      <td>1</td>\n",
       "      <td>0</td>\n",
       "      <td>0</td>\n",
       "      <td>0</td>\n",
       "      <td>0</td>\n",
       "      <td>0</td>\n",
       "      <td>0</td>\n",
       "      <td>0</td>\n",
       "    </tr>\n",
       "    <tr>\n",
       "      <th>8</th>\n",
       "      <td>96</td>\n",
       "      <td>0</td>\n",
       "      <td>0</td>\n",
       "      <td>0</td>\n",
       "      <td>0</td>\n",
       "      <td>0</td>\n",
       "      <td>0</td>\n",
       "      <td>0</td>\n",
       "      <td>0</td>\n",
       "      <td>0</td>\n",
       "      <td>0</td>\n",
       "      <td>0</td>\n",
       "      <td>0</td>\n",
       "      <td>1</td>\n",
       "      <td>1</td>\n",
       "      <td>0</td>\n",
       "      <td>0</td>\n",
       "    </tr>\n",
       "    <tr>\n",
       "      <th>9</th>\n",
       "      <td>40</td>\n",
       "      <td>1</td>\n",
       "      <td>0</td>\n",
       "      <td>0</td>\n",
       "      <td>1</td>\n",
       "      <td>0</td>\n",
       "      <td>0</td>\n",
       "      <td>0</td>\n",
       "      <td>0</td>\n",
       "      <td>0</td>\n",
       "      <td>0</td>\n",
       "      <td>0</td>\n",
       "      <td>0</td>\n",
       "      <td>0</td>\n",
       "      <td>0</td>\n",
       "      <td>0</td>\n",
       "      <td>0</td>\n",
       "    </tr>\n",
       "    <tr>\n",
       "      <th>10</th>\n",
       "      <td>50</td>\n",
       "      <td>0</td>\n",
       "      <td>0</td>\n",
       "      <td>0</td>\n",
       "      <td>0</td>\n",
       "      <td>1</td>\n",
       "      <td>0</td>\n",
       "      <td>0</td>\n",
       "      <td>0</td>\n",
       "      <td>0</td>\n",
       "      <td>0</td>\n",
       "      <td>1</td>\n",
       "      <td>0</td>\n",
       "      <td>0</td>\n",
       "      <td>0</td>\n",
       "      <td>0</td>\n",
       "      <td>0</td>\n",
       "    </tr>\n",
       "    <tr>\n",
       "      <th>11</th>\n",
       "      <td>78</td>\n",
       "      <td>0</td>\n",
       "      <td>0</td>\n",
       "      <td>0</td>\n",
       "      <td>0</td>\n",
       "      <td>0</td>\n",
       "      <td>1</td>\n",
       "      <td>1</td>\n",
       "      <td>0</td>\n",
       "      <td>0</td>\n",
       "      <td>0</td>\n",
       "      <td>0</td>\n",
       "      <td>0</td>\n",
       "      <td>0</td>\n",
       "      <td>0</td>\n",
       "      <td>0</td>\n",
       "      <td>0</td>\n",
       "    </tr>\n",
       "    <tr>\n",
       "      <th>12</th>\n",
       "      <td>34</td>\n",
       "      <td>0</td>\n",
       "      <td>0</td>\n",
       "      <td>0</td>\n",
       "      <td>0</td>\n",
       "      <td>0</td>\n",
       "      <td>0</td>\n",
       "      <td>0</td>\n",
       "      <td>0</td>\n",
       "      <td>0</td>\n",
       "      <td>0</td>\n",
       "      <td>0</td>\n",
       "      <td>0</td>\n",
       "      <td>0</td>\n",
       "      <td>0</td>\n",
       "      <td>1</td>\n",
       "      <td>1</td>\n",
       "    </tr>\n",
       "    <tr>\n",
       "      <th>13</th>\n",
       "      <td>19</td>\n",
       "      <td>0</td>\n",
       "      <td>0</td>\n",
       "      <td>1</td>\n",
       "      <td>0</td>\n",
       "      <td>0</td>\n",
       "      <td>0</td>\n",
       "      <td>0</td>\n",
       "      <td>0</td>\n",
       "      <td>0</td>\n",
       "      <td>1</td>\n",
       "      <td>0</td>\n",
       "      <td>0</td>\n",
       "      <td>0</td>\n",
       "      <td>0</td>\n",
       "      <td>0</td>\n",
       "      <td>0</td>\n",
       "    </tr>\n",
       "    <tr>\n",
       "      <th>14</th>\n",
       "      <td>46</td>\n",
       "      <td>1</td>\n",
       "      <td>0</td>\n",
       "      <td>0</td>\n",
       "      <td>1</td>\n",
       "      <td>0</td>\n",
       "      <td>0</td>\n",
       "      <td>0</td>\n",
       "      <td>0</td>\n",
       "      <td>0</td>\n",
       "      <td>0</td>\n",
       "      <td>0</td>\n",
       "      <td>0</td>\n",
       "      <td>0</td>\n",
       "      <td>0</td>\n",
       "      <td>0</td>\n",
       "      <td>0</td>\n",
       "    </tr>\n",
       "    <tr>\n",
       "      <th>15</th>\n",
       "      <td>58</td>\n",
       "      <td>0</td>\n",
       "      <td>0</td>\n",
       "      <td>0</td>\n",
       "      <td>0</td>\n",
       "      <td>1</td>\n",
       "      <td>0</td>\n",
       "      <td>0</td>\n",
       "      <td>0</td>\n",
       "      <td>0</td>\n",
       "      <td>0</td>\n",
       "      <td>1</td>\n",
       "      <td>0</td>\n",
       "      <td>0</td>\n",
       "      <td>0</td>\n",
       "      <td>0</td>\n",
       "      <td>0</td>\n",
       "    </tr>\n",
       "    <tr>\n",
       "      <th>16</th>\n",
       "      <td>87</td>\n",
       "      <td>0</td>\n",
       "      <td>1</td>\n",
       "      <td>0</td>\n",
       "      <td>0</td>\n",
       "      <td>0</td>\n",
       "      <td>0</td>\n",
       "      <td>0</td>\n",
       "      <td>0</td>\n",
       "      <td>0</td>\n",
       "      <td>0</td>\n",
       "      <td>0</td>\n",
       "      <td>1</td>\n",
       "      <td>0</td>\n",
       "      <td>0</td>\n",
       "      <td>0</td>\n",
       "      <td>0</td>\n",
       "    </tr>\n",
       "    <tr>\n",
       "      <th>17</th>\n",
       "      <td>75</td>\n",
       "      <td>0</td>\n",
       "      <td>0</td>\n",
       "      <td>0</td>\n",
       "      <td>0</td>\n",
       "      <td>0</td>\n",
       "      <td>1</td>\n",
       "      <td>1</td>\n",
       "      <td>0</td>\n",
       "      <td>0</td>\n",
       "      <td>0</td>\n",
       "      <td>0</td>\n",
       "      <td>0</td>\n",
       "      <td>0</td>\n",
       "      <td>0</td>\n",
       "      <td>0</td>\n",
       "      <td>0</td>\n",
       "    </tr>\n",
       "    <tr>\n",
       "      <th>18</th>\n",
       "      <td>0</td>\n",
       "      <td>0</td>\n",
       "      <td>0</td>\n",
       "      <td>0</td>\n",
       "      <td>0</td>\n",
       "      <td>0</td>\n",
       "      <td>0</td>\n",
       "      <td>0</td>\n",
       "      <td>1</td>\n",
       "      <td>1</td>\n",
       "      <td>0</td>\n",
       "      <td>0</td>\n",
       "      <td>0</td>\n",
       "      <td>0</td>\n",
       "      <td>0</td>\n",
       "      <td>0</td>\n",
       "      <td>0</td>\n",
       "    </tr>\n",
       "    <tr>\n",
       "      <th>19</th>\n",
       "      <td>93</td>\n",
       "      <td>0</td>\n",
       "      <td>0</td>\n",
       "      <td>0</td>\n",
       "      <td>0</td>\n",
       "      <td>0</td>\n",
       "      <td>0</td>\n",
       "      <td>0</td>\n",
       "      <td>0</td>\n",
       "      <td>0</td>\n",
       "      <td>0</td>\n",
       "      <td>0</td>\n",
       "      <td>0</td>\n",
       "      <td>1</td>\n",
       "      <td>1</td>\n",
       "      <td>0</td>\n",
       "      <td>0</td>\n",
       "    </tr>\n",
       "  </tbody>\n",
       "</table>\n",
       "</div>"
      ],
      "text/plain": [
       "    value  CAT_group_40  CAT_group_80  CAT_group_19  CAT_group_49  \\\n",
       "0       8             0             0             0             0   \n",
       "1      95             0             0             0             0   \n",
       "2      50             0             0             0             0   \n",
       "3       6             0             0             0             0   \n",
       "4      33             0             0             0             0   \n",
       "5      84             0             1             0             0   \n",
       "6      93             0             0             0             0   \n",
       "7       0             0             0             0             0   \n",
       "8      96             0             0             0             0   \n",
       "9      40             1             0             0             1   \n",
       "10     50             0             0             0             0   \n",
       "11     78             0             0             0             0   \n",
       "12     34             0             0             0             0   \n",
       "13     19             0             0             1             0   \n",
       "14     46             1             0             0             1   \n",
       "15     58             0             0             0             0   \n",
       "16     87             0             1             0             0   \n",
       "17     75             0             0             0             0   \n",
       "18      0             0             0             0             0   \n",
       "19     93             0             0             0             0   \n",
       "\n",
       "    CAT_group_59  CAT_group_70  CAT_group_79  CAT_group_9  CAT_group_0  \\\n",
       "0              0             0             0            1            1   \n",
       "1              0             0             0            0            0   \n",
       "2              1             0             0            0            0   \n",
       "3              0             0             0            1            1   \n",
       "4              0             0             0            0            0   \n",
       "5              0             0             0            0            0   \n",
       "6              0             0             0            0            0   \n",
       "7              0             0             0            1            1   \n",
       "8              0             0             0            0            0   \n",
       "9              0             0             0            0            0   \n",
       "10             1             0             0            0            0   \n",
       "11             0             1             1            0            0   \n",
       "12             0             0             0            0            0   \n",
       "13             0             0             0            0            0   \n",
       "14             0             0             0            0            0   \n",
       "15             1             0             0            0            0   \n",
       "16             0             0             0            0            0   \n",
       "17             0             1             1            0            0   \n",
       "18             0             0             0            1            1   \n",
       "19             0             0             0            0            0   \n",
       "\n",
       "    CAT_group_10  CAT_group_50  CAT_group_89  CAT_group_90  CAT_group_99  \\\n",
       "0              0             0             0             0             0   \n",
       "1              0             0             0             1             1   \n",
       "2              0             1             0             0             0   \n",
       "3              0             0             0             0             0   \n",
       "4              0             0             0             0             0   \n",
       "5              0             0             1             0             0   \n",
       "6              0             0             0             1             1   \n",
       "7              0             0             0             0             0   \n",
       "8              0             0             0             1             1   \n",
       "9              0             0             0             0             0   \n",
       "10             0             1             0             0             0   \n",
       "11             0             0             0             0             0   \n",
       "12             0             0             0             0             0   \n",
       "13             1             0             0             0             0   \n",
       "14             0             0             0             0             0   \n",
       "15             0             1             0             0             0   \n",
       "16             0             0             1             0             0   \n",
       "17             0             0             0             0             0   \n",
       "18             0             0             0             0             0   \n",
       "19             0             0             0             1             1   \n",
       "\n",
       "    CAT_group_30  CAT_group_39  \n",
       "0              0             0  \n",
       "1              0             0  \n",
       "2              0             0  \n",
       "3              0             0  \n",
       "4              1             1  \n",
       "5              0             0  \n",
       "6              0             0  \n",
       "7              0             0  \n",
       "8              0             0  \n",
       "9              0             0  \n",
       "10             0             0  \n",
       "11             0             0  \n",
       "12             1             1  \n",
       "13             0             0  \n",
       "14             0             0  \n",
       "15             0             0  \n",
       "16             0             0  \n",
       "17             0             0  \n",
       "18             0             0  \n",
       "19             0             0  "
      ]
     },
     "execution_count": 99,
     "metadata": {},
     "output_type": "execute_result"
    }
   ],
   "source": [
    "data = pd.DataFrame({'value': np.random.randint(0, 100, 20)})\n",
    "labels = [\"{0}-{1}\".format(i, i + 9) for i in range(0, 100, 10)]\n",
    "data['group'] = pd.cut(data.value, range(0, 105, 10), right=False, labels=labels)\n",
    "dsgutils.pd.feateng.one_hot_encode(data, feature_name = \"group\", prefix = \"CAT_\", is_list = True, delim = \"-\", cat_amount = 0)\n",
    "data"
   ]
  },
  {
   "cell_type": "markdown",
   "metadata": {},
   "source": [
    "#### `get_time_features`"
   ]
  },
  {
   "cell_type": "code",
   "execution_count": 9,
   "metadata": {},
   "outputs": [
    {
     "data": {
      "text/html": [
       "<div>\n",
       "<style scoped>\n",
       "    .dataframe tbody tr th:only-of-type {\n",
       "        vertical-align: middle;\n",
       "    }\n",
       "\n",
       "    .dataframe tbody tr th {\n",
       "        vertical-align: top;\n",
       "    }\n",
       "\n",
       "    .dataframe thead th {\n",
       "        text-align: right;\n",
       "    }\n",
       "</style>\n",
       "<table border=\"1\" class=\"dataframe\">\n",
       "  <thead>\n",
       "    <tr style=\"text-align: right;\">\n",
       "      <th></th>\n",
       "      <th>timestamp</th>\n",
       "    </tr>\n",
       "  </thead>\n",
       "  <tbody>\n",
       "    <tr>\n",
       "      <th>0</th>\n",
       "      <td>2018-07-21 15:33</td>\n",
       "    </tr>\n",
       "    <tr>\n",
       "      <th>1</th>\n",
       "      <td>2019-07-15 16:33</td>\n",
       "    </tr>\n",
       "    <tr>\n",
       "      <th>2</th>\n",
       "      <td>2018-10-23 15:33</td>\n",
       "    </tr>\n",
       "    <tr>\n",
       "      <th>3</th>\n",
       "      <td>1990-07-16 05:42</td>\n",
       "    </tr>\n",
       "    <tr>\n",
       "      <th>4</th>\n",
       "      <td>2018-07-21 01:42</td>\n",
       "    </tr>\n",
       "    <tr>\n",
       "      <th>5</th>\n",
       "      <td>2018-06-30 06:42</td>\n",
       "    </tr>\n",
       "  </tbody>\n",
       "</table>\n",
       "</div>"
      ],
      "text/plain": [
       "          timestamp\n",
       "0  2018-07-21 15:33\n",
       "1  2019-07-15 16:33\n",
       "2  2018-10-23 15:33\n",
       "3  1990-07-16 05:42\n",
       "4  2018-07-21 01:42\n",
       "5  2018-06-30 06:42"
      ]
     },
     "execution_count": 9,
     "metadata": {},
     "output_type": "execute_result"
    }
   ],
   "source": [
    "times = ['2018-07-21 15:33', '2019-07-15 16:33', '2018-10-23 15:33', '1990-07-16 05:42',\\\n",
    "         '2018-07-21 01:42', '2018-06-30 06:42']\n",
    "data = pd.DataFrame()\n",
    "data[\"timestamp\"] = times\n",
    "data"
   ]
  },
  {
   "cell_type": "code",
   "execution_count": 10,
   "metadata": {},
   "outputs": [
    {
     "data": {
      "text/html": [
       "<div>\n",
       "<style scoped>\n",
       "    .dataframe tbody tr th:only-of-type {\n",
       "        vertical-align: middle;\n",
       "    }\n",
       "\n",
       "    .dataframe tbody tr th {\n",
       "        vertical-align: top;\n",
       "    }\n",
       "\n",
       "    .dataframe thead th {\n",
       "        text-align: right;\n",
       "    }\n",
       "</style>\n",
       "<table border=\"1\" class=\"dataframe\">\n",
       "  <thead>\n",
       "    <tr style=\"text-align: right;\">\n",
       "      <th></th>\n",
       "      <th>timestamp</th>\n",
       "      <th>timestamp_year</th>\n",
       "      <th>timestamp_month</th>\n",
       "      <th>timestamp_day</th>\n",
       "      <th>timestamp_hour</th>\n",
       "      <th>timestamp_minute</th>\n",
       "      <th>timestamp_second</th>\n",
       "      <th>timestamp_day_of_the_week</th>\n",
       "      <th>timestamp_day_of_the_year</th>\n",
       "    </tr>\n",
       "  </thead>\n",
       "  <tbody>\n",
       "    <tr>\n",
       "      <th>0</th>\n",
       "      <td>2018-07-21 15:33:00</td>\n",
       "      <td>2018</td>\n",
       "      <td>7</td>\n",
       "      <td>21</td>\n",
       "      <td>15</td>\n",
       "      <td>33</td>\n",
       "      <td>0</td>\n",
       "      <td>Saturday</td>\n",
       "      <td>202</td>\n",
       "    </tr>\n",
       "    <tr>\n",
       "      <th>1</th>\n",
       "      <td>2019-07-15 16:33:00</td>\n",
       "      <td>2019</td>\n",
       "      <td>7</td>\n",
       "      <td>15</td>\n",
       "      <td>16</td>\n",
       "      <td>33</td>\n",
       "      <td>0</td>\n",
       "      <td>Monday</td>\n",
       "      <td>196</td>\n",
       "    </tr>\n",
       "    <tr>\n",
       "      <th>2</th>\n",
       "      <td>2018-10-23 15:33:00</td>\n",
       "      <td>2018</td>\n",
       "      <td>10</td>\n",
       "      <td>23</td>\n",
       "      <td>15</td>\n",
       "      <td>33</td>\n",
       "      <td>0</td>\n",
       "      <td>Tuesday</td>\n",
       "      <td>296</td>\n",
       "    </tr>\n",
       "    <tr>\n",
       "      <th>3</th>\n",
       "      <td>1990-07-16 05:42:00</td>\n",
       "      <td>1990</td>\n",
       "      <td>7</td>\n",
       "      <td>16</td>\n",
       "      <td>5</td>\n",
       "      <td>42</td>\n",
       "      <td>0</td>\n",
       "      <td>Monday</td>\n",
       "      <td>197</td>\n",
       "    </tr>\n",
       "    <tr>\n",
       "      <th>4</th>\n",
       "      <td>2018-07-21 01:42:00</td>\n",
       "      <td>2018</td>\n",
       "      <td>7</td>\n",
       "      <td>21</td>\n",
       "      <td>1</td>\n",
       "      <td>42</td>\n",
       "      <td>0</td>\n",
       "      <td>Saturday</td>\n",
       "      <td>202</td>\n",
       "    </tr>\n",
       "    <tr>\n",
       "      <th>5</th>\n",
       "      <td>2018-06-30 06:42:00</td>\n",
       "      <td>2018</td>\n",
       "      <td>6</td>\n",
       "      <td>30</td>\n",
       "      <td>6</td>\n",
       "      <td>42</td>\n",
       "      <td>0</td>\n",
       "      <td>Saturday</td>\n",
       "      <td>181</td>\n",
       "    </tr>\n",
       "  </tbody>\n",
       "</table>\n",
       "</div>"
      ],
      "text/plain": [
       "            timestamp  timestamp_year  timestamp_month  timestamp_day  \\\n",
       "0 2018-07-21 15:33:00            2018                7             21   \n",
       "1 2019-07-15 16:33:00            2019                7             15   \n",
       "2 2018-10-23 15:33:00            2018               10             23   \n",
       "3 1990-07-16 05:42:00            1990                7             16   \n",
       "4 2018-07-21 01:42:00            2018                7             21   \n",
       "5 2018-06-30 06:42:00            2018                6             30   \n",
       "\n",
       "   timestamp_hour  timestamp_minute  timestamp_second  \\\n",
       "0              15                33                 0   \n",
       "1              16                33                 0   \n",
       "2              15                33                 0   \n",
       "3               5                42                 0   \n",
       "4               1                42                 0   \n",
       "5               6                42                 0   \n",
       "\n",
       "  timestamp_day_of_the_week  timestamp_day_of_the_year  \n",
       "0                  Saturday                        202  \n",
       "1                    Monday                        196  \n",
       "2                   Tuesday                        296  \n",
       "3                    Monday                        197  \n",
       "4                  Saturday                        202  \n",
       "5                  Saturday                        181  "
      ]
     },
     "execution_count": 10,
     "metadata": {},
     "output_type": "execute_result"
    }
   ],
   "source": [
    "dsgutils.pd.feateng.get_time_features(data, \"timestamp\", \"%Y-%m-%d %H:%M\", \"timestamp_\")\n",
    "data"
   ]
  },
  {
   "cell_type": "markdown",
   "metadata": {},
   "source": [
    "### Text Preprocess"
   ]
  },
  {
   "cell_type": "markdown",
   "metadata": {},
   "source": [
    "#### `clean_punctuation`"
   ]
  },
  {
   "cell_type": "code",
   "execution_count": 55,
   "metadata": {},
   "outputs": [
    {
     "data": {
      "text/plain": [
       "'Print a clean sentence but keep #hashtag'"
      ]
     },
     "execution_count": 55,
     "metadata": {},
     "output_type": "execute_result"
    }
   ],
   "source": [
    "dsgutils.pd.text_preprocess.clean_punctuation('@Print a! cl$ean sente&nce but keep #hashtag', {'#'})"
   ]
  },
  {
   "cell_type": "markdown",
   "metadata": {},
   "source": [
    "#### `remove_non_ascii`"
   ]
  },
  {
   "cell_type": "code",
   "execution_count": 26,
   "metadata": {},
   "outputs": [
    {
     "data": {
      "text/plain": [
       "'Print a clean sentence'"
      ]
     },
     "execution_count": 26,
     "metadata": {},
     "output_type": "execute_result"
    }
   ],
   "source": [
    "dsgutils.pd.text_preprocess.remove_non_ascii('£Print a¥ clean sente€nce€')"
   ]
  },
  {
   "cell_type": "markdown",
   "metadata": {},
   "source": [
    "#### `unite_standalone_uppercase`"
   ]
  },
  {
   "cell_type": "code",
   "execution_count": 28,
   "metadata": {},
   "outputs": [
    {
     "data": {
      "text/plain": [
       "'Print a Sentence With NO Standalone CAPITALS'"
      ]
     },
     "execution_count": 28,
     "metadata": {},
     "output_type": "execute_result"
    }
   ],
   "source": [
    "dsgutils.pd.text_preprocess.unite_standalone_uppercase(\"Print a Sentence With N O Standalone C A P I T  A L S\")"
   ]
  },
  {
   "cell_type": "markdown",
   "metadata": {},
   "source": [
    "#### `camel_case_split`"
   ]
  },
  {
   "cell_type": "code",
   "execution_count": 30,
   "metadata": {},
   "outputs": [
    {
     "data": {
      "text/plain": [
       "'Print a Sentence With No Standalone Camel Case'"
      ]
     },
     "execution_count": 30,
     "metadata": {},
     "output_type": "execute_result"
    }
   ],
   "source": [
    "dsgutils.pd.text_preprocess.camel_case_split(\"Print a Sentence With NoStandaloneCamelCase\")"
   ]
  },
  {
   "cell_type": "markdown",
   "metadata": {},
   "source": [
    "#### `lemmatize_word`"
   ]
  },
  {
   "cell_type": "code",
   "execution_count": 34,
   "metadata": {},
   "outputs": [
    {
     "name": "stdout",
     "output_type": "stream",
     "text": [
      "feet -> foot\n",
      "houses -> house\n",
      "caring -> care\n",
      "harshly -> harsh\n"
     ]
    }
   ],
   "source": [
    "print(\"feet ->\", dsgutils.pd.text_preprocess.lemmatize_word(\"feet\", 'n'))\n",
    "print(\"houses ->\", dsgutils.pd.text_preprocess.lemmatize_word(\"houses\", 'n'))\n",
    "print(\"caring ->\", dsgutils.pd.text_preprocess.lemmatize_word(\"caring\", 'v'))\n",
    "print(\"harshly ->\", dsgutils.pd.text_preprocess.lemmatize_word(\"harshly\", 'adverb'))"
   ]
  },
  {
   "cell_type": "markdown",
   "metadata": {},
   "source": [
    "#### `normalize_word`"
   ]
  },
  {
   "cell_type": "code",
   "execution_count": 35,
   "metadata": {},
   "outputs": [
    {
     "name": "stdout",
     "output_type": "stream",
     "text": [
      "furious -> furiousness\n",
      "caring -> care\n"
     ]
    }
   ],
   "source": [
    "print(\"furious ->\", dsgutils.pd.text_preprocess.normalize_word('furious', 'a', 'n'))\n",
    "print(\"caring ->\", dsgutils.pd.text_preprocess.normalize_word('caring', 'n', 'v'))"
   ]
  },
  {
   "cell_type": "markdown",
   "metadata": {},
   "source": [
    "### General"
   ]
  },
  {
   "cell_type": "markdown",
   "metadata": {},
   "source": [
    "#### `cosine_list_similarity`"
   ]
  },
  {
   "cell_type": "code",
   "execution_count": 40,
   "metadata": {},
   "outputs": [
    {
     "name": "stdout",
     "output_type": "stream",
     "text": [
      "['a', 'b', 'c'] vs. ['l', 'd', 'k'] -> 0.0\n",
      "['a', 'b', 'c'] vs. ['c', 'a', 'b'] -> 1.0\n",
      "['a', 'b', 'c'] vs. ['c', 'p', 'b'] -> 0.67\n"
     ]
    }
   ],
   "source": [
    "print(['a', 'b', 'c'], \"vs.\" ,['l', 'd', 'k'], \"->\", \\\n",
    "      dsgutils.pd.general.cosine_list_similarity(['a', 'b', 'c'], ['l', 'd', 'k']))\n",
    "print(['a', 'b', 'c'], \"vs.\" ,['c', 'a', 'b'], \"->\",\\\n",
    "      dsgutils.pd.general.cosine_list_similarity(['a', 'b', 'c'], ['c', 'a', 'b']))\n",
    "print(['a', 'b', 'c'], \"vs.\" ,['c', 'p', 'b'], \"->\",\\\n",
    "      dsgutils.pd.general.cosine_list_similarity(['a', 'b', 'c'], ['c', 'p', 'b']))"
   ]
  }
 ],
 "metadata": {
  "kernelspec": {
   "display_name": "Python 3",
   "language": "python",
   "name": "python3"
  },
  "language_info": {
   "codemirror_mode": {
    "name": "ipython",
    "version": 3
   },
   "file_extension": ".py",
   "mimetype": "text/x-python",
   "name": "python",
   "nbconvert_exporter": "python",
   "pygments_lexer": "ipython3",
   "version": "3.5.2"
  },
  "toc": {
   "base_numbering": 1,
   "nav_menu": {},
   "number_sections": true,
   "sideBar": true,
   "skip_h1_title": false,
   "title_cell": "Table of Contents",
   "title_sidebar": "Contents",
   "toc_cell": false,
   "toc_position": {
    "height": "calc(100% - 180px)",
    "left": "10px",
    "top": "150px",
    "width": "306.875px"
   },
   "toc_section_display": true,
   "toc_window_display": true
  }
 },
 "nbformat": 4,
 "nbformat_minor": 2
}
